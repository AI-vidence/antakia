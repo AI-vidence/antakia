{
 "cells": [
  {
   "cell_type": "code",
   "execution_count": 1,
   "id": "885faeb6-4dec-4e47-9ac1-f72a152af6a7",
   "metadata": {},
   "outputs": [],
   "source": [
    "import ipyvuetify as v"
   ]
  },
  {
   "cell_type": "code",
   "execution_count": 16,
   "id": "9d396949-0aad-4ce0-a4c3-afe50d77ad18",
   "metadata": {},
   "outputs": [
    {
     "data": {
      "application/vnd.jupyter.widget-view+json": {
       "model_id": "dd73fd5ee73e4eedb2ece31f47b2aedc",
       "version_major": 2,
       "version_minor": 0
      },
      "text/plain": [
       "Container(children=[TextField(attributes={'hide_details': True, 'single_line': True}, layout=None, style_='wid…"
      ]
     },
     "execution_count": 16,
     "metadata": {},
     "output_type": "execute_result"
    }
   ],
   "source": [
    "slider_args = {\n",
    "    'min': 0,\n",
    "    'max': 10,\n",
    "    'step': 1,\n",
    "    'thumb_label': \"always\",\n",
    "    'thumb_size': 30,\n",
    "    'thumb_color': 'blue',\n",
    "    'class_':'align-center'\n",
    "}\n",
    "v.Container(children=[\n",
    "    v.TextField(density='compact', type_='number', style_=\"width: 70px\", attributes={\"hide_details\": True, \"single_line\":True}),\n",
    "    v.Slider(**slider_args),\n",
    "    v.TextField(density='compact', type_='number', style_=\"width: 70px\", attributes={\"hide_details\": True, \"single_line\":True})\n",
    "      ])"
   ]
  },
  {
   "cell_type": "code",
   "execution_count": 49,
   "id": "a2c839b9-354a-4774-a522-53cd55a395e0",
   "metadata": {},
   "outputs": [
    {
     "data": {
      "application/vnd.jupyter.widget-view+json": {
       "model_id": "a303d6d5f95449b48161312f5d10f9d1",
       "version_major": 2,
       "version_minor": 0
      },
      "text/plain": [
       "Row(children=[TextField(class_='ml-2 pa-2', disabled=False, label='', layout=None, placeholder='', style_='max…"
      ]
     },
     "execution_count": 49,
     "metadata": {},
     "output_type": "execute_result"
    }
   ],
   "source": [
    "import ipyvuetify as v\n",
    "import ipywidgets as widgets\n",
    "\n",
    "rangeSlider = v.RangeSlider(class_='pa-2',\n",
    "        thumb_label = True, \n",
    "        style_=\"max-width:500px\",\n",
    "        height = 90,\n",
    "        v_model=[0,10.0],\n",
    "        min=0,\n",
    "        max=10.0,\n",
    "        step=1,\n",
    "        vertical = False,\n",
    ")\n",
    "\n",
    "min_ = v.TextField(class_='ml-2 pa-2',\n",
    "    style_=\"max-width:100px\",\n",
    "    v_model=rangeSlider.v_model[0],\n",
    "    placeholder='',\n",
    "    label='',\n",
    "    disabled=False,\n",
    "    type_=\"number\"\n",
    ")\n",
    "max_ = v.TextField(class_='pa-2',\n",
    "    style_=\"max-width:100px\",\n",
    "    v_model=rangeSlider.v_model[1],\n",
    "    placeholder='',\n",
    "    label='',\n",
    "    disabled=False\n",
    ")\n",
    "\n",
    "def update_txt(wgt, event, data):\n",
    "    max_.v_model = data[1]\n",
    "    min_.v_model = data[0]\n",
    "    \n",
    "rangeSlider.on_event('end', update_txt)\n",
    "rangeSlider.on_event('start', update_txt)\n",
    "\n",
    "def update_slider(*args):\n",
    "    try:\n",
    "        range_ = [float(min_.v_model), float(max_.v_model)]\n",
    "        range_.sort()\n",
    "    except ValueError:\n",
    "        range_ = rangeSlider.v_model\n",
    "    min_.v_model = range_[0]\n",
    "    max_.v_model = range_[1]\n",
    "    rangeSlider.v_model=range_\n",
    "\n",
    "max_.on_event('blur', update_slider)\n",
    "min_.on_event('blur', update_slider)\n",
    "\n",
    "v.Row(children=[min_, rangeSlider, max_])"
   ]
  },
  {
   "cell_type": "code",
   "execution_count": 1,
   "id": "631603a8-6c1a-4d68-adae-77d685749fa4",
   "metadata": {},
   "outputs": [
    {
     "data": {
      "application/vnd.jupyter.widget-view+json": {
       "model_id": "2a948756e9374588a4050cd6e78c5d5b",
       "version_major": 2,
       "version_minor": 0
      },
      "text/plain": [
       "Row(align='center', children=[TextField(class_='ml-2 pa-2', disabled=False, label='', layout=None, placeholder…"
      ]
     },
     "execution_count": 1,
     "metadata": {},
     "output_type": "execute_result"
    }
   ],
   "source": [
    "from antakia.gui.graphical_elements.rule_slider import RuleSlider\n",
    "rs = RuleSlider(range_min=-10, range_max=10, step=1)\n",
    "rs.widget"
   ]
  },
  {
   "cell_type": "code",
   "execution_count": 3,
   "id": "0155a4ef-0260-4b97-a608-205d7cf64f03",
   "metadata": {},
   "outputs": [
    {
     "data": {
      "text/plain": [
       "[-10, 10]"
      ]
     },
     "execution_count": 3,
     "metadata": {},
     "output_type": "execute_result"
    }
   ],
   "source": [
    "rs.range_slider.v_model"
   ]
  },
  {
   "cell_type": "code",
   "execution_count": null,
   "id": "cc0109c8-be47-4069-8d2b-7cbcc2e7b29f",
   "metadata": {},
   "outputs": [],
   "source": []
  },
  {
   "cell_type": "code",
   "execution_count": null,
   "id": "80648eb9-423f-4841-bf03-1197b2b5ff93",
   "metadata": {},
   "outputs": [],
   "source": []
  }
 ],
 "metadata": {
  "kernelspec": {
   "display_name": "Python 3 (ipykernel)",
   "language": "python",
   "name": "python3"
  },
  "language_info": {
   "codemirror_mode": {
    "name": "ipython",
    "version": 3
   },
   "file_extension": ".py",
   "mimetype": "text/x-python",
   "name": "python",
   "nbconvert_exporter": "python",
   "pygments_lexer": "ipython3",
   "version": "3.11.6"
  }
 },
 "nbformat": 4,
 "nbformat_minor": 5
}
