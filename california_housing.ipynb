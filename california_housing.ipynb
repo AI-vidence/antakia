{
 "cells": [
  {
   "cell_type": "code",
   "execution_count": 1,
   "metadata": {
    "tags": []
   },
   "outputs": [],
   "source": [
    "import pandas as pd\n",
    "import numpy as np\n",
    "import warnings\n",
    "from numba.core.errors import NumbaDeprecationWarning\n",
    "warnings.simplefilter(action='ignore', category=FutureWarning)\n",
    "warnings.simplefilter(action='ignore', category=UserWarning)\n",
    "warnings.simplefilter(action='ignore', category=NumbaDeprecationWarning)"
   ]
  },
  {
   "cell_type": "code",
   "execution_count": 2,
   "metadata": {
    "tags": []
   },
   "outputs": [],
   "source": [
    "df = pd.read_csv('data/california_housing/export_epita.csv')\n",
    "df = df.drop(['Unnamed: 0'], axis=1)\n",
    "df2 = pd.read_csv('data/california_housing/cities.csv')\n",
    "\n",
    "\n",
    "# Nombre de maisons à prendre en compte (20k c'est beaucoup trop)\n",
    "# Quelques conditions pour nettoyer la base de données\n",
    "\n",
    "df = df.loc[df['Population']<10000]\n",
    "df = df.loc[df['AveOccup']<6]\n",
    "df = df.loc[df['AveBedrms']<1.5]\n",
    "df = df.loc[df['HouseAge']<50]\n",
    "\n",
    "# Seulement San Francisco :\n",
    "# Latitude > 37,2\n",
    "# Latitude < 38,07\n",
    "# Longitude > -122,5\n",
    "# Longitude < -121,75\n",
    "#df = df.loc[(df['Latitude']<38.07)&(df['Latitude']>37.2)]\n",
    "#df = df.loc[(df['Longitude']>-122.5)&(df['Longitude']<-121.75)]\n",
    "\n",
    "save_df = df.copy()\n",
    "\n",
    "N=200\n",
    "n = N/len(df)\n",
    "\n",
    "X_all = df.iloc[:,0:8].copy()\n",
    "df1 = df.sample(frac=n, random_state=14)\n",
    "df1 = df1.reset_index(drop=True)\n",
    "save_df1 = df1.copy()\n",
    "\n",
    "X = df1.iloc[:,0:8]\n",
    "Y = df1.iloc[:,9]"
   ]
  },
  {
   "cell_type": "code",
   "execution_count": 3,
   "metadata": {
    "tags": []
   },
   "outputs": [],
   "source": [
    "from sklearn.ensemble import GradientBoostingRegressor\n",
    "\n",
    "model = GradientBoostingRegressor(random_state = 9)\n",
    "model.fit(X, Y)\n",
    "\n",
    "#print('Prédictions avec un XGBoost:')\n",
    "#print('Y_pred =', list(np.around(model.predict(X)[:5], 3)))\n",
    "\n",
    "SHAP = df1.iloc[:,[10,11,12,13,14,15,16,17]]"
   ]
  },
  {
   "attachments": {},
   "cell_type": "markdown",
   "metadata": {},
   "source": [
    "**Démarrage d'AntakIA**"
   ]
  },
  {
   "cell_type": "code",
   "execution_count": 4,
   "metadata": {
    "slideshow": {
     "slide_type": ""
    },
    "tags": []
   },
   "outputs": [
    {
     "data": {
      "application/vnd.jupyter.widget-view+json": {
       "model_id": "47d22db3b9e047c28af09629374834ad",
       "version_major": 2,
       "version_minor": 0
      },
      "text/plain": [
       "Layout(children=[Image(value=b'\\x89PNG\\r\\n\\x1a\\n\\x00\\x00\\x00\\rIHDR\\x00\\x00\\t2\\x00\\x00\\n\\xd5\\x08\\x06\\x00\\x00\\x0…"
      ]
     },
     "metadata": {},
     "output_type": "display_data"
    },
    {
     "data": {
      "application/vnd.jupyter.widget-view+json": {
       "model_id": "4bc0bb4a520148cf94b5ef69a96a52f2",
       "version_major": 2,
       "version_minor": 0
      },
      "text/plain": [
       "VBox(children=(AppBar(children=[Layout(children=[Image(value=b'\\x89PNG\\r\\n\\x1a\\n\\x00\\x00\\x00\\rIHDR\\x00\\x00\\x0e…"
      ]
     },
     "metadata": {},
     "output_type": "display_data"
    }
   ],
   "source": [
    "import antakia\n",
    "\n",
    "explain = antakia.Xplainer(X = X, Y = Y, model = model)\n",
    "display(explain.interface(exp_val=SHAP, default_projection = \"PaCMAP\"))"
   ]
  },
  {
   "cell_type": "code",
   "execution_count": null,
   "metadata": {},
   "outputs": [],
   "source": []
  },
  {
   "cell_type": "code",
   "execution_count": null,
   "metadata": {},
   "outputs": [],
   "source": []
  },
  {
   "cell_type": "code",
   "execution_count": null,
   "metadata": {},
   "outputs": [],
   "source": []
  }
 ],
 "metadata": {
  "kernelspec": {
   "display_name": "antakia",
   "language": "python",
   "name": "python3"
  },
  "language_info": {
   "codemirror_mode": {
    "name": "ipython",
    "version": 3
   },
   "file_extension": ".py",
   "mimetype": "text/x-python",
   "name": "python",
   "nbconvert_exporter": "python",
   "pygments_lexer": "ipython3",
   "version": "3.11.4"
  }
 },
 "nbformat": 4,
 "nbformat_minor": 4
}
