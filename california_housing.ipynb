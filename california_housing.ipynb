{
 "cells": [
  {
   "cell_type": "code",
   "execution_count": 1,
   "metadata": {
    "tags": []
   },
   "outputs": [],
   "source": [
    "import pandas as pd\n",
    "\n",
    "import numpy as np\n",
    "\n",
    "import warnings\n",
    "\n",
    "from numba.core.errors import NumbaDeprecationWarning\n",
    "warnings.simplefilter(action='ignore', category=FutureWarning)\n",
    "warnings.simplefilter(action='ignore', category=UserWarning)\n",
    "warnings.simplefilter(action='ignore', category=NumbaDeprecationWarning)"
   ]
  },
  {
   "cell_type": "code",
   "execution_count": 2,
   "metadata": {
    "tags": []
   },
   "outputs": [],
   "source": [
    "df = pd.read_csv('data/california_housing/export_epita.csv')\n",
    "df = df.drop(['Unnamed: 0'], axis=1)\n",
    "df2 = pd.read_csv('data/california_housing/cities.csv')\n",
    "#nombre de maisons à prendre en compte (20k c'est beaucoup trop)\n",
    "# quelques condition pour nettoyer la base de données\n",
    "df = df.loc[df['Population']<10000]\n",
    "df = df.loc[df['AveOccup']<6]\n",
    "df = df.loc[df['AveBedrms']<1.5]\n",
    "df = df.loc[df['HouseAge']<50]\n",
    "\n",
    "# Seulement San Francisco :\n",
    "# Latitude > 37,2\n",
    "# Latitude < 38,07\n",
    "# Longitude > -122,5\n",
    "# Longitude < -121,75\n",
    "\n",
    "#df = df.loc[(df['Latitude']<38.07)&(df['Latitude']>37.2)]\n",
    "#df = df.loc[(df['Longitude']>-122.5)&(df['Longitude']<-121.75)]\n",
    "\n",
    "save_df = df.copy()\n",
    "\n",
    "N=1000\n",
    "n = N/len(df)\n",
    "X_all = df.iloc[:,0:8].copy()\n",
    "df1 = df.sample(frac=n, random_state=14)\n",
    "df1 = df1.reset_index(drop=True)\n",
    "save_df1 = df1.copy()\n",
    "\n",
    "X = df1.iloc[:,0:8]\n",
    "Y = df1.iloc[:,9]"
   ]
  },
  {
   "cell_type": "code",
   "execution_count": 3,
   "metadata": {
    "tags": []
   },
   "outputs": [],
   "source": [
    "from sklearn.ensemble import GradientBoostingRegressor\n",
    "model = GradientBoostingRegressor(random_state = 9)\n",
    "model.fit(X, Y)\n",
    "\n",
    "SHAP = df1.iloc[:,[10,11,12,13,14,15,16,17]]"
   ]
  },
  {
   "cell_type": "markdown",
   "metadata": {},
   "source": [
    "**Démarrage d'AntakIA**"
   ]
  },
  {
   "cell_type": "code",
   "execution_count": 4,
   "metadata": {
    "slideshow": {
     "slide_type": ""
    },
    "tags": []
   },
   "outputs": [
    {
     "data": {
      "application/vnd.jupyter.widget-view+json": {
       "model_id": "349cfe22ddf7410aac15dae69f604420",
       "version_major": 2,
       "version_minor": 0
      },
      "text/plain": [
       "Layout(children=[Image(value=b'\\x89PNG\\r\\n\\x1a\\n\\x00\\x00\\x00\\rIHDR\\x00\\x00\\t2\\x00\\x00\\n\\xd5\\x08\\x06\\x00\\x00\\x0…"
      ]
     },
     "metadata": {},
     "output_type": "display_data"
    },
    {
     "data": {
      "application/vnd.jupyter.widget-view+json": {
       "model_id": "11fa4451cda645daba5d35a6dd5a9446",
       "version_major": 2,
       "version_minor": 0
      },
      "text/plain": [
       "VBox(children=(AppBar(children=[Layout(children=[Image(value=b'\\x89PNG\\r\\n\\x1a\\n\\x00\\x00\\x00\\rIHDR\\x00\\x00\\x0e…"
      ]
     },
     "metadata": {},
     "output_type": "display_data"
    }
   ],
   "source": [
    "import antakia\n",
    "import sklearn\n",
    "\n",
    "mod = sklearn.linear_model.LinearRegression()\n",
    "\n",
    "explain = antakia.Xplainer(X = X, Y = Y, model = model)\n",
    "\n",
    "reg1 = antakia.create_save(np.zeros(500), \"Sauvegarde importée 1\")\n",
    "reg2 = antakia.create_save(np.concatenate([np.zeros(300), np.ones(200)]), \"Sauvegarde importée 2\", [mod, mod])\n",
    "#reg3 = antakia.load_save(local='data_save/ma_sauvegarde.json')[-1]\n",
    "\n",
    "regions=[reg1, reg2]\n",
    "#regions=[reg1, reg2, reg3]\n",
    "\n",
    "display(explain.interface(exp_val=SHAP, default_projection = \"PaCMAP\", map=True))"
   ]
  },
  {
   "cell_type": "code",
   "execution_count": 5,
   "metadata": {
    "tags": []
   },
   "outputs": [
    {
     "ename": "TypeError",
     "evalue": "string indices must be integers",
     "output_type": "error",
     "traceback": [
      "\u001b[0;31m---------------------------------------------------------------------------\u001b[0m",
      "\u001b[0;31mTypeError\u001b[0m                                 Traceback (most recent call last)",
      "Cell \u001b[0;32mIn[5], line 1\u001b[0m\n\u001b[0;32m----> 1\u001b[0m regles \u001b[38;5;241m=\u001b[39m \u001b[43mexplain\u001b[49m\u001b[38;5;241;43m.\u001b[39;49m\u001b[43mresult\u001b[49m\u001b[43m(\u001b[49m\u001b[43m)\u001b[49m\u001b[43m[\u001b[49m\u001b[38;5;241;43m0\u001b[39;49m\u001b[43m]\u001b[49m\u001b[43m[\u001b[49m\u001b[38;5;124;43m'\u001b[39;49m\u001b[38;5;124;43mrules\u001b[39;49m\u001b[38;5;124;43m'\u001b[39;49m\u001b[43m]\u001b[49m\n\u001b[1;32m      2\u001b[0m regles\n",
      "\u001b[0;31mTypeError\u001b[0m: string indices must be integers"
     ]
    }
   ],
   "source": [
    "regles = explain.result()[0]['rules']\n",
    "regles"
   ]
  },
  {
   "cell_type": "code",
   "execution_count": null,
   "metadata": {
    "tags": []
   },
   "outputs": [],
   "source": [
    "new_df = antakia.from_rules(X, regles)\n",
    "new_df"
   ]
  }
 ],
 "metadata": {
  "kernelspec": {
   "display_name": "antakia-venv",
   "language": "python",
   "name": "antakia-venv"
  },
  "language_info": {
   "codemirror_mode": {
    "name": "ipython",
    "version": 3
   },
   "file_extension": ".py",
   "mimetype": "text/x-python",
   "name": "python",
   "nbconvert_exporter": "python",
   "pygments_lexer": "ipython3",
   "version": "3.10.12"
  }
 },
 "nbformat": 4,
 "nbformat_minor": 4
}
