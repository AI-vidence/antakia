{
 "cells": [
  {
   "cell_type": "code",
   "execution_count": 1,
   "metadata": {},
   "outputs": [],
   "source": [
    "from IPython.display import display\n",
    "from ipywidgets import Layout, widgets\n",
    "from ipywidgets.widgets import Widget\n",
    "import ipyvuetify as v\n",
    "from importlib.resources import files\n",
    "from copy import copy"
   ]
  },
  {
   "cell_type": "code",
   "execution_count": 2,
   "metadata": {},
   "outputs": [
    {
     "data": {
      "application/vnd.jupyter.widget-view+json": {
       "model_id": "ebe501321226495bac9c4fe648c885d6",
       "version_major": 2,
       "version_minor": 0
      },
      "text/plain": [
       "ProgressLinear(color='blue', layout=None, v_model=0)"
      ]
     },
     "metadata": {},
     "output_type": "display_data"
    }
   ],
   "source": [
    "import threading\n",
    "import time\n",
    "pl = v.ProgressLinear(color=\"blue\", width=\"10\", size=\"10\", v_model=0)\n",
    "display(pl) \n",
    "def long_task():\n",
    "    for i in range(10):\n",
    "        time.sleep(1)\n",
    "        pl.v_model += 10\n",
    "a_thread = threading.Thread(target=long_task)\n",
    "a_thread.start()"
   ]
  },
  {
   "cell_type": "markdown",
   "metadata": {},
   "source": [
    "Tabs"
   ]
  },
  {
   "cell_type": "code",
   "execution_count": 3,
   "metadata": {},
   "outputs": [
    {
     "data": {
      "application/vnd.jupyter.widget-view+json": {
       "model_id": "1dd01e7b58774ae6b40b67c0415e9a1d",
       "version_major": 2,
       "version_minor": 0
      },
      "text/plain": [
       "Output(layout=Layout(border_bottom='1px solid black', border_left='1px solid black', border_right='1px solid b…"
      ]
     },
     "metadata": {},
     "output_type": "display_data"
    },
    {
     "data": {
      "application/vnd.jupyter.widget-view+json": {
       "model_id": "922e0761199a4e5dbd2dc1290fcf8871",
       "version_major": 2,
       "version_minor": 0
      },
      "text/plain": [
       "Output(layout=Layout(border_bottom='1px solid black', border_left='1px solid black', border_right='1px solid b…"
      ]
     },
     "metadata": {},
     "output_type": "display_data"
    },
    {
     "data": {
      "application/vnd.jupyter.widget-view+json": {
       "model_id": "afe9a40b4b7f44b78f890b8b95822e17",
       "version_major": 2,
       "version_minor": 0
      },
      "text/plain": [
       "Output(layout=Layout(border_bottom='1px solid black', border_left='1px solid black', border_right='1px solid b…"
      ]
     },
     "metadata": {},
     "output_type": "display_data"
    },
    {
     "data": {
      "application/vnd.jupyter.widget-view+json": {
       "model_id": "f486da9f51c240c59d6a7cb0b8229583",
       "version_major": 2,
       "version_minor": 0
      },
      "text/plain": [
       "VBox(children=(AppBar(children=[Layout(children=[Image(value=b'\\x89PNG\\r\\n\\x1a\\n\\x00\\x00\\x00\\rIHDR\\x00\\x00\\x0e…"
      ]
     },
     "metadata": {},
     "output_type": "display_data"
    }
   ],
   "source": [
    "import antakia.gui_utils as gui_utils\n",
    "app_graph = gui_utils.get_app_graph()\n",
    "display(app_graph.get_root_widget())"
   ]
  },
  {
   "cell_type": "code",
   "execution_count": 4,
   "metadata": {},
   "outputs": [
    {
     "data": {
      "application/vnd.jupyter.widget-view+json": {
       "model_id": "77c6fcafdd9546b09ec035e44f98ea0c",
       "version_major": 2,
       "version_minor": 0
      },
      "text/plain": [
       "Tabs(children=[Tab(children=['1. Selection'], layout=None), Tab(children=['2. Refinement'], layout=None), Tab(…"
      ]
     },
     "execution_count": 4,
     "metadata": {},
     "output_type": "execute_result"
    }
   ],
   "source": [
    "\n",
    "tab_list = [v.Tab(children=[\"1. Selection\"]), v.Tab(children=[\"2. Refinement\"]), v.Tab(children=[\"3. Sub-model\"]), v.Tab(children=[\"4. Regions\"])]\n",
    "\n",
    "content_list = [\n",
    "    v.TabItem(children=[\"Ceci est mon texte\"]),\n",
    "    v.TabItem(children=[\"Ut enim ad minim veniam, quis nostrud exercitation ullamco laboris nisi ut aliquip ex ea commodo consequat.\"]), \n",
    "    v.TabItem(children=[\"Duis aute irure dolor in reprehenderit in voluptate velit esse cillum dolore eu fugiat nulla pariatur. \"]),\n",
    "    v.TabItem(children=[\"Excepteur sint occaecat cupidatat non proident, sunt in culpa qui officia deserunt mollit anim id est laborum.\"])\n",
    "    ]\n",
    "\n",
    "tabs = v.Tabs(\n",
    "    v_model=0, \n",
    "    children=tab_list + content_list)\n",
    "tabs\n"
   ]
  },
  {
   "cell_type": "markdown",
   "metadata": {},
   "source": [
    "Our proj settings menu"
   ]
  },
  {
   "cell_type": "code",
   "execution_count": 5,
   "metadata": {},
   "outputs": [
    {
     "data": {
      "application/vnd.jupyter.widget-view+json": {
       "model_id": "fb0f817555f24cc0ae49da7174ae0329",
       "version_major": 2,
       "version_minor": 0
      },
      "text/plain": [
       "Menu(children=[Card(children=[VBox(children=(Slider(label='Number of neighbours', layout=None, max=30.0, min=5…"
      ]
     },
     "execution_count": 5,
     "metadata": {},
     "output_type": "execute_result"
    }
   ],
   "source": [
    "proj_settings_menu = v.Menu( \n",
    "        v_slots=[\n",
    "        {\n",
    "            \"name\": \"activator\",\n",
    "            \"variable\": \"props\",\n",
    "            \"children\": v.Btn(\n",
    "                v_on=\"props.on\",\n",
    "                icon=True,\n",
    "                size=\"x-large\",\n",
    "                children=[v.Icon(children=[\"mdi-cogs\"], size=\"large\")],\n",
    "                class_=\"ma-2 pa-3\",\n",
    "                elevation=\"3\",\n",
    "            ),\n",
    "        }\n",
    "        ],\n",
    "        children=[\n",
    "            v.Card( \n",
    "                class_=\"pa-4\",\n",
    "                rounded=True,\n",
    "                children=[\n",
    "                    widgets.VBox([ \n",
    "                        v.Slider(\n",
    "                            v_model=10, min=5, max=30, step=1, label=\"Number of neighbours\"\n",
    "                        ),\n",
    "                        v.Html(class_=\"ml-3\", tag=\"h3\", children=[\"#\"]),\n",
    "                        v.Slider(\n",
    "                            v_model=0.5, min=0.1, max=0.9, step=0.1, label=\"MN ratio\"\n",
    "                        ),\n",
    "                        v.Html(class_=\"ml-3\", tag=\"h3\", children=[\"#\"]),\n",
    "                        v.Slider(\n",
    "                            v_model=2, min=0.1, max=5, step=0.1, label=\"FP ratio\"\n",
    "                        ),\n",
    "                        v.Html(class_=\"ml-3\", tag=\"h3\", children=[\"#\"]),\n",
    "                        ],\n",
    "                    )\n",
    "                    ],\n",
    "                min_width=\"500\",\n",
    "            )\n",
    "        ],\n",
    "    v_model=False,\n",
    "    close_on_content_click=False,\n",
    "    offset_y=True,\n",
    "    )\n",
    "\n",
    "proj_settings_menu"
   ]
  },
  {
   "cell_type": "markdown",
   "metadata": {},
   "source": [
    "This compute menu works"
   ]
  },
  {
   "cell_type": "code",
   "execution_count": 6,
   "metadata": {},
   "outputs": [
    {
     "data": {
      "application/vnd.jupyter.widget-view+json": {
       "model_id": "15bdf2481a9747ab8ad2e85e4469702a",
       "version_major": 2,
       "version_minor": 0
      },
      "text/plain": [
       "Menu(children=[Card(children=[VBox(children=(Tabs(children=[Tab(children=['SHAP'], layout=None), Tab(children=…"
      ]
     },
     "execution_count": 6,
     "metadata": {},
     "output_type": "execute_result"
    }
   ],
   "source": [
    "tab_list = [v.Tab(children=[\"SHAP\"]), v.Tab(children=[\"LIME\"])]\n",
    "content_list = [\n",
    "    v.TabItem(children=[\n",
    "        v.Col(\n",
    "            class_=\"d-flex flex-column align-center\",\n",
    "            children=[\n",
    "                    v.Html(\n",
    "                        tag=\"h3\",\n",
    "                        class_=\"mb-3\",\n",
    "                        children=[\"Compute SHAP values\"],\n",
    "                    ),\n",
    "                    v.ProgressLinear(\n",
    "                        style_=\"width: 80%\",\n",
    "                        v_model=0,\n",
    "                        color=\"primary\",\n",
    "                        height=\"15\",\n",
    "                        striped=True,\n",
    "                    ),\n",
    "                    v.TextField(\n",
    "                        class_=\"w-100\",\n",
    "                        style_=\"width: 100%\",\n",
    "                        v_model = \"0.00% [0/?] - 0m0s (estimated time : /min /s)\",\n",
    "                        readonly=True,\n",
    "                    ),\n",
    "                    v.Btn(\n",
    "                        children=[v.Icon(class_=\"mr-2\", children=[\"mdi-calculator-variant\"]), \"Compute values\"],\n",
    "                        class_=\"ma-2 ml-6 pa-3\",\n",
    "                        elevation=\"3\",\n",
    "                        v_model=\"SHAP\",\n",
    "                        color=\"primary\",\n",
    "                    ),\n",
    "            ],\n",
    "        )\n",
    "    ]),\n",
    "    v.TabItem(children=[\n",
    "        v.Col(\n",
    "            class_=\"d-flex flex-column align-center\",\n",
    "            children=[\n",
    "                    v.Html(\n",
    "                        tag=\"h3\",\n",
    "                        class_=\"mb-3\",\n",
    "                        children=[\"Compute LIME values\"],\n",
    "                    ),\n",
    "                    v.ProgressLinear(\n",
    "                        style_=\"width: 80%\",\n",
    "                        v_model=0,\n",
    "                        color=\"primary\",\n",
    "                        height=\"15\",\n",
    "                        striped=True,\n",
    "                    ),\n",
    "                    v.TextField(\n",
    "                        class_=\"w-100\",\n",
    "                        style_=\"width: 100%\",\n",
    "                        v_model = \"0.00% [0/?] - 0m0s (estimated time : /min /s)\",\n",
    "                        readonly=True,\n",
    "                    ),\n",
    "                    v.Btn(\n",
    "                        children=[v.Icon(class_=\"mr-2\", children=[\"mdi-calculator-variant\"]), \"Compute values\"],\n",
    "                        class_=\"ma-2 ml-6 pa-3\",\n",
    "                        elevation=\"3\",\n",
    "                        v_model=\"LIME\",\n",
    "                        color=\"primary\",\n",
    "                    ),\n",
    "            ],\n",
    "        )\n",
    "        ])\n",
    "    ]\n",
    "\n",
    "new_compute_menu = v.Menu( \n",
    "        v_slots=[\n",
    "        {\n",
    "            \"name\": \"activator\",\n",
    "            \"variable\": \"props\",\n",
    "            \"children\": v.Btn(\n",
    "                v_on=\"props.on\",\n",
    "                icon=True,\n",
    "                size=\"x-large\",\n",
    "                children=[v.Icon(children=[\"mdi-timer-sand\"], size=\"large\")],\n",
    "                class_=\"ma-2 pa-3\",\n",
    "                elevation=\"3\",\n",
    "            ),\n",
    "        }\n",
    "        ],\n",
    "        children=[\n",
    "            v.Card( \n",
    "                class_=\"pa-4\",\n",
    "                rounded=True,\n",
    "                children=[\n",
    "                    widgets.VBox([ \n",
    "                        v.Tabs(\n",
    "                            v_model=0, \n",
    "                            children=tab_list + content_list\n",
    "                            )\n",
    "                        ],\n",
    "                    )\n",
    "                    ],\n",
    "                min_width=\"500\",\n",
    "            )\n",
    "        ],\n",
    "    v_model=False,\n",
    "    close_on_content_click=False,\n",
    "    offset_y=True,\n",
    "    )\n",
    "\n",
    "new_compute_menu"
   ]
  },
  {
   "cell_type": "code",
   "execution_count": 7,
   "metadata": {},
   "outputs": [
    {
     "data": {
      "text/plain": [
       "ipyvuetify.generated.ProgressLinear.ProgressLinear"
      ]
     },
     "execution_count": 7,
     "metadata": {},
     "output_type": "execute_result"
    }
   ],
   "source": [
    "splash = gui_utils.get_splash_graph()\n",
    "# type(splash.get_widget_at_address(\"110\"))\n",
    "type(splash.get_widget_at_address(\"210\"))"
   ]
  }
 ],
 "metadata": {
  "kernelspec": {
   "display_name": "antakia",
   "language": "python",
   "name": "python3"
  },
  "language_info": {
   "codemirror_mode": {
    "name": "ipython",
    "version": 3
   },
   "file_extension": ".py",
   "mimetype": "text/x-python",
   "name": "python",
   "nbconvert_exporter": "python",
   "pygments_lexer": "ipython3",
   "version": "3.10.13"
  },
  "orig_nbformat": 4
 },
 "nbformat": 4,
 "nbformat_minor": 2
}
