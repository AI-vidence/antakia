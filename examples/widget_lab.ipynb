{
 "cells": [
  {
   "cell_type": "code",
   "execution_count": 1,
   "metadata": {},
   "outputs": [],
   "source": [
    "from IPython.display import display\n",
    "from ipywidgets import Layout, widgets\n",
    "from ipywidgets.widgets import Widget\n",
    "import ipyvuetify as v\n",
    "from importlib.resources import files\n",
    "from copy import copy\n",
    "import pandas as pd"
   ]
  },
  {
   "cell_type": "code",
   "execution_count": 2,
   "metadata": {},
   "outputs": [
    {
     "data": {
      "application/vnd.jupyter.widget-view+json": {
       "model_id": "915412b22e6b42a9a4003e6920b6bbfd",
       "version_major": 2,
       "version_minor": 0
      },
      "text/plain": [
       "DataTable(disable_sort=False, headers=[{'text': 'num_legs', 'sortable': True, 'value': 'num_legs'}, {'text': '…"
      ]
     },
     "execution_count": 2,
     "metadata": {},
     "output_type": "execute_result"
    }
   ],
   "source": [
    "df = pd.DataFrame(\n",
    "    {\n",
    "        'num_legs': [2, 4, 8, 0],\n",
    "        'num_wings': [2, 0, 0, 0],\n",
    "        'num_specimen_seen': [10, 2, 1, 8]\n",
    "    },\n",
    "    index=['falcon', 'dog', 'spider', 'fish'])\n",
    "\n",
    "columns = [\n",
    "    {\"text\": c, \"sortable\": True, \"value\": c} for c in df.columns\n",
    "]\n",
    "dt = v.DataTable(\n",
    "    v_model=[],\n",
    "    headers=columns,\n",
    "    items=df.to_dict(\"records\"),\n",
    "    item_value=\"Save #\",\n",
    "    item_key=\"Save #\",\n",
    "    hide_default_footer=False,\n",
    "    disable_sort=False\n",
    ")\n",
    "dt"
   ]
  },
  {
   "cell_type": "code",
   "execution_count": 3,
   "metadata": {},
   "outputs": [
    {
     "data": {
      "application/vnd.jupyter.widget-view+json": {
       "model_id": "efdda14cfaf84a788a7eea446cf7cf81",
       "version_major": 2,
       "version_minor": 0
      },
      "text/plain": [
       "ExpansionPanels(children=[ExpansionPanel(children=[ExpansionPanelHeader(children=['My ExpansionPanelHeader'], …"
      ]
     },
     "execution_count": 3,
     "metadata": {},
     "output_type": "execute_result"
    }
   ],
   "source": [
    "ep = v.ExpansionPanels( \n",
    "    class_=\"ma-2\",\n",
    "    disabled = True,\n",
    "    children=[\n",
    "        v.ExpansionPanel( \n",
    "            children=[\n",
    "                v.ExpansionPanelHeader( \n",
    "                    children=[\n",
    "                        \"My ExpansionPanelHeader\"\n",
    "                    ]\n",
    "                ), \n",
    "                v.ExpansionPanelContent(\n",
    "                    children=[\n",
    "                        v.Alert(\n",
    "                            max_height=\"400px\",\n",
    "                            style_=\"overflow: auto\",\n",
    "                            elevation=\"0\",\n",
    "                            children=[\n",
    "                                v.Row(\n",
    "                                    class_=\"d-flex flex-row justify-space-between\",\n",
    "                                    children=[\n",
    "                                        v.Layout(\n",
    "                                            style_=\"min-width: 47%; max-width: 47%\",\n",
    "                                            children=[\n",
    "                                                v.Html(\n",
    "                                                    tag=\"h4\",\n",
    "                                                    children=[\n",
    "                                                        \"Machin\"\n",
    "                                                    ],\n",
    "                                                )\n",
    "                                            ],\n",
    "                                        ),\n",
    "                                        v.Divider(class_=\"ma-2\", vertical=True),\n",
    "                                        v.Layout( \n",
    "                                            style_=\"min-width: 47%; max-width: 47%\",\n",
    "                                            children=[\n",
    "                                                v.Html(\n",
    "                                                    tag=\"h4\",\n",
    "                                                    children=[\n",
    "                                                        \"Truc\"\n",
    "                                                    ],\n",
    "                                                )\n",
    "                                            ],\n",
    "                                        ),\n",
    "                                    ],\n",
    "                                ),\n",
    "                            ],\n",
    "                        )\n",
    "                    ]\n",
    "                )\n",
    "            ]\n",
    "        )\n",
    "    ]\n",
    ")\n",
    "\n",
    "ep"
   ]
  },
  {
   "cell_type": "markdown",
   "metadata": {},
   "source": [
    "AntakIA"
   ]
  },
  {
   "cell_type": "code",
   "execution_count": 4,
   "metadata": {},
   "outputs": [
    {
     "data": {
      "application/vnd.jupyter.widget-view+json": {
       "model_id": "95eda507fc72470e9f99ff165583a1ef",
       "version_major": 2,
       "version_minor": 0
      },
      "text/plain": [
       "Output(layout=Layout(border_bottom='1px solid black', border_left='1px solid black', border_right='1px solid b…"
      ]
     },
     "metadata": {},
     "output_type": "display_data"
    },
    {
     "data": {
      "application/vnd.jupyter.widget-view+json": {
       "model_id": "a0b2ca7875fe43c0be4bdc13de5e7cea",
       "version_major": 2,
       "version_minor": 0
      },
      "text/plain": [
       "Output(layout=Layout(border_bottom='1px solid black', border_left='1px solid black', border_right='1px solid b…"
      ]
     },
     "metadata": {},
     "output_type": "display_data"
    },
    {
     "data": {
      "application/vnd.jupyter.widget-view+json": {
       "model_id": "4619f3b315824d9b967cda0448b8049b",
       "version_major": 2,
       "version_minor": 0
      },
      "text/plain": [
       "Output(layout=Layout(border_bottom='1px solid black', border_left='1px solid black', border_right='1px solid b…"
      ]
     },
     "metadata": {},
     "output_type": "display_data"
    },
    {
     "data": {
      "application/vnd.jupyter.widget-view+json": {
       "model_id": "6c55239f55074e7eb8b66506c05481da",
       "version_major": 2,
       "version_minor": 0
      },
      "text/plain": [
       "VBox(children=(AppBar(children=[Layout(children=[Image(value=b'\\x89PNG\\r\\n\\x1a\\n\\x00\\x00\\x00\\rIHDR\\x00\\x00\\x0e…"
      ]
     },
     "metadata": {},
     "output_type": "display_data"
    }
   ],
   "source": [
    "from antakia.gui_utils import app_widget, splash_widget\n",
    "display(app_widget)"
   ]
  },
  {
   "cell_type": "markdown",
   "metadata": {},
   "source": [
    "Tabs"
   ]
  },
  {
   "cell_type": "code",
   "execution_count": 5,
   "metadata": {},
   "outputs": [
    {
     "data": {
      "application/vnd.jupyter.widget-view+json": {
       "model_id": "4dba0402258b47028513988c49a061ce",
       "version_major": 2,
       "version_minor": 0
      },
      "text/plain": [
       "Tabs(children=[Tab(children=['1. Selection'], layout=None), Tab(children=['2. Refinement'], layout=None), Tab(…"
      ]
     },
     "execution_count": 5,
     "metadata": {},
     "output_type": "execute_result"
    }
   ],
   "source": [
    "\n",
    "tab_list = [v.Tab(children=[\"1. Selection\"]), v.Tab(children=[\"2. Refinement\"]), v.Tab(children=[\"3. Sub-model\"]), v.Tab(children=[\"4. Regions\"])]\n",
    "\n",
    "content_list = [\n",
    "    v.TabItem(children=[\"Ceci est mon texte\"]),\n",
    "    v.TabItem(children=[\"Ut enim ad minim veniam, quis nostrud exercitation ullamco laboris nisi ut aliquip ex ea commodo consequat.\"]), \n",
    "    v.TabItem(children=[\"Duis aute irure dolor in reprehenderit in voluptate velit esse cillum dolore eu fugiat nulla pariatur. \"]),\n",
    "    v.TabItem(children=[\"Excepteur sint occaecat cupidatat non proident, sunt in culpa qui officia deserunt mollit anim id est laborum.\"])\n",
    "    ]\n",
    "\n",
    "tabs = v.Tabs(\n",
    "    v_model=0, \n",
    "    children=tab_list + content_list)\n",
    "tabs\n"
   ]
  },
  {
   "cell_type": "markdown",
   "metadata": {},
   "source": [
    "Our proj settings menu"
   ]
  },
  {
   "cell_type": "code",
   "execution_count": 6,
   "metadata": {},
   "outputs": [
    {
     "data": {
      "application/vnd.jupyter.widget-view+json": {
       "model_id": "a19125076fa14186b64ecaf6e8fa3b97",
       "version_major": 2,
       "version_minor": 0
      },
      "text/plain": [
       "Menu(children=[Card(children=[VBox(children=(Slider(label='Number of neighbours', layout=None, max=30.0, min=5…"
      ]
     },
     "execution_count": 6,
     "metadata": {},
     "output_type": "execute_result"
    }
   ],
   "source": [
    "proj_settings_menu = v.Menu( \n",
    "        v_slots=[\n",
    "        {\n",
    "            \"name\": \"activator\",\n",
    "            \"variable\": \"props\",\n",
    "            \"children\": v.Btn(\n",
    "                v_on=\"props.on\",\n",
    "                icon=True,\n",
    "                size=\"x-large\",\n",
    "                children=[v.Icon(children=[\"mdi-cogs\"], size=\"large\")],\n",
    "                class_=\"ma-2 pa-3\",\n",
    "                elevation=\"3\",\n",
    "            ),\n",
    "        }\n",
    "        ],\n",
    "        children=[\n",
    "            v.Card( \n",
    "                class_=\"pa-4\",\n",
    "                rounded=True,\n",
    "                children=[\n",
    "                    widgets.VBox([ \n",
    "                        v.Slider(\n",
    "                            v_model=10, min=5, max=30, step=1, label=\"Number of neighbours\"\n",
    "                        ),\n",
    "                        v.Html(class_=\"ml-3\", tag=\"h3\", children=[\"#\"]),\n",
    "                        v.Slider(\n",
    "                            v_model=0.5, min=0.1, max=0.9, step=0.1, label=\"MN ratio\"\n",
    "                        ),\n",
    "                        v.Html(class_=\"ml-3\", tag=\"h3\", children=[\"#\"]),\n",
    "                        v.Slider(\n",
    "                            v_model=2, min=0.1, max=5, step=0.1, label=\"FP ratio\"\n",
    "                        ),\n",
    "                        v.Html(class_=\"ml-3\", tag=\"h3\", children=[\"#\"]),\n",
    "                        ],\n",
    "                    )\n",
    "                    ],\n",
    "                min_width=\"500\",\n",
    "            )\n",
    "        ],\n",
    "    v_model=False,\n",
    "    close_on_content_click=False,\n",
    "    offset_y=True,\n",
    "    )\n",
    "\n",
    "proj_settings_menu"
   ]
  },
  {
   "cell_type": "markdown",
   "metadata": {},
   "source": [
    "This compute menu works"
   ]
  },
  {
   "cell_type": "code",
   "execution_count": 7,
   "metadata": {},
   "outputs": [
    {
     "data": {
      "application/vnd.jupyter.widget-view+json": {
       "model_id": "b041d8ff287146919e6039f534ee7b9d",
       "version_major": 2,
       "version_minor": 0
      },
      "text/plain": [
       "Menu(children=[Card(children=[VBox(children=(Tabs(children=[Tab(children=['SHAP'], layout=None), Tab(children=…"
      ]
     },
     "execution_count": 7,
     "metadata": {},
     "output_type": "execute_result"
    }
   ],
   "source": [
    "tab_list = [v.Tab(children=[\"SHAP\"]), v.Tab(children=[\"LIME\"])]\n",
    "content_list = [\n",
    "    v.TabItem(children=[\n",
    "        v.Col(\n",
    "            class_=\"d-flex flex-column align-center\",\n",
    "            children=[\n",
    "                    v.Html(\n",
    "                        tag=\"h3\",\n",
    "                        class_=\"mb-3\",\n",
    "                        children=[\"Compute SHAP values\"],\n",
    "                    ),\n",
    "                    v.ProgressLinear(\n",
    "                        style_=\"width: 80%\",\n",
    "                        v_model=0,\n",
    "                        color=\"primary\",\n",
    "                        height=\"15\",\n",
    "                        striped=True,\n",
    "                    ),\n",
    "                    v.TextField(\n",
    "                        class_=\"w-100\",\n",
    "                        style_=\"width: 100%\",\n",
    "                        v_model = \"0.00% [0/?] - 0m0s (estimated time : /min /s)\",\n",
    "                        readonly=True,\n",
    "                    ),\n",
    "                    v.Btn(\n",
    "                        children=[v.Icon(class_=\"mr-2\", children=[\"mdi-calculator-variant\"]), \"Compute values\"],\n",
    "                        class_=\"ma-2 ml-6 pa-3\",\n",
    "                        elevation=\"3\",\n",
    "                        v_model=\"SHAP\",\n",
    "                        color=\"primary\",\n",
    "                    ),\n",
    "            ],\n",
    "        )\n",
    "    ]),\n",
    "    v.TabItem(children=[\n",
    "        v.Col(\n",
    "            class_=\"d-flex flex-column align-center\",\n",
    "            children=[\n",
    "                    v.Html(\n",
    "                        tag=\"h3\",\n",
    "                        class_=\"mb-3\",\n",
    "                        children=[\"Compute LIME values\"],\n",
    "                    ),\n",
    "                    v.ProgressLinear(\n",
    "                        style_=\"width: 80%\",\n",
    "                        v_model=0,\n",
    "                        color=\"primary\",\n",
    "                        height=\"15\",\n",
    "                        striped=True,\n",
    "                    ),\n",
    "                    v.TextField(\n",
    "                        class_=\"w-100\",\n",
    "                        style_=\"width: 100%\",\n",
    "                        v_model = \"0.00% [0/?] - 0m0s (estimated time : /min /s)\",\n",
    "                        readonly=True,\n",
    "                    ),\n",
    "                    v.Btn(\n",
    "                        children=[v.Icon(class_=\"mr-2\", children=[\"mdi-calculator-variant\"]), \"Compute values\"],\n",
    "                        class_=\"ma-2 ml-6 pa-3\",\n",
    "                        elevation=\"3\",\n",
    "                        v_model=\"LIME\",\n",
    "                        color=\"primary\",\n",
    "                    ),\n",
    "            ],\n",
    "        )\n",
    "        ])\n",
    "    ]\n",
    "\n",
    "new_compute_menu = v.Menu( \n",
    "        v_slots=[\n",
    "        {\n",
    "            \"name\": \"activator\",\n",
    "            \"variable\": \"props\",\n",
    "            \"children\": v.Btn(\n",
    "                v_on=\"props.on\",\n",
    "                icon=True,\n",
    "                size=\"x-large\",\n",
    "                children=[v.Icon(children=[\"mdi-timer-sand\"], size=\"large\")],\n",
    "                class_=\"ma-2 pa-3\",\n",
    "                elevation=\"3\",\n",
    "            ),\n",
    "        }\n",
    "        ],\n",
    "        children=[\n",
    "            v.Card( \n",
    "                class_=\"pa-4\",\n",
    "                rounded=True,\n",
    "                children=[\n",
    "                    widgets.VBox([ \n",
    "                        v.Tabs(\n",
    "                            v_model=0, \n",
    "                            children=tab_list + content_list\n",
    "                            )\n",
    "                        ],\n",
    "                    )\n",
    "                    ],\n",
    "                min_width=\"500\",\n",
    "            )\n",
    "        ],\n",
    "    v_model=False,\n",
    "    close_on_content_click=False,\n",
    "    offset_y=True,\n",
    "    )\n",
    "\n",
    "new_compute_menu"
   ]
  },
  {
   "cell_type": "code",
   "execution_count": 8,
   "metadata": {},
   "outputs": [
    {
     "ename": "NameError",
     "evalue": "name 'gui_utils' is not defined",
     "output_type": "error",
     "traceback": [
      "\u001b[0;31m---------------------------------------------------------------------------\u001b[0m",
      "\u001b[0;31mNameError\u001b[0m                                 Traceback (most recent call last)",
      "\u001b[1;32m/Users/laurent/Documents/antakia/examples/widget_lab.ipynb Cellule 12\u001b[0m line \u001b[0;36m1\n\u001b[0;32m----> <a href='vscode-notebook-cell:/Users/laurent/Documents/antakia/examples/widget_lab.ipynb#X13sZmlsZQ%3D%3D?line=0'>1</a>\u001b[0m splash \u001b[39m=\u001b[39m gui_utils\u001b[39m.\u001b[39mget_splash_graph()\n\u001b[1;32m      <a href='vscode-notebook-cell:/Users/laurent/Documents/antakia/examples/widget_lab.ipynb#X13sZmlsZQ%3D%3D?line=1'>2</a>\u001b[0m \u001b[39m# type(splash.get_widget_at_address(\"110\"))\u001b[39;00m\n\u001b[1;32m      <a href='vscode-notebook-cell:/Users/laurent/Documents/antakia/examples/widget_lab.ipynb#X13sZmlsZQ%3D%3D?line=2'>3</a>\u001b[0m \u001b[39mtype\u001b[39m(splash\u001b[39m.\u001b[39mget_widget_at_address(\u001b[39m\"\u001b[39m\u001b[39m210\u001b[39m\u001b[39m\"\u001b[39m))\n",
      "\u001b[0;31mNameError\u001b[0m: name 'gui_utils' is not defined"
     ]
    }
   ],
   "source": [
    "splash = gui_utils.get_splash_graph()\n",
    "# type(splash.get_widget_at_address(\"110\"))\n",
    "type(splash.get_widget_at_address(\"210\"))"
   ]
  }
 ],
 "metadata": {
  "kernelspec": {
   "display_name": "antakia",
   "language": "python",
   "name": "python3"
  },
  "language_info": {
   "codemirror_mode": {
    "name": "ipython",
    "version": 3
   },
   "file_extension": ".py",
   "mimetype": "text/x-python",
   "name": "python",
   "nbconvert_exporter": "python",
   "pygments_lexer": "ipython3",
   "version": "3.10.13"
  },
  "orig_nbformat": 4
 },
 "nbformat": 4,
 "nbformat_minor": 2
}
