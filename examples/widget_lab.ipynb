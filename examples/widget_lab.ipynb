{
 "cells": [
  {
   "cell_type": "code",
   "execution_count": null,
   "metadata": {},
   "outputs": [],
   "source": []
  },
  {
   "cell_type": "code",
   "execution_count": null,
   "metadata": {},
   "outputs": [],
   "source": [
    "from IPython.display import display\n",
    "from ipywidgets import Layout, widgets\n",
    "from ipywidgets.widgets import Widget\n",
    "import ipyvuetify as v\n",
    "from importlib.resources import files\n",
    "from copy import copy\n",
    "import pandas as pd\n",
    "from antakia.gui.widgets import app_widget, get_widget, change_widget, check_address, dummy_df\n",
    "from plotly.graph_objects import FigureWidget, Histogram, Scatter, Scatter3d\n",
    "import numpy as np"
   ]
  },
  {
   "cell_type": "code",
   "execution_count": null,
   "metadata": {},
   "outputs": [],
   "source": [
    "import pandas as pd\n",
    "variables_df = pd.DataFrame(\n",
    "    {'col_index': [0, 1, 2, 3, 4, 5, 6, 7],\n",
    "    'descr': ['Median income', 'House age', 'Average nb rooms', 'Average nb bedrooms', 'Population', 'Average occupancy', 'Latitude', 'Longitude'],\n",
    "    'type': ['float64', 'int', 'float64', 'float64', 'int', 'float64', 'float64', 'float64'],\n",
    "    'unit': ['k$', 'years', 'rooms', 'rooms', 'people', 'ratio', 'degrees', 'degrees'],\n",
    "    'critical': [True, False, False, False, False, False, False, False],\n",
    "    'lat': [False, False, False, False, False, False, True, False],\n",
    "    'lon': [False, False, False, False, False, False, False, True]},\n",
    "    index=['MedInc', 'HouseAge', 'AveRooms', 'AveBedrms', 'Population', 'AveOccup', 'Latitude', 'Longitude'])\n",
    "\n",
    "variables_df.insert(loc=1, column='symbol', value=variables_df.index)"
   ]
  },
  {
   "cell_type": "markdown",
   "metadata": {},
   "source": [
    "## Tabs"
   ]
  },
  {
   "cell_type": "code",
   "execution_count": null,
   "metadata": {},
   "outputs": [],
   "source": [
    "from IPython.display import display\n",
    "from ipywidgets import Layout, widgets\n",
    "from ipywidgets.widgets import Widget\n",
    "import ipyvuetify as v\n",
    "from importlib.resources import files\n",
    "from copy import copy\n",
    "import pandas as pd\n",
    "# from antakia.gui.widgets import app_widget, get_widget, change_widget, check_address, dummy_df\n",
    "from plotly.graph_objects import FigureWidget, Histogram, Scatter, Scatter3d\n",
    "import numpy as np\n",
    "\n",
    "tab_list = [v.Tab(children=[\"1. Selection\"]), v.Tab(children=[\"2. Refinement\"]), v.Tab(children=[\"3. Sub-model\"]), v.Tab(children=[\"4. Regions\"])]\n",
    "\n",
    "content_list = [\n",
    "    v.TabItem(children=[\"Ceci est mon texte\"]),\n",
    "    v.TabItem(children=[\"Ut enim ad minim veniam, quis nostrud exercitation ullamco laboris nisi ut aliquip ex ea commodo consequat.\"]), \n",
    "    v.TabItem(children=[\"Duis aute irure dolor in reprehenderit in voluptate velit esse cillum dolore eu fugiat nulla pariatur. \"]),\n",
    "    v.TabItem(children=[\"Excepteur sint occaecat cupidatat non proident, sunt in culpa qui officia deserunt mollit anim id est laborum.\"])\n",
    "    ]\n",
    "\n",
    "tabs = v.Tabs(\n",
    "    v_model=0, \n",
    "    children=tab_list + content_list)\n",
    "tabs\n"
   ]
  },
  {
   "cell_type": "markdown",
   "metadata": {},
   "source": [
    "## Proj settings menu"
   ]
  },
  {
   "cell_type": "code",
   "execution_count": null,
   "metadata": {},
   "outputs": [],
   "source": [
    "proj_settings_menu = v.Menu( \n",
    "        v_slots=[\n",
    "        {\n",
    "            \"name\": \"activator\",\n",
    "            \"variable\": \"props\",\n",
    "            \"children\": v.Btn(\n",
    "                v_on=\"props.on\",\n",
    "                icon=True,\n",
    "                size=\"x-large\",\n",
    "                children=[v.Icon(children=[\"mdi-cogs\"], size=\"large\")],\n",
    "                class_=\"ma-2 pa-3\",\n",
    "                elevation=\"3\",\n",
    "            ),\n",
    "        }\n",
    "        ],\n",
    "        children=[\n",
    "            v.Card( \n",
    "                class_=\"pa-4\",\n",
    "                rounded=True,\n",
    "                children=[\n",
    "                    widgets.VBox([ \n",
    "                        v.Slider(\n",
    "                            v_model=10, min=5, max=30, step=1, label=\"Number of neighbours\"\n",
    "                        ),\n",
    "                        v.Html(class_=\"ml-3\", tag=\"h3\", children=[\"#\"]),\n",
    "                        v.Slider(\n",
    "                            v_model=0.5, min=0.1, max=0.9, step=0.1, label=\"MN ratio\"\n",
    "                        ),\n",
    "                        v.Html(class_=\"ml-3\", tag=\"h3\", children=[\"#\"]),\n",
    "                        v.Slider(\n",
    "                            v_model=2, min=0.1, max=5, step=0.1, label=\"FP ratio\"\n",
    "                        ),\n",
    "                        v.Html(class_=\"ml-3\", tag=\"h3\", children=[\"#\"]),\n",
    "                        ],\n",
    "                    )\n",
    "                    ],\n",
    "                min_width=\"500\",\n",
    "            )\n",
    "        ],\n",
    "    v_model=False,\n",
    "    close_on_content_click=False,\n",
    "    offset_y=True,\n",
    "    )\n",
    "\n",
    "proj_settings_menu"
   ]
  },
  {
   "cell_type": "markdown",
   "metadata": {},
   "source": [
    "## Compute menu"
   ]
  },
  {
   "cell_type": "code",
   "execution_count": null,
   "metadata": {},
   "outputs": [],
   "source": [
    "tab_list = [v.Tab(children=[\"SHAP\"]), v.Tab(children=[\"LIME\"])]\n",
    "content_list = [\n",
    "    v.TabItem(children=[\n",
    "        v.Col(\n",
    "            class_=\"d-flex flex-column align-center\",\n",
    "            children=[\n",
    "                    v.Html(\n",
    "                        tag=\"h3\",\n",
    "                        class_=\"mb-3\",\n",
    "                        children=[\"Compute SHAP values\"],\n",
    "                    ),\n",
    "                    v.ProgressLinear(\n",
    "                        style_=\"width: 80%\",\n",
    "                        v_model=0,\n",
    "                        color=\"primary\",\n",
    "                        height=\"15\",\n",
    "                        striped=True,\n",
    "                    ),\n",
    "                    v.TextField(\n",
    "                        class_=\"w-100\",\n",
    "                        style_=\"width: 100%\",\n",
    "                        v_model = \"0.00% [0/?] - 0m0s (estimated time : /min /s)\",\n",
    "                        readonly=True,\n",
    "                    ),\n",
    "                    v.Btn(\n",
    "                        children=[v.Icon(class_=\"mr-2\", children=[\"mdi-calculator-variant\"]), \"Compute values\"],\n",
    "                        class_=\"ma-2 ml-6 pa-3\",\n",
    "                        elevation=\"3\",\n",
    "                        v_model=\"SHAP\",\n",
    "                        color=\"primary\",\n",
    "                    ),\n",
    "            ],\n",
    "        )\n",
    "    ]),\n",
    "    v.TabItem(children=[\n",
    "        v.Col(\n",
    "            class_=\"d-flex flex-column align-center\",\n",
    "            children=[\n",
    "                    v.Html(\n",
    "                        tag=\"h3\",\n",
    "                        class_=\"mb-3\",\n",
    "                        children=[\"Compute LIME values\"],\n",
    "                    ),\n",
    "                    v.ProgressLinear(\n",
    "                        style_=\"width: 80%\",\n",
    "                        v_model=0,\n",
    "                        color=\"primary\",\n",
    "                        height=\"15\",\n",
    "                        striped=True,\n",
    "                    ),\n",
    "                    v.TextField(\n",
    "                        class_=\"w-100\",\n",
    "                        style_=\"width: 100%\",\n",
    "                        v_model = \"0.00% [0/?] - 0m0s (estimated time : /min /s)\",\n",
    "                        readonly=True,\n",
    "                    ),\n",
    "                    v.Btn(\n",
    "                        children=[v.Icon(class_=\"mr-2\", children=[\"mdi-calculator-variant\"]), \"Compute values\"],\n",
    "                        class_=\"ma-2 ml-6 pa-3\",\n",
    "                        elevation=\"3\",\n",
    "                        v_model=\"LIME\",\n",
    "                        color=\"primary\",\n",
    "                    ),\n",
    "            ],\n",
    "        )\n",
    "        ])\n",
    "    ]\n",
    "\n",
    "new_compute_menu = v.Menu( \n",
    "        v_slots=[\n",
    "        {\n",
    "            \"name\": \"activator\",\n",
    "            \"variable\": \"props\",\n",
    "            \"children\": v.Btn(\n",
    "                v_on=\"props.on\",\n",
    "                icon=True,\n",
    "                size=\"x-large\",\n",
    "                children=[v.Icon(children=[\"mdi-timer-sand\"], size=\"large\")],\n",
    "                class_=\"ma-2 pa-3\",\n",
    "                elevation=\"3\",\n",
    "            ),\n",
    "        }\n",
    "        ],\n",
    "        children=[\n",
    "            v.Card( \n",
    "                class_=\"pa-4\",\n",
    "                rounded=True,\n",
    "                children=[\n",
    "                    widgets.VBox([ \n",
    "                        v.Tabs(\n",
    "                            v_model=0, \n",
    "                            children=tab_list + content_list\n",
    "                            )\n",
    "                        ],\n",
    "                    )\n",
    "                    ],\n",
    "                min_width=\"500\",\n",
    "            )\n",
    "        ],\n",
    "    v_model=False,\n",
    "    close_on_content_click=False,\n",
    "    offset_y=True,\n",
    "    )\n",
    "\n",
    "new_compute_menu"
   ]
  },
  {
   "cell_type": "markdown",
   "metadata": {},
   "source": [
    "## Full app"
   ]
  },
  {
   "cell_type": "code",
   "execution_count": 1,
   "metadata": {},
   "outputs": [
    {
     "data": {
      "application/vnd.jupyter.widget-view+json": {
       "model_id": "79d8667ef71541c296dd1136d8c3713b",
       "version_major": 2,
       "version_minor": 0
      },
      "text/plain": [
       "Output(layout=Layout(border_bottom='1px solid black', border_left='1px solid black', border_right='1px solid b…"
      ]
     },
     "metadata": {},
     "output_type": "display_data"
    },
    {
     "data": {
      "application/vnd.jupyter.widget-view+json": {
       "model_id": "77f91fb41bd4472bb487e067d4aee291",
       "version_major": 2,
       "version_minor": 0
      },
      "text/plain": [
       "Output(layout=Layout(border_bottom='1px solid black', border_left='1px solid black', border_right='1px solid b…"
      ]
     },
     "metadata": {},
     "output_type": "display_data"
    },
    {
     "data": {
      "application/vnd.jupyter.widget-view+json": {
       "model_id": "203cec51eba1474f81a11d6faff9c797",
       "version_major": 2,
       "version_minor": 0
      },
      "text/plain": [
       "Output(layout=Layout(border_bottom='1px solid black', border_left='1px solid black', border_right='1px solid b…"
      ]
     },
     "metadata": {},
     "output_type": "display_data"
    },
    {
     "data": {
      "application/vnd.jupyter.widget-view+json": {
       "model_id": "ea4b5daa1ac14f98936fa2c574c28fe8",
       "version_major": 2,
       "version_minor": 0
      },
      "text/plain": [
       "Output(layout=Layout(border_bottom='1px solid black', border_left='1px solid black', border_right='1px solid b…"
      ]
     },
     "metadata": {},
     "output_type": "display_data"
    },
    {
     "data": {
      "application/vnd.jupyter.widget-view+json": {
       "model_id": "5f0416f782524a18892b2407fde029e9",
       "version_major": 2,
       "version_minor": 0
      },
      "text/plain": [
       "VBox(children=(AppBar(children=[Layout(children=[Image(value=b'\\x89PNG\\r\\n\\x1a\\n\\x00\\x00\\x00\\rIHDR\\x00\\x00\\x0e…"
      ]
     },
     "execution_count": 1,
     "metadata": {},
     "output_type": "execute_result"
    }
   ],
   "source": [
    "from IPython.display import display\n",
    "from ipywidgets import Layout, widgets\n",
    "from ipywidgets.widgets import Widget\n",
    "import ipyvuetify as v\n",
    "from importlib.resources import files\n",
    "from copy import copy\n",
    "import pandas as pd\n",
    "from antakia.gui.widgets import app_widget, get_widget, change_widget, check_address\n",
    "from plotly.graph_objects import FigureWidget, Histogram, Scatter, Scatter3d\n",
    "import numpy as np\n",
    "\n",
    "app_widget"
   ]
  },
  {
   "cell_type": "markdown",
   "metadata": {},
   "source": [
    "## RuleWidget"
   ]
  },
  {
   "cell_type": "code",
   "execution_count": null,
   "metadata": {},
   "outputs": [],
   "source": [
    "from IPython.display import display\n",
    "from ipywidgets import Layout, widgets\n",
    "from ipywidgets.widgets import Widget\n",
    "import ipyvuetify as v\n",
    "from importlib.resources import files\n",
    "from copy import copy\n",
    "import pandas as pd\n",
    "from antakia.gui.widgets import app_widget, get_widget\n",
    "from plotly.graph_objects import FigureWidget, Histogram, Scatter, Scatter3d\n",
    "import numpy as np\n",
    "\n",
    "\n",
    "\n",
    "\n",
    "\n",
    "v.ExpansionPanels(\n",
    "    children=[\n",
    "        v.ExpansionPanel(\n",
    "            children=[\n",
    "                v.ExpansionPanelHeader(\n",
    "                    children=\n",
    "                    [\"MedInc\"]\n",
    "                    ),\n",
    "                v.ExpansionPanelContent(\n",
    "                    children=[   \n",
    "                        v.Col(\n",
    "                            class_=\"ma-3 pa-3\",\n",
    "                            children=\n",
    "                            [\n",
    "                            v.Spacer(),\n",
    "                            v.RangeSlider( # skopeSlider\n",
    "                                    class_=\"ma-3\",\n",
    "                                    v_model=[-1, 1],\n",
    "                                    min=-5,\n",
    "                                    max=5,\n",
    "                                    step=0.1,\n",
    "                                    thumb_label=\"always\"\n",
    "                                ),\n",
    "                            ]\n",
    "                        )\n",
    "                        ,\n",
    "                        FigureWidget( \n",
    "                            data=[\n",
    "                                Histogram(\n",
    "                                    x=pd.DataFrame(np.random.randint(0,100,size=(100, 4)), columns=list('ABCD')),\n",
    "                                    bingroup=1, \n",
    "                                    nbinsx=50, \n",
    "                                    marker_color=\"grey\"\n",
    "                                    )\n",
    "                            ]\n",
    "                        )\n",
    "                    ]\n",
    "                )\n",
    "            ]\n",
    "        )\n",
    "    ]\n",
    ")\n"
   ]
  },
  {
   "cell_type": "markdown",
   "metadata": {},
   "source": [
    "## RulesWidget"
   ]
  },
  {
   "cell_type": "code",
   "execution_count": 3,
   "metadata": {},
   "outputs": [
    {
     "data": {
      "application/vnd.jupyter.widget-view+json": {
       "model_id": "d21a9493235b4006a294e0bb5b4b7791",
       "version_major": 2,
       "version_minor": 0
      },
      "text/plain": [
       "VBox(children=(Col(children=[Row(children=[Icon(children=['mdi-target'], layout=None), Html(children=['Rule(s)…"
      ]
     },
     "execution_count": 3,
     "metadata": {},
     "output_type": "execute_result"
    }
   ],
   "source": [
    "import pandas as pd\n",
    "import numpy as np\n",
    "from antakia.data import Variable\n",
    "from antakia.rules import Rule\n",
    "from antakia.gui.widgets import app_widget, get_widget\n",
    "from antakia.gui.ruleswidget import RulesWidget, RuleWidget\n",
    "import numpy as np\n",
    "\n",
    "\n",
    "x1 = pd.DataFrame(np.random.normal(2200.3, 360.8, size=(2000, 1)), columns=['Income'])\n",
    "var1 = Variable(0, 'Income', 'int' , '€', 'Revenue per month', True, True)\n",
    "rule1 = Rule(2800, \"<=\" , var1, None, None)\n",
    "\n",
    "x2 = pd.DataFrame(np.random.normal(42.3, 7.9, size=(2000, 1)), columns=['Age'])\n",
    "var2 = Variable(1, 'Age', 'float64' , 'years', 'Age of the person', False, True)\n",
    "rule2 = Rule(39, \"<\", var2, \"<=\", 45)\n",
    "\n",
    "classes = ['A', 'B', 'C', 'D', 'E', 'F']\n",
    "x3 = pd.DataFrame({'Segment': np.random.choice(classes, size=2000)})\n",
    "var3= Variable(2, 'Segment', 'str' , 'segment', 'Customer segment', False, False)\n",
    "rule3 = Rule(None, None, var3, None, None, ['D','E','F'])\n",
    "\n",
    "X = pd.concat([x1, x2, x3], axis=1)\n",
    "\n",
    "rsw = RulesWidget(X, [var1, var2, var3], True, None)\n",
    "scores = {'precision':0.23, 'recall':0.45, 'f1':0.71}\n",
    "rsw.init_rules([rule1, rule2, rule3], scores)\n",
    "rsw.root_widget\n"
   ]
  },
  {
   "cell_type": "markdown",
   "metadata": {},
   "source": [
    "## Slider colors"
   ]
  },
  {
   "cell_type": "code",
   "execution_count": null,
   "metadata": {},
   "outputs": [],
   "source": [
    "from IPython.display import display\n",
    "from ipywidgets import Layout, widgets\n",
    "from ipywidgets.widgets import Widget\n",
    "import ipyvuetify as v\n",
    "from importlib.resources import files\n",
    "from copy import copy\n",
    "import pandas as pd\n",
    "from antakia.gui.widgets import app_widget, get_widget\n",
    "from plotly.graph_objects import FigureWidget, Histogram, Scatter, Scatter3d\n",
    "import numpy as np\n",
    "\n",
    "v.Col(\n",
    "    class_=\"mt-30 pt-10\",\n",
    "    children=[\n",
    "        v.RangeSlider(\n",
    "            v_model=[\n",
    "                -2,\n",
    "                3,\n",
    "            ],\n",
    "            min=-4,\n",
    "            max=5,\n",
    "            step=0.1,\n",
    "            color='green', # outside color\n",
    "            track_color='red', # inside color\n",
    "            thumb_color='blue', # marker color\n",
    "            thumb_label=\"always\",\n",
    "            thumb_size=30,\n",
    "            )  \n",
    "    ]\n",
    ")"
   ]
  },
  {
   "cell_type": "markdown",
   "metadata": {},
   "source": [
    "## Test for tab 4"
   ]
  },
  {
   "cell_type": "code",
   "execution_count": 8,
   "metadata": {},
   "outputs": [
    {
     "data": {
      "application/vnd.jupyter.widget-view+json": {
       "model_id": "526a587d93834beaa230c7796017ee32",
       "version_major": 2,
       "version_minor": 0
      },
      "text/plain": [
       "DataTable(disable_sort=False, headers=[{'text': '#', 'sortable': True, 'value': '#'}, {'text': 'Color', 'sorta…"
      ]
     },
     "execution_count": 8,
     "metadata": {},
     "output_type": "execute_result"
    }
   ],
   "source": [
    "dummy_regions_df = pd.DataFrame(\n",
    "    {\n",
    "        \"#\": [\"1\", \"2\", \"3\"],\n",
    "        \"Color\": [\"yellow\", \"blue\", \"red\"],\n",
    "        \"Rules\": [\"Income ≥ 2800\", \"Segment ∈ ⟦D, E, F⟧\", \"Age ∈ [39, 45⟧\", ],\n",
    "        \"Sub-model\": [\"Linear regression\", \"Random forest\", \"Gradient boost\"],\n",
    "        \"Score\": [\"MSE = 0.8\", \"MAE = 0.79\", \"MSE = 0.95\"],\n",
    "        \"% dataset\": [\"5.7%\", \"21%\", \"13%\"],\n",
    "    }\n",
    ")\n",
    "\n",
    "v.DataTable(  # 304 410 000 1\n",
    "    v_model=[],\n",
    "    show_select=True,\n",
    "    headers=[\n",
    "        {\n",
    "            \"text\": column,\n",
    "            \"sortable\": True,\n",
    "            \"value\": column,\n",
    "        }\n",
    "        for column in dummy_regions_df.columns\n",
    "    ],\n",
    "    items=dummy_regions_df.to_dict(\n",
    "        \"records\"\n",
    "    ),\n",
    "    hide_default_footer=True,\n",
    "    disable_sort=False,\n",
    ")"
   ]
  },
  {
   "cell_type": "code",
   "execution_count": 16,
   "metadata": {},
   "outputs": [
    {
     "data": {
      "application/vnd.jupyter.widget-view+json": {
       "model_id": "726d96453bc34f88b1be48d698e00243",
       "version_major": 2,
       "version_minor": 0
      },
      "text/plain": [
       "DataTable(headers=[{'text': 'A', 'sortable': True, 'value': 'A'}], items=[{'A': 1}, {'A': 3}], layout=None)"
      ]
     },
     "execution_count": 16,
     "metadata": {},
     "output_type": "execute_result"
    }
   ],
   "source": [
    "v.DataTable(\n",
    "    headers=[\n",
    "        {\n",
    "            \"text\":\"A\" ,\n",
    "            \"sortable\": True,\n",
    "            \"value\": \"A\",\n",
    "        }\n",
    "    ],\n",
    "    items=[{\"A\":1}, {\"A\":3}],\n",
    ")\n",
    "\n"
   ]
  },
  {
   "cell_type": "code",
   "execution_count": 21,
   "metadata": {},
   "outputs": [
    {
     "data": {
      "application/vnd.jupyter.widget-view+json": {
       "model_id": "7c96bc6a88864ef9b4e3988ddd0c57e0",
       "version_major": 2,
       "version_minor": 0
      },
      "text/plain": [
       "List(children=[ListItem(children=[Html(children=['Machin'], layout=None, tag='p')], layout=None), ListItem(chi…"
      ]
     },
     "execution_count": 21,
     "metadata": {},
     "output_type": "execute_result"
    }
   ],
   "source": [
    "v.List(\n",
    "    children=[\n",
    "        v.ListItem(children=[v.Html(tag=\"p\", children=[\"Machin\"])]),\n",
    "        v.ListItem(children=[v.Html(tag=\"p\", children=[\"Bidule\"])]),\n",
    "        v.ListItem(children=[v.Html(tag=\"p\", children=[\"Truc\"])]),\n",
    "    ]\n",
    ")"
   ]
  }
 ],
 "metadata": {
  "kernelspec": {
   "display_name": "antakia",
   "language": "python",
   "name": "python3"
  },
  "language_info": {
   "codemirror_mode": {
    "name": "ipython",
    "version": 3
   },
   "file_extension": ".py",
   "mimetype": "text/x-python",
   "name": "python",
   "nbconvert_exporter": "python",
   "pygments_lexer": "ipython3",
   "version": "3.10.13"
  },
  "orig_nbformat": 4
 },
 "nbformat": 4,
 "nbformat_minor": 2
}
