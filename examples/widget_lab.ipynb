{
 "cells": [
  {
   "cell_type": "code",
   "execution_count": null,
   "metadata": {},
   "outputs": [],
   "source": [
    "from IPython.display import display\n",
    "from ipywidgets import Layout, widgets\n",
    "from ipywidgets.widgets import Widget\n",
    "import ipyvuetify as v\n",
    "from importlib.resources import files\n",
    "from copy import copy\n",
    "import pandas as pd"
   ]
  },
  {
   "cell_type": "markdown",
   "metadata": {},
   "source": [
    "## Tabs"
   ]
  },
  {
   "cell_type": "code",
   "execution_count": null,
   "metadata": {},
   "outputs": [],
   "source": [
    "\n",
    "tab_list = [v.Tab(children=[\"1. Selection\"]), v.Tab(children=[\"2. Refinement\"]), v.Tab(children=[\"3. Sub-model\"]), v.Tab(children=[\"4. Regions\"])]\n",
    "\n",
    "content_list = [\n",
    "    v.TabItem(children=[\"Ceci est mon texte\"]),\n",
    "    v.TabItem(children=[\"Ut enim ad minim veniam, quis nostrud exercitation ullamco laboris nisi ut aliquip ex ea commodo consequat.\"]), \n",
    "    v.TabItem(children=[\"Duis aute irure dolor in reprehenderit in voluptate velit esse cillum dolore eu fugiat nulla pariatur. \"]),\n",
    "    v.TabItem(children=[\"Excepteur sint occaecat cupidatat non proident, sunt in culpa qui officia deserunt mollit anim id est laborum.\"])\n",
    "    ]\n",
    "\n",
    "tabs = v.Tabs(\n",
    "    v_model=0, \n",
    "    children=tab_list + content_list)\n",
    "tabs\n"
   ]
  },
  {
   "cell_type": "markdown",
   "metadata": {},
   "source": [
    "## Proj settings menu"
   ]
  },
  {
   "cell_type": "code",
   "execution_count": null,
   "metadata": {},
   "outputs": [],
   "source": [
    "proj_settings_menu = v.Menu( \n",
    "        v_slots=[\n",
    "        {\n",
    "            \"name\": \"activator\",\n",
    "            \"variable\": \"props\",\n",
    "            \"children\": v.Btn(\n",
    "                v_on=\"props.on\",\n",
    "                icon=True,\n",
    "                size=\"x-large\",\n",
    "                children=[v.Icon(children=[\"mdi-cogs\"], size=\"large\")],\n",
    "                class_=\"ma-2 pa-3\",\n",
    "                elevation=\"3\",\n",
    "            ),\n",
    "        }\n",
    "        ],\n",
    "        children=[\n",
    "            v.Card( \n",
    "                class_=\"pa-4\",\n",
    "                rounded=True,\n",
    "                children=[\n",
    "                    widgets.VBox([ \n",
    "                        v.Slider(\n",
    "                            v_model=10, min=5, max=30, step=1, label=\"Number of neighbours\"\n",
    "                        ),\n",
    "                        v.Html(class_=\"ml-3\", tag=\"h3\", children=[\"#\"]),\n",
    "                        v.Slider(\n",
    "                            v_model=0.5, min=0.1, max=0.9, step=0.1, label=\"MN ratio\"\n",
    "                        ),\n",
    "                        v.Html(class_=\"ml-3\", tag=\"h3\", children=[\"#\"]),\n",
    "                        v.Slider(\n",
    "                            v_model=2, min=0.1, max=5, step=0.1, label=\"FP ratio\"\n",
    "                        ),\n",
    "                        v.Html(class_=\"ml-3\", tag=\"h3\", children=[\"#\"]),\n",
    "                        ],\n",
    "                    )\n",
    "                    ],\n",
    "                min_width=\"500\",\n",
    "            )\n",
    "        ],\n",
    "    v_model=False,\n",
    "    close_on_content_click=False,\n",
    "    offset_y=True,\n",
    "    )\n",
    "\n",
    "proj_settings_menu"
   ]
  },
  {
   "cell_type": "markdown",
   "metadata": {},
   "source": [
    "## Compute menu"
   ]
  },
  {
   "cell_type": "code",
   "execution_count": null,
   "metadata": {},
   "outputs": [],
   "source": [
    "tab_list = [v.Tab(children=[\"SHAP\"]), v.Tab(children=[\"LIME\"])]\n",
    "content_list = [\n",
    "    v.TabItem(children=[\n",
    "        v.Col(\n",
    "            class_=\"d-flex flex-column align-center\",\n",
    "            children=[\n",
    "                    v.Html(\n",
    "                        tag=\"h3\",\n",
    "                        class_=\"mb-3\",\n",
    "                        children=[\"Compute SHAP values\"],\n",
    "                    ),\n",
    "                    v.ProgressLinear(\n",
    "                        style_=\"width: 80%\",\n",
    "                        v_model=0,\n",
    "                        color=\"primary\",\n",
    "                        height=\"15\",\n",
    "                        striped=True,\n",
    "                    ),\n",
    "                    v.TextField(\n",
    "                        class_=\"w-100\",\n",
    "                        style_=\"width: 100%\",\n",
    "                        v_model = \"0.00% [0/?] - 0m0s (estimated time : /min /s)\",\n",
    "                        readonly=True,\n",
    "                    ),\n",
    "                    v.Btn(\n",
    "                        children=[v.Icon(class_=\"mr-2\", children=[\"mdi-calculator-variant\"]), \"Compute values\"],\n",
    "                        class_=\"ma-2 ml-6 pa-3\",\n",
    "                        elevation=\"3\",\n",
    "                        v_model=\"SHAP\",\n",
    "                        color=\"primary\",\n",
    "                    ),\n",
    "            ],\n",
    "        )\n",
    "    ]),\n",
    "    v.TabItem(children=[\n",
    "        v.Col(\n",
    "            class_=\"d-flex flex-column align-center\",\n",
    "            children=[\n",
    "                    v.Html(\n",
    "                        tag=\"h3\",\n",
    "                        class_=\"mb-3\",\n",
    "                        children=[\"Compute LIME values\"],\n",
    "                    ),\n",
    "                    v.ProgressLinear(\n",
    "                        style_=\"width: 80%\",\n",
    "                        v_model=0,\n",
    "                        color=\"primary\",\n",
    "                        height=\"15\",\n",
    "                        striped=True,\n",
    "                    ),\n",
    "                    v.TextField(\n",
    "                        class_=\"w-100\",\n",
    "                        style_=\"width: 100%\",\n",
    "                        v_model = \"0.00% [0/?] - 0m0s (estimated time : /min /s)\",\n",
    "                        readonly=True,\n",
    "                    ),\n",
    "                    v.Btn(\n",
    "                        children=[v.Icon(class_=\"mr-2\", children=[\"mdi-calculator-variant\"]), \"Compute values\"],\n",
    "                        class_=\"ma-2 ml-6 pa-3\",\n",
    "                        elevation=\"3\",\n",
    "                        v_model=\"LIME\",\n",
    "                        color=\"primary\",\n",
    "                    ),\n",
    "            ],\n",
    "        )\n",
    "        ])\n",
    "    ]\n",
    "\n",
    "new_compute_menu = v.Menu( \n",
    "        v_slots=[\n",
    "        {\n",
    "            \"name\": \"activator\",\n",
    "            \"variable\": \"props\",\n",
    "            \"children\": v.Btn(\n",
    "                v_on=\"props.on\",\n",
    "                icon=True,\n",
    "                size=\"x-large\",\n",
    "                children=[v.Icon(children=[\"mdi-timer-sand\"], size=\"large\")],\n",
    "                class_=\"ma-2 pa-3\",\n",
    "                elevation=\"3\",\n",
    "            ),\n",
    "        }\n",
    "        ],\n",
    "        children=[\n",
    "            v.Card( \n",
    "                class_=\"pa-4\",\n",
    "                rounded=True,\n",
    "                children=[\n",
    "                    widgets.VBox([ \n",
    "                        v.Tabs(\n",
    "                            v_model=0, \n",
    "                            children=tab_list + content_list\n",
    "                            )\n",
    "                        ],\n",
    "                    )\n",
    "                    ],\n",
    "                min_width=\"500\",\n",
    "            )\n",
    "        ],\n",
    "    v_model=False,\n",
    "    close_on_content_click=False,\n",
    "    offset_y=True,\n",
    "    )\n",
    "\n",
    "new_compute_menu"
   ]
  },
  {
   "cell_type": "markdown",
   "metadata": {},
   "source": [
    "## Full app"
   ]
  },
  {
   "cell_type": "code",
   "execution_count": 1,
   "metadata": {},
   "outputs": [
    {
     "data": {
      "application/vnd.jupyter.widget-view+json": {
       "model_id": "867baab5f5f540f090c4fd8094fd578f",
       "version_major": 2,
       "version_minor": 0
      },
      "text/plain": [
       "Output(layout=Layout(border_bottom='1px solid black', border_left='1px solid black', border_right='1px solid b…"
      ]
     },
     "metadata": {},
     "output_type": "display_data"
    },
    {
     "data": {
      "application/vnd.jupyter.widget-view+json": {
       "model_id": "c1fe040f9ab54824802135c295f12202",
       "version_major": 2,
       "version_minor": 0
      },
      "text/plain": [
       "Output(layout=Layout(border_bottom='1px solid black', border_left='1px solid black', border_right='1px solid b…"
      ]
     },
     "metadata": {},
     "output_type": "display_data"
    },
    {
     "data": {
      "application/vnd.jupyter.widget-view+json": {
       "model_id": "7e8834adf36d424cb359ddce843a1449",
       "version_major": 2,
       "version_minor": 0
      },
      "text/plain": [
       "Output(layout=Layout(border_bottom='1px solid black', border_left='1px solid black', border_right='1px solid b…"
      ]
     },
     "metadata": {},
     "output_type": "display_data"
    },
    {
     "data": {
      "application/vnd.jupyter.widget-view+json": {
       "model_id": "75b5301fe236427997f6113a04d4badf",
       "version_major": 2,
       "version_minor": 0
      },
      "text/plain": [
       "Output(layout=Layout(border_bottom='1px solid black', border_left='1px solid black', border_right='1px solid b…"
      ]
     },
     "metadata": {},
     "output_type": "display_data"
    }
   ],
   "source": [
    "from IPython.display import display\n",
    "from ipywidgets import Layout, widgets\n",
    "from ipywidgets.widgets import Widget\n",
    "import ipyvuetify as v\n",
    "from importlib.resources import files\n",
    "from copy import copy\n",
    "import pandas as pd\n",
    "from antakia.gui_utils import app_widget, get_widget_at_address, change_widget\n",
    "from plotly.graph_objects import FigureWidget, Histogram, Scatter, Scatter3d\n",
    "import numpy as np\n",
    "\n",
    "# app_widget"
   ]
  },
  {
   "cell_type": "markdown",
   "metadata": {},
   "source": [
    "## RulesWidget info card"
   ]
  },
  {
   "cell_type": "code",
   "execution_count": null,
   "metadata": {},
   "outputs": [],
   "source": [
    "dummy_df = pd.DataFrame(\n",
    "    {\n",
    "        'Variable': ['Population', 'MedInc', 'Latitude', 'Longitude'],\n",
    "        'Unit': ['people', 'k€', '° N', '° W'],\n",
    "        'Desc': ['People living in the block', 'Median income', '-', '-'],\n",
    "        'Critical ?': [False, True, False, False],\n",
    "        'Rule': ['Population ≤ 2 309', 'MedInc ∈ [3.172, 5.031⟧', 'Latitude ≥ 37.935', 'Longitude > 0.559']\n",
    "    }\n",
    ")\n",
    "\n",
    "card = v.Col( # placeholder for the VS RulesWidget\n",
    "    children=[\n",
    "        v.Row(\n",
    "            class_=\"ml-4\",\n",
    "            children=[\n",
    "                v.Icon(children=[\"mdi-target\"]), \n",
    "                v.Html(class_=\"ml-3\", tag=\"h2\", children=[\"Rule(s) applied on the value space\"]),\n",
    "            ]\n",
    "            ),\n",
    "        v.Col( \n",
    "            elevation=10,\n",
    "            children=[ \n",
    "                v.Html(class_=\"ml-3\", tag=\"p\", children=[\"Precision = 0.3, Recall = 0.8, F1 = 22\"]),\n",
    "                v.DataTable( \n",
    "                            v_model=[],\n",
    "                            show_select=False,\n",
    "                            headers=[{\"text\": column, \"sortable\": False, \"value\": column } for column in dummy_df.columns],\n",
    "                            items=dummy_df.to_dict(\"records\"),\n",
    "                            hide_default_footer=True,\n",
    "                            disable_sort=True,\n",
    "                        ),\n",
    "                ]\n",
    "            )\n",
    "        ]\n",
    ")   \n",
    "\n",
    "card\n"
   ]
  },
  {
   "cell_type": "markdown",
   "metadata": {},
   "source": [
    "## RuleWidget"
   ]
  },
  {
   "cell_type": "code",
   "execution_count": null,
   "metadata": {},
   "outputs": [],
   "source": [
    "from IPython.display import display\n",
    "from ipywidgets import Layout, widgets\n",
    "from ipywidgets.widgets import Widget\n",
    "import ipyvuetify as v\n",
    "from importlib.resources import files\n",
    "from copy import copy\n",
    "import pandas as pd\n",
    "from antakia.gui_utils import app_widget, get_widget_at_address\n",
    "from plotly.graph_objects import FigureWidget, Histogram, Scatter, Scatter3d\n",
    "import numpy as np\n",
    "\n",
    "v.ExpansionPanels(\n",
    "    children=[\n",
    "        v.ExpansionPanel(\n",
    "            children=[\n",
    "                v.ExpansionPanelHeader(\n",
    "                    children=\n",
    "                    [\"MedInc\"]\n",
    "                    ),\n",
    "                v.ExpansionPanelContent(\n",
    "                    children=[   \n",
    "                        v.Col(\n",
    "                            class_=\"ma-3 pa-3\",\n",
    "                            children=\n",
    "                            [\n",
    "                            v.Spacer(),\n",
    "                            v.RangeSlider( # skopeSlider\n",
    "                                    class_=\"ma-3\",\n",
    "                                    v_model=[-1, 1],\n",
    "                                    min=-5,\n",
    "                                    max=5,\n",
    "                                    step=0.1,\n",
    "                                    thumb_label=\"always\"\n",
    "                                ),\n",
    "                            ]\n",
    "                        )\n",
    "                        ,\n",
    "                        FigureWidget( \n",
    "                            data=[\n",
    "                                Histogram(\n",
    "                                    x=pd.DataFrame(np.random.randint(0,100,size=(100, 4)), columns=list('ABCD')),\n",
    "                                    bingroup=1, \n",
    "                                    nbinsx=50, \n",
    "                                    marker_color=\"grey\"\n",
    "                                    )\n",
    "                            ]\n",
    "                        )\n",
    "                    ]\n",
    "                )\n",
    "            ]\n",
    "        )\n",
    "    ]\n",
    ")\n"
   ]
  },
  {
   "cell_type": "markdown",
   "metadata": {},
   "source": [
    "## Slider"
   ]
  },
  {
   "cell_type": "code",
   "execution_count": null,
   "metadata": {},
   "outputs": [],
   "source": [
    "from IPython.display import display\n",
    "from ipywidgets import Layout, widgets\n",
    "from ipywidgets.widgets import Widget\n",
    "import ipyvuetify as v\n",
    "from importlib.resources import files\n",
    "from copy import copy\n",
    "import pandas as pd\n",
    "from antakia.gui_utils import app_widget, get_widget_at_address\n",
    "from plotly.graph_objects import FigureWidget, Histogram, Scatter, Scatter3d\n",
    "import numpy as np\n",
    "\n",
    "v.Col(\n",
    "    class_=\"mt-30 pt-10\",\n",
    "    children=[\n",
    "        v.Slider( # var > 2\n",
    "            v_model=2,\n",
    "            min=0, # \n",
    "            max=10,\n",
    "            color='red', # before color\n",
    "            track_color='green', # after color\n",
    "            thumb_color='blue', # marker color\n",
    "            step=1, # TODO set according to the variable distribution\n",
    "            thumb_label=\"always\",\n",
    "            thumb_size=30,\n",
    "            tick=\"(4.0 : 'zob')\",\n",
    "        )    \n",
    "    ]\n",
    ")"
   ]
  },
  {
   "cell_type": "markdown",
   "metadata": {},
   "source": [
    "## Empty RulesWidget "
   ]
  },
  {
   "cell_type": "code",
   "execution_count": null,
   "metadata": {},
   "outputs": [],
   "source": [
    "from IPython.display import display\n",
    "from ipywidgets import Layout, widgets\n",
    "from ipywidgets.widgets import Widget\n",
    "import ipyvuetify as v\n",
    "from importlib.resources import files\n",
    "from copy import copy\n",
    "import pandas as pd\n",
    "from antakia.gui_utils import app_widget, get_widget_at_address, change_widget, create_empty_ruleswidget\n",
    "from plotly.graph_objects import FigureWidget, Histogram, Scatter, Scatter3d\n",
    "import numpy as np\n",
    "\n",
    "create_empty_ruleswidget().vbox_widget"
   ]
  },
  {
   "cell_type": "markdown",
   "metadata": {},
   "source": [
    "## Widget type detection"
   ]
  },
  {
   "cell_type": "code",
   "execution_count": null,
   "metadata": {},
   "outputs": [],
   "source": [
    "from IPython.display import display\n",
    "from ipywidgets import Layout, widgets\n",
    "from ipywidgets.widgets import Widget\n",
    "import ipyvuetify as v\n",
    "from importlib.resources import files\n",
    "from copy import copy\n",
    "import pandas as pd\n",
    "from antakia.gui_utils import app_widget, get_widget_at_address, change_widget, create_empty_ruleswidget, is_ipyvuetify\n",
    "from plotly.graph_objects import FigureWidget, Histogram, Scatter, Scatter3d\n",
    "import numpy as np\n",
    "\n",
    "widget = get_widget_at_address(app_widget, \"304\")\n",
    "print(widget.__class__)\n",
    "is_ipyvuetify(widget)"
   ]
  }
 ],
 "metadata": {
  "kernelspec": {
   "display_name": "antakia",
   "language": "python",
   "name": "python3"
  },
  "language_info": {
   "codemirror_mode": {
    "name": "ipython",
    "version": 3
   },
   "file_extension": ".py",
   "mimetype": "text/x-python",
   "name": "python",
   "nbconvert_exporter": "python",
   "pygments_lexer": "ipython3",
   "version": "3.10.13"
  },
  "orig_nbformat": 4
 },
 "nbformat": 4,
 "nbformat_minor": 2
}
