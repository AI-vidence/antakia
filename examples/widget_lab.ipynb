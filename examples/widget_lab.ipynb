{
 "cells": [
  {
   "cell_type": "code",
   "execution_count": null,
   "metadata": {},
   "outputs": [],
   "source": [
    "from IPython.display import display\n",
    "from ipywidgets import Layout, widgets\n",
    "from ipywidgets.widgets import Widget\n",
    "import ipyvuetify as v\n",
    "from importlib.resources import files\n",
    "from copy import copy\n",
    "import pandas as pd"
   ]
  },
  {
   "cell_type": "code",
   "execution_count": null,
   "metadata": {},
   "outputs": [],
   "source": [
    "df = pd.DataFrame(\n",
    "    {\n",
    "        'num_legs': [2, 4, 8, 0],\n",
    "        'num_wings': [2, 0, 0, 0],\n",
    "        'num_specimen_seen': [10, 2, 1, 8]\n",
    "    },\n",
    "    index=['falcon', 'dog', 'spider', 'fish'])\n",
    "\n",
    "columns = [\n",
    "    {\"text\": c, \"sortable\": True, \"value\": c} for c in df.columns\n",
    "]\n",
    "df\n"
   ]
  },
  {
   "cell_type": "code",
   "execution_count": null,
   "metadata": {},
   "outputs": [],
   "source": [
    "ep = v.ExpansionPanels( \n",
    "    class_=\"ma-2\",\n",
    "    disabled = True,\n",
    "    children=[\n",
    "        v.ExpansionPanel( \n",
    "            children=[\n",
    "                v.ExpansionPanelHeader( \n",
    "                    children=[\n",
    "                        \"My ExpansionPanelHeader\"\n",
    "                    ]\n",
    "                ), \n",
    "                v.ExpansionPanelContent(\n",
    "                    children=[\n",
    "                        v.Alert(\n",
    "                            max_height=\"400px\",\n",
    "                            style_=\"overflow: auto\",\n",
    "                            elevation=\"0\",\n",
    "                            children=[\n",
    "                                v.Row(\n",
    "                                    class_=\"d-flex flex-row justify-space-between\",\n",
    "                                    children=[\n",
    "                                        v.Layout(\n",
    "                                            style_=\"min-width: 47%; max-width: 47%\",\n",
    "                                            children=[\n",
    "                                                v.Html(\n",
    "                                                    tag=\"h4\",\n",
    "                                                    children=[\n",
    "                                                        \"Machin\"\n",
    "                                                    ],\n",
    "                                                )\n",
    "                                            ],\n",
    "                                        ),\n",
    "                                        v.Divider(class_=\"ma-2\", vertical=True),\n",
    "                                        v.Layout( \n",
    "                                            style_=\"min-width: 47%; max-width: 47%\",\n",
    "                                            children=[\n",
    "                                                v.Html(\n",
    "                                                    tag=\"h4\",\n",
    "                                                    children=[\n",
    "                                                        \"Truc\"\n",
    "                                                    ],\n",
    "                                                )\n",
    "                                            ],\n",
    "                                        ),\n",
    "                                    ],\n",
    "                                ),\n",
    "                            ],\n",
    "                        )\n",
    "                    ]\n",
    "                )\n",
    "            ]\n",
    "        )\n",
    "    ]\n",
    ")\n",
    "\n",
    "ep"
   ]
  },
  {
   "cell_type": "markdown",
   "metadata": {},
   "source": [
    "Tabs"
   ]
  },
  {
   "cell_type": "code",
   "execution_count": null,
   "metadata": {},
   "outputs": [],
   "source": [
    "\n",
    "tab_list = [v.Tab(children=[\"1. Selection\"]), v.Tab(children=[\"2. Refinement\"]), v.Tab(children=[\"3. Sub-model\"]), v.Tab(children=[\"4. Regions\"])]\n",
    "\n",
    "content_list = [\n",
    "    v.TabItem(children=[\"Ceci est mon texte\"]),\n",
    "    v.TabItem(children=[\"Ut enim ad minim veniam, quis nostrud exercitation ullamco laboris nisi ut aliquip ex ea commodo consequat.\"]), \n",
    "    v.TabItem(children=[\"Duis aute irure dolor in reprehenderit in voluptate velit esse cillum dolore eu fugiat nulla pariatur. \"]),\n",
    "    v.TabItem(children=[\"Excepteur sint occaecat cupidatat non proident, sunt in culpa qui officia deserunt mollit anim id est laborum.\"])\n",
    "    ]\n",
    "\n",
    "tabs = v.Tabs(\n",
    "    v_model=0, \n",
    "    children=tab_list + content_list)\n",
    "tabs\n"
   ]
  },
  {
   "cell_type": "markdown",
   "metadata": {},
   "source": [
    "Our proj settings menu"
   ]
  },
  {
   "cell_type": "code",
   "execution_count": null,
   "metadata": {},
   "outputs": [],
   "source": [
    "proj_settings_menu = v.Menu( \n",
    "        v_slots=[\n",
    "        {\n",
    "            \"name\": \"activator\",\n",
    "            \"variable\": \"props\",\n",
    "            \"children\": v.Btn(\n",
    "                v_on=\"props.on\",\n",
    "                icon=True,\n",
    "                size=\"x-large\",\n",
    "                children=[v.Icon(children=[\"mdi-cogs\"], size=\"large\")],\n",
    "                class_=\"ma-2 pa-3\",\n",
    "                elevation=\"3\",\n",
    "            ),\n",
    "        }\n",
    "        ],\n",
    "        children=[\n",
    "            v.Card( \n",
    "                class_=\"pa-4\",\n",
    "                rounded=True,\n",
    "                children=[\n",
    "                    widgets.VBox([ \n",
    "                        v.Slider(\n",
    "                            v_model=10, min=5, max=30, step=1, label=\"Number of neighbours\"\n",
    "                        ),\n",
    "                        v.Html(class_=\"ml-3\", tag=\"h3\", children=[\"#\"]),\n",
    "                        v.Slider(\n",
    "                            v_model=0.5, min=0.1, max=0.9, step=0.1, label=\"MN ratio\"\n",
    "                        ),\n",
    "                        v.Html(class_=\"ml-3\", tag=\"h3\", children=[\"#\"]),\n",
    "                        v.Slider(\n",
    "                            v_model=2, min=0.1, max=5, step=0.1, label=\"FP ratio\"\n",
    "                        ),\n",
    "                        v.Html(class_=\"ml-3\", tag=\"h3\", children=[\"#\"]),\n",
    "                        ],\n",
    "                    )\n",
    "                    ],\n",
    "                min_width=\"500\",\n",
    "            )\n",
    "        ],\n",
    "    v_model=False,\n",
    "    close_on_content_click=False,\n",
    "    offset_y=True,\n",
    "    )\n",
    "\n",
    "proj_settings_menu"
   ]
  },
  {
   "cell_type": "markdown",
   "metadata": {},
   "source": [
    "This compute menu works"
   ]
  },
  {
   "cell_type": "code",
   "execution_count": null,
   "metadata": {},
   "outputs": [],
   "source": [
    "tab_list = [v.Tab(children=[\"SHAP\"]), v.Tab(children=[\"LIME\"])]\n",
    "content_list = [\n",
    "    v.TabItem(children=[\n",
    "        v.Col(\n",
    "            class_=\"d-flex flex-column align-center\",\n",
    "            children=[\n",
    "                    v.Html(\n",
    "                        tag=\"h3\",\n",
    "                        class_=\"mb-3\",\n",
    "                        children=[\"Compute SHAP values\"],\n",
    "                    ),\n",
    "                    v.ProgressLinear(\n",
    "                        style_=\"width: 80%\",\n",
    "                        v_model=0,\n",
    "                        color=\"primary\",\n",
    "                        height=\"15\",\n",
    "                        striped=True,\n",
    "                    ),\n",
    "                    v.TextField(\n",
    "                        class_=\"w-100\",\n",
    "                        style_=\"width: 100%\",\n",
    "                        v_model = \"0.00% [0/?] - 0m0s (estimated time : /min /s)\",\n",
    "                        readonly=True,\n",
    "                    ),\n",
    "                    v.Btn(\n",
    "                        children=[v.Icon(class_=\"mr-2\", children=[\"mdi-calculator-variant\"]), \"Compute values\"],\n",
    "                        class_=\"ma-2 ml-6 pa-3\",\n",
    "                        elevation=\"3\",\n",
    "                        v_model=\"SHAP\",\n",
    "                        color=\"primary\",\n",
    "                    ),\n",
    "            ],\n",
    "        )\n",
    "    ]),\n",
    "    v.TabItem(children=[\n",
    "        v.Col(\n",
    "            class_=\"d-flex flex-column align-center\",\n",
    "            children=[\n",
    "                    v.Html(\n",
    "                        tag=\"h3\",\n",
    "                        class_=\"mb-3\",\n",
    "                        children=[\"Compute LIME values\"],\n",
    "                    ),\n",
    "                    v.ProgressLinear(\n",
    "                        style_=\"width: 80%\",\n",
    "                        v_model=0,\n",
    "                        color=\"primary\",\n",
    "                        height=\"15\",\n",
    "                        striped=True,\n",
    "                    ),\n",
    "                    v.TextField(\n",
    "                        class_=\"w-100\",\n",
    "                        style_=\"width: 100%\",\n",
    "                        v_model = \"0.00% [0/?] - 0m0s (estimated time : /min /s)\",\n",
    "                        readonly=True,\n",
    "                    ),\n",
    "                    v.Btn(\n",
    "                        children=[v.Icon(class_=\"mr-2\", children=[\"mdi-calculator-variant\"]), \"Compute values\"],\n",
    "                        class_=\"ma-2 ml-6 pa-3\",\n",
    "                        elevation=\"3\",\n",
    "                        v_model=\"LIME\",\n",
    "                        color=\"primary\",\n",
    "                    ),\n",
    "            ],\n",
    "        )\n",
    "        ])\n",
    "    ]\n",
    "\n",
    "new_compute_menu = v.Menu( \n",
    "        v_slots=[\n",
    "        {\n",
    "            \"name\": \"activator\",\n",
    "            \"variable\": \"props\",\n",
    "            \"children\": v.Btn(\n",
    "                v_on=\"props.on\",\n",
    "                icon=True,\n",
    "                size=\"x-large\",\n",
    "                children=[v.Icon(children=[\"mdi-timer-sand\"], size=\"large\")],\n",
    "                class_=\"ma-2 pa-3\",\n",
    "                elevation=\"3\",\n",
    "            ),\n",
    "        }\n",
    "        ],\n",
    "        children=[\n",
    "            v.Card( \n",
    "                class_=\"pa-4\",\n",
    "                rounded=True,\n",
    "                children=[\n",
    "                    widgets.VBox([ \n",
    "                        v.Tabs(\n",
    "                            v_model=0, \n",
    "                            children=tab_list + content_list\n",
    "                            )\n",
    "                        ],\n",
    "                    )\n",
    "                    ],\n",
    "                min_width=\"500\",\n",
    "            )\n",
    "        ],\n",
    "    v_model=False,\n",
    "    close_on_content_click=False,\n",
    "    offset_y=True,\n",
    "    )\n",
    "\n",
    "new_compute_menu"
   ]
  },
  {
   "cell_type": "code",
   "execution_count": 4,
   "metadata": {},
   "outputs": [
    {
     "data": {
      "application/vnd.jupyter.widget-view+json": {
       "model_id": "11c93943e21747ebb2a3130942f30424",
       "version_major": 2,
       "version_minor": 0
      },
      "text/plain": [
       "VBox(children=(AppBar(children=[Layout(children=[Image(value=b'\\x89PNG\\r\\n\\x1a\\n\\x00\\x00\\x00\\rIHDR\\x00\\x00\\x0e…"
      ]
     },
     "metadata": {},
     "output_type": "display_data"
    }
   ],
   "source": [
    "from IPython.display import display\n",
    "from ipywidgets import Layout, widgets\n",
    "from ipywidgets.widgets import Widget\n",
    "import ipyvuetify as v\n",
    "from importlib.resources import files\n",
    "from copy import copy\n",
    "import pandas as pd\n",
    "from antakia.gui_utils import app_widget, get_widget_at_address\n",
    "display(app_widget)"
   ]
  },
  {
   "cell_type": "code",
   "execution_count": 20,
   "metadata": {},
   "outputs": [
    {
     "data": {
      "application/vnd.jupyter.widget-view+json": {
       "model_id": "32bd9a32cbac496db8b3fdaa2952de25",
       "version_major": 2,
       "version_minor": 0
      },
      "text/plain": [
       "Slider(label='fig size', layout=None, max=600.0, min=100.0, step=1.0, v_model=246)"
      ]
     },
     "execution_count": 20,
     "metadata": {},
     "output_type": "execute_result"
    }
   ],
   "source": [
    "get_widget_at_address(app_widget, \"04000\")\n"
   ]
  },
  {
   "cell_type": "code",
   "execution_count": null,
   "metadata": {},
   "outputs": [],
   "source": []
  },
  {
   "cell_type": "code",
   "execution_count": null,
   "metadata": {},
   "outputs": [],
   "source": []
  },
  {
   "cell_type": "code",
   "execution_count": null,
   "metadata": {},
   "outputs": [],
   "source": []
  },
  {
   "cell_type": "code",
   "execution_count": null,
   "metadata": {},
   "outputs": [],
   "source": []
  },
  {
   "cell_type": "code",
   "execution_count": null,
   "metadata": {},
   "outputs": [],
   "source": []
  },
  {
   "cell_type": "code",
   "execution_count": null,
   "metadata": {},
   "outputs": [],
   "source": []
  },
  {
   "cell_type": "code",
   "execution_count": null,
   "metadata": {},
   "outputs": [],
   "source": []
  },
  {
   "cell_type": "code",
   "execution_count": null,
   "metadata": {},
   "outputs": [],
   "source": []
  },
  {
   "cell_type": "code",
   "execution_count": null,
   "metadata": {},
   "outputs": [],
   "source": []
  }
 ],
 "metadata": {
  "kernelspec": {
   "display_name": "antakia",
   "language": "python",
   "name": "python3"
  },
  "language_info": {
   "codemirror_mode": {
    "name": "ipython",
    "version": 3
   },
   "file_extension": ".py",
   "mimetype": "text/x-python",
   "name": "python",
   "nbconvert_exporter": "python",
   "pygments_lexer": "ipython3",
   "version": "3.10.13"
  },
  "orig_nbformat": 4
 },
 "nbformat": 4,
 "nbformat_minor": 2
}
