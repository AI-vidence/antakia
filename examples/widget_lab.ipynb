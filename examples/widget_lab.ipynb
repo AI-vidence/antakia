{
 "cells": [
  {
   "cell_type": "markdown",
   "metadata": {},
   "source": [
    "## app_widget"
   ]
  },
  {
   "cell_type": "code",
   "execution_count": null,
   "metadata": {},
   "outputs": [],
   "source": [
    "from IPython.display import display\n",
    "from ipywidgets import Layout, widgets\n",
    "from ipywidgets.widgets import Widget\n",
    "import ipyvuetify as v\n",
    "from importlib.resources import files\n",
    "from copy import copy\n",
    "import pandas as pd\n",
    "from antakia.gui.widgets import app_widget, get_widget, change_widget, check_address, dummy_df\n",
    "from plotly.graph_objects import FigureWidget, Histogram, Scatter, Scatter3d\n",
    "import numpy as np\n",
    "\n",
    "\n",
    "app_widget"
   ]
  },
  {
   "cell_type": "markdown",
   "metadata": {},
   "source": [
    "## Tree search"
   ]
  },
  {
   "cell_type": "code",
   "execution_count": null,
   "metadata": {},
   "outputs": [],
   "source": [
    "from antakia.gui.widgets import app_widget, get_widget, show_tree\n",
    "import ipyvuetify as v\n",
    "from antakia.gui.widgets import splash_widget, app_widget, get_widget\n",
    "from plotly.graph_objects import FigureWidget, Histogram, Scatter, Scatter3d\n",
    "import pandas as pd\n",
    "import numpy as np\n",
    "\n",
    "# show_tree(app_widget, \"Switch\")\n",
    "get_widget(app_widget, \"440\")\n",
    "# type(get_widget(app_widget, \"44001\"))\n",
    "# get_widget(splash_widget, \"120\")"
   ]
  },
  {
   "cell_type": "markdown",
   "metadata": {},
   "source": [
    "## Combining the two tables"
   ]
  },
  {
   "cell_type": "code",
   "execution_count": 1,
   "metadata": {},
   "outputs": [
    {
     "data": {
      "application/vnd.jupyter.widget-view+json": {
       "model_id": "5db2a5ce5302414f82f4230076a57227",
       "version_major": 2,
       "version_minor": 0
      },
      "text/plain": [
       "Container(children=[Col(children=[ColorTable(colors=['red', 'blue', 'green', 'yellow', 'purple', 'orange', 'pi…"
      ]
     },
     "execution_count": 1,
     "metadata": {},
     "output_type": "execute_result"
    }
   ],
   "source": [
    "import ipyvuetify as v\n",
    "import traitlets\n",
    "import pandas as pd\n",
    "\n",
    "dummy_regions_df = pd.DataFrame(\n",
    "    {\n",
    "        \"Region\": [\"1\", \"2\", \"3\", \"4\", \"5\", \"6\", \"7\", \"8\", \"9\", \"10\"],\n",
    "        \"Rules\": [\"Income ≥ 2800\", \"Segment ∈ ⟦D, E, F⟧\", \"Age ∈ [39, 45⟧\", \"Income ≥ 2800\", \"Segment ∈ ⟦D, E, F⟧\", \"Age ∈ [39, 45⟧\", \"Income ≥ 2800\", \"Segment ∈ ⟦D, E, F⟧\", \"Age ∈ [39, 45⟧\", \"Income ≥ 2800\"],\n",
    "        \"Points\": [12, 123, 98, 3, 210, 333, 224, 93, 82, 241],\n",
    "        \"% dataset\": [\"5.7%\", \"21%\", \"13%\", \"5.7%\", \"21%\", \"13%\", \"5.7%\", \"21%\", \"13%\", \"5.7%\"],\n",
    "        \"Sub-model\": [\"Linear regression\", \"Random forest\", \"Gradient boost\", \"Linear regression\", \"Random forest\", \"Gradient boost\", \"Linear regression\", \"Random forest\", \"Gradient boost\", \"Linear regression\"],\n",
    "        \"Score\": [\"MSE = 0.8\", \"MAE = 0.79\", \"MSE = 0.95\", \"MSE = 0.8\", \"MAE = 0.79\", \"MSE = 0.95\", \"MSE = 0.8\", \"MAE = 0.79\", \"MSE = 0.95\", \"MSE = 0.8\"],\n",
    "    }\n",
    ")\n",
    "headers=[\n",
    "    {\n",
    "        \"text\": column,\n",
    "        \"sortable\": False, \n",
    "        \"value\": column,\n",
    "    }\n",
    "    for column in dummy_regions_df.columns\n",
    "]\n",
    "headers2=headers.copy()[1:]\n",
    "\n",
    "items=dummy_regions_df.to_dict('records')\n",
    "colors = [\"red\", \"blue\", \"green\", \"yellow\", \"purple\", \"orange\", \"pink\", \"brown\", \"grey\", \"cyan\"]\n",
    "selected = []\n",
    "\n",
    "class ColorTable(v.VuetifyTemplate):\n",
    "    headers = traitlets.List([]).tag(sync=True, allow_null=True)\n",
    "    items = traitlets.List([]).tag(sync=True, allow_null=True)\n",
    "    colors = traitlets.List(colors).tag(sync=True)\n",
    "    template = traitlets.Unicode('''\n",
    "        <template>\n",
    "            <v-data-table\n",
    "                :headers=\"headers\"\n",
    "                :items=\"items\"\n",
    "                item-key=\"Region\"\n",
    "                show-select\n",
    "                single-select\n",
    "                :hide-default-footer=\"true\"\n",
    "                @item-selected=\"tableselect\"\n",
    "            >\n",
    "            <template v-slot:item.Region=\"variable\">\n",
    "              <v-chip :color=\"colors[variable.value]\" >\n",
    "              {{ variable.value }}\n",
    "              </v-chip>\n",
    "            </template>\n",
    "            </v-data-table>\n",
    "        </template>\n",
    "        ''').tag(sync=True) # type: ignore\n",
    "    disable_sort=True\n",
    "\n",
    "    # @click:row=\"tableclick\"\n",
    "    # def vue_tableclick(self, data):\n",
    "    #     raise ValueError(f\"click event data = {data}\")\n",
    "    \n",
    "    def vue_tableselect(self, data):\n",
    "        pass\n",
    "    \n",
    "\n",
    "ct = ColorTable(headers=[headers[0]], items=items)\n",
    "\n",
    "dt = v.DataTable(\n",
    "    # v_model=\"selected\",\n",
    "    # show_select=True,\n",
    "    # item_key=\"Region\",\n",
    "    # item_value=\"Region\",\n",
    "    # single_select=True,\n",
    "    headers=headers2,\n",
    "    items=dummy_regions_df.to_dict(\n",
    "        \"records\"\n",
    "    ),\n",
    "    hide_default_footer=True,\n",
    "    disable_sort=True,\n",
    ")\n",
    "\n",
    "\n",
    "c = v.Container(\n",
    "    class_=\"d-flex\",\n",
    "    children=[\n",
    "        v.Col(\n",
    "            class_=\"d-flex align-start mr-0 pr-0\",\n",
    "            children=[ct],\n",
    "        ),\n",
    "        v.Col(\n",
    "            class_=\"ml-0 pl-0 flex-fill\",\n",
    "            children=[dt],\n",
    "        ),\n",
    "    ],\n",
    ")\n",
    "c"
   ]
  },
  {
   "cell_type": "code",
   "execution_count": 4,
   "metadata": {},
   "outputs": [
    {
     "ename": "AttributeError",
     "evalue": "'ColorTable' object has no attribute 'v_model'",
     "output_type": "error",
     "traceback": [
      "\u001b[0;31m---------------------------------------------------------------------------\u001b[0m",
      "\u001b[0;31mAttributeError\u001b[0m                            Traceback (most recent call last)",
      "\u001b[1;32m/Users/laurent/Documents/antakia/examples/widget_lab.ipynb Cellule 7\u001b[0m line \u001b[0;36m1\n\u001b[0;32m----> <a href='vscode-notebook-cell:/Users/laurent/Documents/antakia/examples/widget_lab.ipynb#W6sZmlsZQ%3D%3D?line=0'>1</a>\u001b[0m ct\u001b[39m.\u001b[39;49mv_model\n",
      "\u001b[0;31mAttributeError\u001b[0m: 'ColorTable' object has no attribute 'v_model'"
     ]
    }
   ],
   "source": []
  }
 ],
 "metadata": {
  "kernelspec": {
   "display_name": "antakia",
   "language": "python",
   "name": "python3"
  },
  "language_info": {
   "codemirror_mode": {
    "name": "ipython",
    "version": 3
   },
   "file_extension": ".py",
   "mimetype": "text/x-python",
   "name": "python",
   "nbconvert_exporter": "python",
   "pygments_lexer": "ipython3",
   "version": "3.10.13"
  },
  "orig_nbformat": 4
 },
 "nbformat": 4,
 "nbformat_minor": 2
}
