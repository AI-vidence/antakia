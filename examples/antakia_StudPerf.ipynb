{
 "cells": [
  {
   "cell_type": "markdown",
   "id": "677b695a-0ddd-4917-9c66-d93b6dff1c95",
   "metadata": {},
   "source": [
    "<a id=\"top\"></a>\n",
    "# AntakIA tutorial\n",
    "***\n",
    "### Using AntakIA - the example of the Student Performance dataset"
   ]
  },
  {
   "cell_type": "markdown",
   "id": "ea21d9b7-786f-4593-9440-d651f011e53a",
   "metadata": {},
   "source": [
    "AntakIA helps you understand and explain your _black-box_ machine-learning models, by identifying the most relevant way of segregating your dataset and the best surrogate models to apply on these freshly created regions. In this notebook, we will show you how to use the automatic dyadic-clustering algorithm of AntakIA.\n",
    "\n",
    "> For more complete tutorials, please refer to the [AntakIA __with GUI__ tutorial](antakia_CH_gui.ipynb) or the [AntakIA __without GUI__ tutorial](antakia_CH_no_gui.ipynb).\n",
    "> \n",
    "> For more information about AntakIA, please refer to the [AntakIA documentation](https://ai-vidence.github.io/antakia/) or go to [AI-vidence's website](https://ai-vidence.com/)."
   ]
  },
  {
   "cell_type": "markdown",
   "id": "de4d150c-8865-47d2-9f56-f9c74d563d64",
   "metadata": {},
   "source": [
    "## Context :\n",
    "\n",
    "__Let's pretend that you are a student willing to adapt your life habits for scoring better performance in school.__ We have a dataset of more than  10000 students characteristics (e.g. Number of sleeping hours, extrascholar activities, etc.). We also have the curent performance of each student. We will first train a machine-learning model (in our case, a simple GradientBoostingRegressor) that will predict the performance of a student based on its characteristics. \n",
    "\n",
    "__The main issue is the following :__ we want to explain to you how to organize given the known data. We can't just show you the machine-learning model, because it is a _black-box_ model. We need to find a way to explain the performance of a student based on its characteristics. This is where AntakIA comes in handy !\n",
    "\n",
    "In this tutorial we'll start from scratch ( with no precomputed explanatory values, so that AntakIA performs it by itself. The default explanatory values are the SHAP values"
   ]
  },
  {
   "cell_type": "markdown",
   "id": "a4e9f997-f938-4477-a32e-5d9f265f54bb",
   "metadata": {},
   "source": [
    "We start by importing the necessary libraries and the dataset, you can find it in the `data` folder."
   ]
  },
  {
   "cell_type": "code",
   "execution_count": 46,
   "id": "894d94cf-a326-46a4-9774-78dd50e89ba2",
   "metadata": {},
   "outputs": [],
   "source": [
    "import pandas as pd \n",
    "\n",
    "df = pd.read_csv('../data/Student_Performance.csv')\n",
    "df['extra'] = df['Extracurricular Activities'].map({'Yes':1,'No':0})\n",
    "df = df.drop('Extracurricular Activities', axis =1)\n",
    "\n",
    "X = df.drop(columns = 'Performance Index')\n",
    "Y = df['Performance Index']\n",
    "X.columns = [i.replace(' ','_') for i in X.columns]"
   ]
  },
  {
   "cell_type": "code",
   "execution_count": 47,
   "id": "a9885cae-5b8e-48e1-b3ed-5c434859a645",
   "metadata": {},
   "outputs": [
    {
     "data": {
      "text/html": [
       "<div>\n",
       "<style scoped>\n",
       "    .dataframe tbody tr th:only-of-type {\n",
       "        vertical-align: middle;\n",
       "    }\n",
       "\n",
       "    .dataframe tbody tr th {\n",
       "        vertical-align: top;\n",
       "    }\n",
       "\n",
       "    .dataframe thead th {\n",
       "        text-align: right;\n",
       "    }\n",
       "</style>\n",
       "<table border=\"1\" class=\"dataframe\">\n",
       "  <thead>\n",
       "    <tr style=\"text-align: right;\">\n",
       "      <th></th>\n",
       "      <th>Hours Studied</th>\n",
       "      <th>Previous Scores</th>\n",
       "      <th>Sleep Hours</th>\n",
       "      <th>Sample Question Papers Practiced</th>\n",
       "      <th>Performance Index</th>\n",
       "      <th>extra</th>\n",
       "    </tr>\n",
       "  </thead>\n",
       "  <tbody>\n",
       "    <tr>\n",
       "      <th>8296</th>\n",
       "      <td>2</td>\n",
       "      <td>71</td>\n",
       "      <td>9</td>\n",
       "      <td>3</td>\n",
       "      <td>47.0</td>\n",
       "      <td>0</td>\n",
       "    </tr>\n",
       "    <tr>\n",
       "      <th>840</th>\n",
       "      <td>2</td>\n",
       "      <td>51</td>\n",
       "      <td>6</td>\n",
       "      <td>9</td>\n",
       "      <td>27.0</td>\n",
       "      <td>0</td>\n",
       "    </tr>\n",
       "    <tr>\n",
       "      <th>7032</th>\n",
       "      <td>5</td>\n",
       "      <td>43</td>\n",
       "      <td>5</td>\n",
       "      <td>6</td>\n",
       "      <td>29.0</td>\n",
       "      <td>0</td>\n",
       "    </tr>\n",
       "    <tr>\n",
       "      <th>3162</th>\n",
       "      <td>8</td>\n",
       "      <td>75</td>\n",
       "      <td>8</td>\n",
       "      <td>9</td>\n",
       "      <td>72.0</td>\n",
       "      <td>1</td>\n",
       "    </tr>\n",
       "    <tr>\n",
       "      <th>5822</th>\n",
       "      <td>5</td>\n",
       "      <td>92</td>\n",
       "      <td>8</td>\n",
       "      <td>0</td>\n",
       "      <td>79.0</td>\n",
       "      <td>1</td>\n",
       "    </tr>\n",
       "  </tbody>\n",
       "</table>\n",
       "</div>"
      ],
      "text/plain": [
       "      Hours Studied  Previous Scores  Sleep Hours  \\\n",
       "8296              2               71            9   \n",
       "840               2               51            6   \n",
       "7032              5               43            5   \n",
       "3162              8               75            8   \n",
       "5822              5               92            8   \n",
       "\n",
       "      Sample Question Papers Practiced  Performance Index  extra  \n",
       "8296                                 3               47.0      0  \n",
       "840                                  9               27.0      0  \n",
       "7032                                 6               29.0      0  \n",
       "3162                                 9               72.0      1  \n",
       "5822                                 0               79.0      1  "
      ]
     },
     "execution_count": 47,
     "metadata": {},
     "output_type": "execute_result"
    }
   ],
   "source": [
    "df.sample(5)"
   ]
  },
  {
   "cell_type": "markdown",
   "id": "b1e6907c-6752-4202-8be8-63a7be0314f9",
   "metadata": {},
   "source": [
    "#### **Let's now train the model**"
   ]
  },
  {
   "cell_type": "code",
   "execution_count": 48,
   "id": "2d3d844b-8807-475a-b1f8-e552e0b44a93",
   "metadata": {},
   "outputs": [
    {
     "name": "stdout",
     "output_type": "stream",
     "text": [
      "model fitted\n"
     ]
    }
   ],
   "source": [
    "from sklearn.ensemble import GradientBoostingRegressor\n",
    "model = GradientBoostingRegressor(random_state = 9)\n",
    "model.fit(X, Y)\n",
    "print('model fitted')"
   ]
  },
  {
   "cell_type": "markdown",
   "id": "be9d4f0e-3f91-45aa-b44d-ea3c03f8eb51",
   "metadata": {},
   "source": [
    "We can then import __antakia__ !\n",
    "We will define all the antakia objects necessary to use the user interface. To understand it better, see [this notebook](antakia_CH_gui.ipynb), another example with more details, or [this one](antakia_utils.ipynb) to understand the multiple objects of the package."
   ]
  },
  {
   "cell_type": "code",
   "execution_count": 49,
   "id": "bc1bc07d-b9b2-423c-9156-10c8996e12f6",
   "metadata": {},
   "outputs": [],
   "source": [
    "import antakia"
   ]
  },
  {
   "cell_type": "code",
   "execution_count": 50,
   "id": "6cabb7dd-9b2c-4a0e-8f16-3c2bc420c72b",
   "metadata": {},
   "outputs": [],
   "source": [
    "dataset = antakia.Dataset(X, model = model, y=Y)\n",
    "atk = antakia.AntakIA(dataset)"
   ]
  },
  {
   "cell_type": "markdown",
   "id": "c9f02095-54de-4479-9555-5d66bdd48ff4",
   "metadata": {},
   "source": [
    "Launching the GUI!\n",
    "We can now launch the GUI! We will use it to manually define regions, explore our data and model, or run the automatic dyadic-clustering algorithm.\n",
    "\n",
    "Before using the GUI, we recommend you to do the following things:\n",
    "- Take a look at its documentation [here](https://ai-vidence.github.io/antakia/documentation/gui/). `GUI` is a specific AntakIA object!\n",
    "- Read the [User guide](https://ai-vidence.github.io/antakia/usage/) section of the documentation.\n",
    "- Watch the video tutorials on [AI-vidence's website](https://ai-vidence.com/) or on [YouTube](https://www.youtube.com/@AI-vidence)."
   ]
  },
  {
   "cell_type": "code",
   "execution_count": 53,
   "id": "3fae6609-9259-4c4c-95e7-e15494ebec79",
   "metadata": {},
   "outputs": [
    {
     "data": {
      "application/vnd.jupyter.widget-view+json": {
       "model_id": "195d3481343340369f258cf6895dcd26",
       "version_major": 2,
       "version_minor": 0
      },
      "text/plain": [
       "Layout(children=[Image(value=b'\\x89PNG\\r\\n\\x1a\\n\\x00\\x00\\x00\\rIHDR\\x00\\x00\\t2\\x00\\x00\\n\\xd5\\x08\\x06\\x00\\x00\\x0…"
      ]
     },
     "metadata": {},
     "output_type": "display_data"
    },
    {
     "data": {
      "application/vnd.jupyter.widget-view+json": {
       "model_id": "92078730d7ed456cbb1a060688f5c261",
       "version_major": 2,
       "version_minor": 0
      },
      "text/plain": [
       "VBox(children=(AppBar(children=[Html(children=['AntakIA'], class_='ml-3', layout=None, tag='h2'), Spacer(layou…"
      ]
     },
     "metadata": {},
     "output_type": "display_data"
    }
   ],
   "source": [
    "atk.startGUI()"
   ]
  },
  {
   "cell_type": "markdown",
   "id": "24a364ea-fe52-4536-9a1c-b0ac24601da7",
   "metadata": {},
   "source": [
    "## List if usefull links\n",
    "\n",
    "- [AntakIA documentation](https://ai-vidence.github.io/antakia/) - The official documentation of AntakIA\n",
    "- [AntakIA GitHub repository](https://github.com/AI-vidence/antakia/tree/main) - The GitHub repository of AntakIA. Do not forget to __star__ it if you like it!\n",
    "- [AntakIA video tutorials](https://www.youtube.com/@AI-vidence) - The YouTube channel of AI-vidence, with video tutorials on AntakIA!\n",
    "- [AI-vidence's website](https://ai-vidence.com/) - The website of AI-vidence, the company behind AntakIA"
   ]
  },
  {
   "cell_type": "markdown",
   "id": "f6c7d9c4-34ec-4a90-afcf-dd3a88f1f099",
   "metadata": {},
   "source": [
    "[Top of Page](#top)\n",
    "<img style=\"float: right;\" src=\"https://raw.githubusercontent.com/AI-vidence/antakia/main/docs/img/Logo-AI-vidence.png\" alt=\"AI-vidence\" width=\"200px\"/> "
   ]
  },
  {
   "cell_type": "markdown",
   "id": "1901ef7f-d3cd-4206-8deb-a6e39a7146a0",
   "metadata": {},
   "source": [
    " ***"
   ]
  },
  {
   "cell_type": "code",
   "execution_count": null,
   "id": "cdf1a666-6904-4a9f-b532-35e95992bd7b",
   "metadata": {},
   "outputs": [],
   "source": []
  }
 ],
 "metadata": {
  "kernelspec": {
   "display_name": "Python 3 (ipykernel)",
   "language": "python",
   "name": "python3"
  },
  "language_info": {
   "codemirror_mode": {
    "name": "ipython",
    "version": 3
   },
   "file_extension": ".py",
   "mimetype": "text/x-python",
   "name": "python",
   "nbconvert_exporter": "python",
   "pygments_lexer": "ipython3",
   "version": "3.10.13"
  }
 },
 "nbformat": 4,
 "nbformat_minor": 5
}
