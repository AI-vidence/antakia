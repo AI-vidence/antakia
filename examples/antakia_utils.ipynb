{
 "cells": [
  {
   "cell_type": "markdown",
   "metadata": {},
   "source": [
    "<a id=\"top\"></a>\n",
    "# AntakIA tutorial\n",
    "***\n",
    "### Learning about the utils of AntakIA!"
   ]
  },
  {
   "cell_type": "markdown",
   "metadata": {},
   "source": [
    "__<p style=\"color:orange; text-align: center;\">WARNING: This notebook is not exhaustive! Please refer to the [AntakIA documentation](https://ai-vidence.github.io/antakia/) for more information.</p>__\n",
    "\n",
    "AntakIA helps you understand and explain your _black-box_ machine-learning models, by identifying the most relevant way of segregating your dataset and the best surrogate models to apply on these freshly created regions. In this notebook, we will show you how to use the automatic dyadic-clustering algorithm of AntakIA.\n",
    "\n",
    "> This notebook is a tutorial on how to manipulate the different objects and functions of AntakIA. If you want a usage example, please refer to :\n",
    "> - [this tutorial](antakia_gui.ipynb) if you want to use the GUI,\n",
    "> - [this one](antakia_no_gui.ipynb) if you don't want to use the GUI.\n",
    ">\n",
    "> For more information about AntakIA, please refer to the [AntakIA documentation](https://ai-vidence.github.io/antakia/) or go to [AI-vidence's website](https://ai-vidence.com/)."
   ]
  },
  {
   "cell_type": "markdown",
   "metadata": {},
   "source": [
    "__In this notebook, you will learn to manipulate different objects and concepts of AntakIA, such as:__\n",
    "- [The Dataset object](#dataset)\n",
    "- [The Potatoes](#potatoes)\n",
    "- [The AntakIA object](#antakia)\n",
    "- [The GUI object](#gui)\n",
    "- [The save and load functions](#save_load)"
   ]
  },
  {
   "cell_type": "markdown",
   "metadata": {},
   "source": [
    "Every data-science prject begins with importing the necessary libraries."
   ]
  },
  {
   "cell_type": "code",
   "execution_count": 1,
   "metadata": {
    "tags": []
   },
   "outputs": [],
   "source": [
    "import pandas as pd\n",
    "import antakia # of course!"
   ]
  },
  {
   "cell_type": "markdown",
   "metadata": {},
   "source": [
    "Then, the dataset. Ours is [this one](https://inria.github.io/scikit-learn-mooc/python_scripts/datasets_california_housing.html); it can be found in the `data` folder of this repository."
   ]
  },
  {
   "cell_type": "code",
   "execution_count": 2,
   "metadata": {
    "tags": []
   },
   "outputs": [],
   "source": [
    "df = pd.read_csv('../data/california_housing/california_housing.csv').drop(['Unnamed: 0'], axis=1)\n",
    "X = df.iloc[:,0:8] # the dataset\n",
    "Y = df.iloc[:,9] # the target variable"
   ]
  },
  {
   "cell_type": "markdown",
   "metadata": {},
   "source": [
    "We train an XGBoost model that we will use to predict the price of a house."
   ]
  },
  {
   "cell_type": "code",
   "execution_count": 3,
   "metadata": {
    "tags": []
   },
   "outputs": [
    {
     "name": "stdout",
     "output_type": "stream",
     "text": [
      "model fitted\n"
     ]
    }
   ],
   "source": [
    "from sklearn.ensemble import GradientBoostingRegressor\n",
    "model = GradientBoostingRegressor(random_state = 9)\n",
    "model.fit(X, Y)\n",
    "print('model fitted')"
   ]
  },
  {
   "cell_type": "markdown",
   "metadata": {},
   "source": [
    "***\n",
    "# The Dataset object <a id=\"dataset\"></a>\n",
    "\n",
    "Every AntakIA usage starts by instatiating a [`Dataset`](https://ai-vidence.github.io/antakia/documentation/dataset/). It takes as input at least a pandas dataframe for the X values and a model."
   ]
  },
  {
   "cell_type": "code",
   "execution_count": 4,
   "metadata": {
    "slideshow": {
     "slide_type": ""
    },
    "tags": []
   },
   "outputs": [
    {
     "name": "stdout",
     "output_type": "stream",
     "text": [
      "Size of the dataset: 20640\n"
     ]
    }
   ],
   "source": [
    "dataset = antakia.Dataset(X, model = model, y=Y)\n",
    "print(f'Size of the dataset: {len(dataset)}')"
   ]
  },
  {
   "cell_type": "markdown",
   "metadata": {},
   "source": [
    "### The dataset object contains a bunch of interesting methods:\n",
    "- `frac`, to get a fraction of the dataset"
   ]
  },
  {
   "cell_type": "code",
   "execution_count": 5,
   "metadata": {},
   "outputs": [
    {
     "name": "stdout",
     "output_type": "stream",
     "text": [
      "Size of the fractionated dataset: 206\n"
     ]
    }
   ],
   "source": [
    "dataset.frac(0.01)\n",
    "print(f'Size of the fractionated dataset: {len(dataset)}')"
   ]
  },
  {
   "cell_type": "markdown",
   "metadata": {},
   "source": [
    "- `improve`, which displays a widget to modify the dataset. For each feature, you can change its name, its type, its comment and if it is sensible or not.\n",
    "You also have the access to the general informations of the dataset."
   ]
  },
  {
   "cell_type": "code",
   "execution_count": null,
   "metadata": {},
   "outputs": [],
   "source": [
    "dataset.improve()"
   ]
  },
  {
   "cell_type": "markdown",
   "metadata": {},
   "source": [
    "***\n",
    "# The AntakIA object <a id=\"antakia\"></a>\n",
    "We then use the [`AntakIA`](https://ai-vidence.github.io/antakia/documentation/antakia/) class to create an AntakIA object. This is the main object of the package: all the objects are linked though it."
   ]
  },
  {
   "cell_type": "code",
   "execution_count": 7,
   "metadata": {
    "tags": []
   },
   "outputs": [],
   "source": [
    "atk = antakia.AntakIA(dataset)"
   ]
  },
  {
   "cell_type": "markdown",
   "metadata": {},
   "source": [
    "You can access to its attributes using the methods corresponding. You can set them the same way. Here a few examples:"
   ]
  },
  {
   "cell_type": "code",
   "execution_count": 8,
   "metadata": {},
   "outputs": [],
   "source": [
    "atk.getRegions()\n",
    "atk.getSaves()\n",
    "atk.getExplanations()\n",
    "\n",
    "atk.newRegion(antakia.Potato(atk)) # we will see what a Potato is later...\n",
    "atk.resetRegions()"
   ]
  },
  {
   "cell_type": "markdown",
   "metadata": {},
   "source": [
    "The AntakIA object contains the explanatory values. You can import them with `import_explanation` when instaciating the object, or with `importExplanation` after.\n",
    "\n",
    "If you want to compute other explanations (for now, Shap and Lime values are avalable), you can use the appropriate methods:"
   ]
  },
  {
   "cell_type": "code",
   "execution_count": null,
   "metadata": {},
   "outputs": [],
   "source": [
    "atk.computeSHAP() # or atk.computeLIME()"
   ]
  },
  {
   "cell_type": "markdown",
   "metadata": {},
   "source": [
    "You may start the GUI using the `startGUI` method. See [this tutorial](antakia_gui.ipynb) for more information!"
   ]
  },
  {
   "cell_type": "code",
   "execution_count": null,
   "metadata": {},
   "outputs": [],
   "source": [
    "atk.startGUI(explanation='SHAP')"
   ]
  },
  {
   "cell_type": "markdown",
   "metadata": {},
   "source": [
    "Without the GUI, you may want to compute our automatic clustering:"
   ]
  },
  {
   "cell_type": "code",
   "execution_count": 11,
   "metadata": {},
   "outputs": [],
   "source": [
    "atk.computeDyadicClustering(explanation='SHAP')"
   ]
  },
  {
   "cell_type": "markdown",
   "metadata": {},
   "source": [
    "***\n",
    "## The Potato object <a id=\"potatoes\"></a>\n",
    "\n",
    "An AntakIA Potato is a selection of points from the dataset. A Potato is linked to an Antakia object. You can define or access its different attributes like so:"
   ]
  },
  {
   "cell_type": "code",
   "execution_count": 12,
   "metadata": {},
   "outputs": [
    {
     "name": "stdout",
     "output_type": "stream",
     "text": [
      "AntakIA ERROR : No rules found for this precision and recall\n"
     ]
    },
    {
     "data": {
      "text/html": [
       "<div>\n",
       "<style scoped>\n",
       "    .dataframe tbody tr th:only-of-type {\n",
       "        vertical-align: middle;\n",
       "    }\n",
       "\n",
       "    .dataframe tbody tr th {\n",
       "        vertical-align: top;\n",
       "    }\n",
       "\n",
       "    .dataframe thead th {\n",
       "        text-align: right;\n",
       "    }\n",
       "</style>\n",
       "<table border=\"1\" class=\"dataframe\">\n",
       "  <thead>\n",
       "    <tr style=\"text-align: right;\">\n",
       "      <th></th>\n",
       "      <th>MedInc</th>\n",
       "      <th>HouseAge</th>\n",
       "      <th>AveRooms</th>\n",
       "      <th>AveBedrms</th>\n",
       "      <th>Population</th>\n",
       "      <th>AveOccup</th>\n",
       "      <th>Latitude</th>\n",
       "      <th>Longitude</th>\n",
       "    </tr>\n",
       "  </thead>\n",
       "  <tbody>\n",
       "    <tr>\n",
       "      <th>1</th>\n",
       "      <td>5.8541</td>\n",
       "      <td>22.0</td>\n",
       "      <td>6.448105</td>\n",
       "      <td>0.988468</td>\n",
       "      <td>1871.0</td>\n",
       "      <td>3.082372</td>\n",
       "      <td>33.66</td>\n",
       "      <td>-117.97</td>\n",
       "    </tr>\n",
       "    <tr>\n",
       "      <th>2</th>\n",
       "      <td>1.9417</td>\n",
       "      <td>32.0</td>\n",
       "      <td>7.647059</td>\n",
       "      <td>2.240642</td>\n",
       "      <td>434.0</td>\n",
       "      <td>2.320856</td>\n",
       "      <td>40.28</td>\n",
       "      <td>-124.25</td>\n",
       "    </tr>\n",
       "    <tr>\n",
       "      <th>3</th>\n",
       "      <td>1.5933</td>\n",
       "      <td>37.0</td>\n",
       "      <td>3.998331</td>\n",
       "      <td>1.046745</td>\n",
       "      <td>2489.0</td>\n",
       "      <td>4.155259</td>\n",
       "      <td>32.69</td>\n",
       "      <td>-117.11</td>\n",
       "    </tr>\n",
       "    <tr>\n",
       "      <th>7</th>\n",
       "      <td>2.3549</td>\n",
       "      <td>18.0</td>\n",
       "      <td>5.646209</td>\n",
       "      <td>1.288809</td>\n",
       "      <td>618.0</td>\n",
       "      <td>2.231047</td>\n",
       "      <td>38.43</td>\n",
       "      <td>-120.55</td>\n",
       "    </tr>\n",
       "    <tr>\n",
       "      <th>8</th>\n",
       "      <td>4.2292</td>\n",
       "      <td>33.0</td>\n",
       "      <td>6.393750</td>\n",
       "      <td>1.021875</td>\n",
       "      <td>1018.0</td>\n",
       "      <td>3.181250</td>\n",
       "      <td>33.89</td>\n",
       "      <td>-118.01</td>\n",
       "    </tr>\n",
       "  </tbody>\n",
       "</table>\n",
       "</div>"
      ],
      "text/plain": [
       "   MedInc  HouseAge  AveRooms  AveBedrms  Population  AveOccup  Latitude  \\\n",
       "1  5.8541      22.0  6.448105   0.988468      1871.0  3.082372     33.66   \n",
       "2  1.9417      32.0  7.647059   2.240642       434.0  2.320856     40.28   \n",
       "3  1.5933      37.0  3.998331   1.046745      2489.0  4.155259     32.69   \n",
       "7  2.3549      18.0  5.646209   1.288809       618.0  2.231047     38.43   \n",
       "8  4.2292      33.0  6.393750   1.021875      1018.0  3.181250     33.89   \n",
       "\n",
       "   Longitude  \n",
       "1    -117.97  \n",
       "2    -124.25  \n",
       "3    -117.11  \n",
       "7    -120.55  \n",
       "8    -118.01  "
      ]
     },
     "execution_count": 12,
     "metadata": {},
     "output_type": "execute_result"
    }
   ],
   "source": [
    "potato = antakia.Potato(atk, [])\n",
    "\n",
    "potato.setIndexes([1,2,3,7,8,55,77,99]) # indexes of the observations to explain\n",
    "\n",
    "potato.apply_skope(explanation='SHAP') # to find the rules that explain the observations\n",
    "\n",
    "import sklearn.linear_model as lm\n",
    "potato.setSubModel(lm.LinearRegression())\n",
    "\n",
    "potato.getVSdata().head()"
   ]
  },
  {
   "cell_type": "markdown",
   "metadata": {},
   "source": [
    "You might also want to import a potato from a file:"
   ]
  },
  {
   "cell_type": "code",
   "execution_count": 13,
   "metadata": {},
   "outputs": [],
   "source": [
    "from antakia.potato import potatoFromJson\n",
    "#potato = potatoFromJson(atk, 'a json file')"
   ]
  },
  {
   "cell_type": "markdown",
   "metadata": {},
   "source": [
    "That's it !\n",
    "***"
   ]
  },
  {
   "cell_type": "markdown",
   "metadata": {},
   "source": [
    "## List if usefull links\n",
    "\n",
    "- [AntakIA documentation](https://ai-vidence.github.io/antakia/) - The official documentation of AntakIA\n",
    "- [AntakIA GitHub repository](https://github.com/AI-vidence/antakia/tree/main) - The GitHub repository of AntakIA. Do not forget to __star__ it if you like it!\n",
    "- [AntakIA video tutorials](https://www.youtube.com/@AI-vidence) - The YouTube channel of AI-vidence, with video tutorials on AntakIA!\n",
    "- [AI-vidence's website](https://ai-vidence.com/) - The website of AI-vidence, the company behind AntakIA"
   ]
  },
  {
   "cell_type": "markdown",
   "metadata": {},
   "source": [
    "[Top of Page](#top)\n",
    "<img style=\"float: right;\" src=\"https://raw.githubusercontent.com/AI-vidence/antakia/main/docs/img/Logo-AI-vidence.png\" alt=\"AI-vidence\" width=\"200px\"/> "
   ]
  },
  {
   "cell_type": "markdown",
   "metadata": {},
   "source": [
    " ***"
   ]
  }
 ],
 "metadata": {
  "kernelspec": {
   "display_name": "antakia-venv",
   "language": "python",
   "name": "antakia-venv"
  },
  "language_info": {
   "codemirror_mode": {
    "name": "ipython",
    "version": 3
   },
   "file_extension": ".py",
   "mimetype": "text/x-python",
   "name": "python",
   "nbconvert_exporter": "python",
   "pygments_lexer": "ipython3",
   "version": "3.10.12"
  }
 },
 "nbformat": 4,
 "nbformat_minor": 4
}
