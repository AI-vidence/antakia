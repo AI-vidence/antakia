{
 "cells": [
  {
   "cell_type": "markdown",
   "metadata": {},
   "source": [
    "<a id=\"top\"></a>\n",
    "# AntakIA tutorial\n",
    "***\n",
    "### Using AntakIA - the example of the German Credit dataset"
   ]
  },
  {
   "cell_type": "markdown",
   "metadata": {},
   "source": [
    "AntakIA helps you understand and explain your _black-box_ machine-learning models, by identifying the most relevant way of segregating your dataset and the best surrogate models to apply on these freshly created regions. In this notebook, we will show you how to use the automatic dyadic-clustering algorithm of AntakIA.\n",
    "\n",
    "> For more complete tutorials, please refer to the [AntakIA __with GUI__ tutorial](antakia_CH_gui.ipynb) or the [AntakIA __without GUI__ tutorial](antakia_CH_no_gui.ipynb).\n",
    "> \n",
    "> For more information about AntakIA, please refer to the [AntakIA documentation](https://ai-vidence.github.io/antakia/) or go to [AI-vidence's website](https://ai-vidence.com/)."
   ]
  },
  {
   "cell_type": "markdown",
   "metadata": {},
   "source": [
    "## Context :\n",
    "\n",
    "__Let's pretend that we are a bank that needs to find a way to explain to its customers their choice of giving or not a credit to a person.__\n",
    "\n",
    "We will use the _German Credit dataset_, described [here](https://online.stat.psu.edu/stat857/node/222/). We already trained a machine-learning model that will predict if a person will get a credit or not.\n",
    "\n",
    "__The main issue is the following :__ we want to explain to our customers our decision! We can't just show them the machine-learning model, because it is a _black-box_ model. This is where AntakIA comes in handy."
   ]
  },
  {
   "cell_type": "markdown",
   "metadata": {},
   "source": [
    "We start by __importing the necessary libraries__."
   ]
  },
  {
   "cell_type": "code",
   "execution_count": null,
   "metadata": {
    "tags": []
   },
   "outputs": [],
   "source": [
    "import pandas as pd "
   ]
  },
  {
   "cell_type": "markdown",
   "metadata": {},
   "source": [
    "Then, we __define our X and y values__, and we import a dataframe of __explanatory values__, which we pre-computed."
   ]
  },
  {
   "cell_type": "code",
   "execution_count": null,
   "metadata": {},
   "outputs": [],
   "source": [
    "df = pd.read_csv('../data/german_credit.csv')\n",
    "\n",
    "X = df.iloc[:,1:] # the dataset\n",
    "X.columns = [i.replace(' ','_') for i in X.columns]\n",
    "Y = df.iloc[:,0] # the target variable\n",
    "SHAP = pd.read_csv('../data/german_credit_shap.csv').drop('Unnamed: 0',axis=1) # the SHAP values"
   ]
  },
  {
   "cell_type": "markdown",
   "metadata": {},
   "source": [
    "We define and train a __model__, in our case the __RidgeClassifier__ from __scikit-learn__."
   ]
  },
  {
   "cell_type": "code",
   "execution_count": null,
   "metadata": {
    "tags": []
   },
   "outputs": [],
   "source": [
    "from sklearn.linear_model import RidgeClassifier\n",
    "model = RidgeClassifier(random_state=9)\n",
    "model.fit(X, Y)\n",
    "print('model fitted')"
   ]
  },
  {
   "cell_type": "markdown",
   "metadata": {},
   "source": [
    "We can then import __antakia__ !\n",
    "We will define all the antakia objects necessary to use the user interface. To understand it better, see [this notebook](antakia_CH_gui.ipynb), another example with more details, or [this one](antakia_utils.ipynb) to understand the multiple objects of the package."
   ]
  },
  {
   "cell_type": "code",
   "execution_count": null,
   "metadata": {},
   "outputs": [],
   "source": [
    "import antakia"
   ]
  },
  {
   "cell_type": "markdown",
   "metadata": {},
   "source": [
    "### Instanciating everything we need!"
   ]
  },
  {
   "cell_type": "code",
   "execution_count": null,
   "metadata": {
    "slideshow": {
     "slide_type": ""
    },
    "tags": []
   },
   "outputs": [],
   "source": [
    "dataset = antakia.Dataset(X, model = model, y=Y)\n",
    "atk = antakia.AntakIA(dataset, import_explanation=SHAP)"
   ]
  },
  {
   "cell_type": "code",
   "execution_count": null,
   "metadata": {
    "tags": []
   },
   "outputs": [],
   "source": [
    "from sklearn.tree import DecisionTreeClassifier\n",
    "from sklearn.ensemble import RandomForestClassifier\n",
    "from sklearn.gaussian_process import GaussianProcessClassifier\n",
    "\n",
    "my_sub_models = [DecisionTreeClassifier(), RandomForestClassifier(), GaussianProcessClassifier()]"
   ]
  },
  {
   "cell_type": "markdown",
   "metadata": {},
   "source": [
    "## Launching the __`GUI`__\n",
    "#### _Follow my instructions !_\n",
    "* Launch the GUI using the `startGUI` method of the `AntakIA` object, instaciated as `atk` here. We chose as sub-models to choose from classifiers of course !\n",
    "* Let's tweak the projection settings ! Change the settings of the Explanatory Space projections. Move the cursos of the `FP ratio` to the right, so that `FP ratio = 5`, and click \"Validate\",\n",
    "* Four little groups of points appear ! With the lasso (already selected), select the group of points on the right. In the bottom part of the GUI, you will se that this cluster contains 207 points, representing 20.7% of the whole dataset.\n",
    "* Let's find the rules that best describe this region ! Go to the second tab, \"Selection adjustment\", and click on \"Skope-Rules\". 3 rules appear on both spaces. Let's see what they are saying :\n",
    "    * `1.0 <= Account_Balance <= 2.5`, so Account Balance in {1, 2}, so according to the [description of the dataset](https://online.stat.psu.edu/stat857/node/222/), it means __people with 'no running account'__ or __people with 'no balance or debit'__.\n",
    "    * `22.5 <= Duration_of_Credit_(month) <= 72.0`, so people that borrow money for a pretty long time.\n",
    "    * `0.0 <= Payment_Status_of_Previous_Credit <= 2.5` so Payment Status of Previous Credit in {0, 1, 2}, meaning __hesitant payment of previous credits, problematic running account__ or __no previous credits.__\n",
    "\n",
    "        _We won't change that for the moment, but you can explore the dataset by changing some of the rules or add some._\n",
    "        \n",
    "* Go to the third tab \"Choice of the sub-model\", and choose one. For example, the `DecisionTreeClassifier` from scikit-learn!\n",
    "* Go top the forth tab \"Overview of the regions\" and click on \"Validate the selection\".\n",
    "\n",
    "    _Here is you first region! Made of 165 points, so 16.5% of the dataset_.\n",
    "    \n",
    "### __Now, go to the end of the notebook to see what we learned from this!__"
   ]
  },
  {
   "cell_type": "code",
   "execution_count": null,
   "metadata": {},
   "outputs": [],
   "source": [
    "atk.startGUI(sub_models = my_sub_models)"
   ]
  },
  {
   "cell_type": "markdown",
   "metadata": {},
   "source": [
    "__Using AntakIA, we found out that people with :__\n",
    "__<p style=\"text-align: center;\">Barely used bank accounts, <br> long time credits, <br> hesitant previous payments <p>__\n",
    "    \n",
    "are explained __the same way__ by the global model. From now on, we might train a simpler model on this part of the dataset, such as the sub-model we chose early on.\n",
    "\n",
    "With this simpler model, we can now give further explanations to the people while giving them a response for their credit. Job done !"
   ]
  },
  {
   "cell_type": "markdown",
   "metadata": {},
   "source": [
    "## List if usefull links\n",
    "\n",
    "- [AntakIA documentation](https://ai-vidence.github.io/antakia/) - The official documentation of AntakIA\n",
    "- [AntakIA GitHub repository](https://github.com/AI-vidence/antakia/tree/main) - The GitHub repository of AntakIA. Do not forget to __star__ it if you like it!\n",
    "- [AntakIA video tutorials](https://www.youtube.com/@AI-vidence) - The YouTube channel of AI-vidence, with video tutorials on AntakIA!\n",
    "- [AI-vidence's website](https://ai-vidence.com/) - The website of AI-vidence, the company behind AntakIA"
   ]
  },
  {
   "cell_type": "markdown",
   "metadata": {},
   "source": [
    "[Top of Page](#top)\n",
    "<img style=\"float: right;\" src=\"https://raw.githubusercontent.com/AI-vidence/antakia/main/docs/img/Logo-AI-vidence.png\" alt=\"AI-vidence\" width=\"200px\"/> "
   ]
  },
  {
   "cell_type": "markdown",
   "metadata": {},
   "source": [
    " ***"
   ]
  }
 ],
 "metadata": {
  "kernelspec": {
   "display_name": "antakia-venv",
   "language": "python",
   "name": "antakia-venv"
  },
  "language_info": {
   "codemirror_mode": {
    "name": "ipython",
    "version": 3
   },
   "file_extension": ".py",
   "mimetype": "text/x-python",
   "name": "python",
   "nbconvert_exporter": "python",
   "pygments_lexer": "ipython3",
   "version": "3.10.12"
  }
 },
 "nbformat": 4,
 "nbformat_minor": 4
}
