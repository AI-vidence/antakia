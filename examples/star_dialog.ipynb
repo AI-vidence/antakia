{
 "cells": [
  {
   "cell_type": "code",
   "execution_count": 1,
   "metadata": {},
   "outputs": [
    {
     "data": {
      "application/vnd.jupyter.widget-view+json": {
       "model_id": "fe7e64a8328c4cdd809c343ad73c99a4",
       "version_major": 2,
       "version_minor": 0
      },
      "text/plain": [
       "Layout(children=[Dialog(children=[Card(children=[CardTitle(children=['Would you support AntakIA 😀 ?'], class_=…"
      ]
     },
     "execution_count": 1,
     "metadata": {},
     "output_type": "execute_result"
    }
   ],
   "source": [
    "import ipyvuetify as v\n",
    "import webbrowser\n",
    "\n",
    "star_btn = v.Btn(color='primary', children=['Star Antakia'])\n",
    "\n",
    "dialog = v.Dialog(width='500',\n",
    "    v_slots=[{\n",
    "        'name': 'activator',\n",
    "        'variable': 'x',\n",
    "        'children': v.Btn(v_on='x.on', color='success', dark=True, children=[\n",
    "            'Open dialog'\n",
    "        ]),\n",
    "    }], \n",
    "    children=[\n",
    "        v.Card(children=[\n",
    "            v.CardTitle(class_='headline gray lighten-2', primary_title=True, children=[\n",
    "                \"Would you support AntakIA 😀 ?\"\n",
    "            ]),\n",
    "            v.CardText(children=[\n",
    "                v.Html(\n",
    "                    tag=\"p\",\n",
    "                    children=[\"Please star us on Github if you like our work!\"],\n",
    "                ),\n",
    "                star_btn\n",
    "            ])\n",
    "    ])\n",
    "])\n",
    "\n",
    "star_btn.on_event('click', lambda *args: webbrowser.open('https://github.com/AI-vidence/antakia'))\n",
    "\n",
    "dialog.on_event('keydown.stop', lambda *args: None) # close dialog on escape\n",
    "\n",
    "v.Layout(children=[dialog])"
   ]
  }
 ],
 "metadata": {
  "kernelspec": {
   "display_name": "antakia-h8886QrC-py3.11",
   "language": "python",
   "name": "python3"
  },
  "language_info": {
   "codemirror_mode": {
    "name": "ipython",
    "version": 3
   },
   "file_extension": ".py",
   "mimetype": "text/x-python",
   "name": "python",
   "nbconvert_exporter": "python",
   "pygments_lexer": "ipython3",
   "version": "3.11.6"
  }
 },
 "nbformat": 4,
 "nbformat_minor": 2
}
