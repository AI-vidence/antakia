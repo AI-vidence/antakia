{
 "cells": [
  {
   "cell_type": "markdown",
   "metadata": {},
   "source": [
    "<a id=\"top\"></a>\n",
    "# AntakIA tutorial\n",
    "***\n",
    "### Using AntakIA with the GUI!"
   ]
  },
  {
   "cell_type": "markdown",
   "metadata": {},
   "source": [
    "AntakIA helps you understand and explain your _black-box_ machine-learning models, by identifying the most relevant way of segregating your dataset and the best surrogate models to apply on these freshly created regions. In this notebook, we will show you how to use the automatic dyadic-clustering algorithm of AntakIA.\n",
    "\n",
    "> This notebook is a tutorial on how to use AntakIA with the GUI. If you want to use the GUI, please refer to the [AntakIA without GUI tutorial](antakia_CH_no_gui.ipynb).\n",
    "> \n",
    "> For more information about AntakIA, please refer to the [AntakIA documentation](https://ai-vidence.github.io/antakia/) or go to [AI-vidence's website](https://ai-vidence.com/)."
   ]
  },
  {
   "cell_type": "markdown",
   "metadata": {},
   "source": [
    "__In this notebook, you will learn how to:__\n",
    "- Create a dataset object from a CSV file\n",
    "- Instanciate an AntakIA object\n",
    "- Run the GUI to explore the dataset, the model, define regions and apply sub-models\n",
    "- Visualize the results"
   ]
  },
  {
   "cell_type": "markdown",
   "metadata": {},
   "source": [
    "## Context :\n",
    "\n",
    "__Let's pretend that we are a real estate agent and that we want to predict the price of a house based on its characteristics.__ We have a dataset of more than 20000 blocks of houses, each block being described by 8 features (e.g. medium income of the owners, number of rooms, etc.). We also have the price of each block of houses. We already trained a machine-learning model (in our case, a simple XGBoost) that will predict the price of a house based on its characteristics. This is very helpful to estimate the price of a house that we want to sell !\n",
    "\n",
    "__The main issue is the following :__ we want to explain to our customers why their house is worth a certain price. We can't just show them the machine-learning model, because it is a _black-box_ model. We need to find a way to explain the price of a house based on its characteristics. This is where AntakIA comes in handy !"
   ]
  },
  {
   "cell_type": "markdown",
   "metadata": {},
   "source": [
    "We start by importing the necessary libraries."
   ]
  },
  {
   "cell_type": "code",
   "execution_count": 1,
   "metadata": {
    "tags": []
   },
   "outputs": [],
   "source": [
    "import pandas as pd "
   ]
  },
  {
   "cell_type": "code",
   "execution_count": 2,
   "metadata": {},
   "outputs": [],
   "source": [
    "# df = pd.DataFrame({'Col1':[4.1, 23.43], 'Col2':['a', 'w'], 'Col3':[1, 8]})\n",
    "# print(len(df.columns))"
   ]
  },
  {
   "cell_type": "markdown",
   "metadata": {},
   "source": [
    "Then, our dataset. Ours is [this one](https://inria.github.io/scikit-learn-mooc/python_scripts/datasets_california_housing.html); it can be found in the `data` folder of this repository."
   ]
  },
  {
   "cell_type": "code",
   "execution_count": 3,
   "metadata": {
    "tags": []
   },
   "outputs": [],
   "source": [
    "df = pd.read_csv('../data/california_housing.csv').drop(['Unnamed: 0'], axis=1)"
   ]
  },
  {
   "cell_type": "markdown",
   "metadata": {},
   "source": [
    "After cleaning a bit our data, we want to specifically focus on __San Francisco__ and its surroundings."
   ]
  },
  {
   "cell_type": "code",
   "execution_count": 4,
   "metadata": {},
   "outputs": [],
   "source": [
    "# Remove outliers:\n",
    "df = df.loc[df['Population']<10000] \n",
    "df = df.loc[df['AveOccup']<6]\n",
    "df = df.loc[df['AveBedrms']<1.5]\n",
    "df = df.loc[df['HouseAge']<50]\n",
    "\n",
    "# Only San Francisco :\n",
    "df = df.loc[(df['Latitude']<38.07)&(df['Latitude']>37.2)]\n",
    "df = df.loc[(df['Longitude']>-122.5)&(df['Longitude']<-121.75)]"
   ]
  },
  {
   "cell_type": "markdown",
   "metadata": {},
   "source": [
    "Note that we already computed some explanatory values (in our case, SHAP values) and saved them in the CSV file. This is not necessary, as AntakIA can do it, but it will save us some computation time!"
   ]
  },
  {
   "cell_type": "code",
   "execution_count": 5,
   "metadata": {},
   "outputs": [],
   "source": [
    "X = df.iloc[:,0:8] # the dataset\n",
    "Y = df.iloc[:,9] # the target variable\n",
    "shapValues = df.iloc[:,[10,11,12,13,14,15,16,17]] # the SHAP values"
   ]
  },
  {
   "cell_type": "markdown",
   "metadata": {},
   "source": [
    "We also have a trained XGBoost model that we will use to predict the price of a house."
   ]
  },
  {
   "cell_type": "code",
   "execution_count": 6,
   "metadata": {
    "tags": []
   },
   "outputs": [
    {
     "name": "stdout",
     "output_type": "stream",
     "text": [
      "model fitted\n"
     ]
    }
   ],
   "source": [
    "from sklearn.ensemble import GradientBoostingRegressor\n",
    "model = GradientBoostingRegressor(random_state = 9)\n",
    "model.fit(X, Y)\n",
    "print('model fitted')"
   ]
  },
  {
   "cell_type": "markdown",
   "metadata": {},
   "source": [
    "__Let's now import `antakia`!__"
   ]
  },
  {
   "cell_type": "code",
   "execution_count": 7,
   "metadata": {},
   "outputs": [
    {
     "data": {
      "application/vnd.jupyter.widget-view+json": {
       "model_id": "3638b31471bb4d5daca5227beee325e4",
       "version_major": 2,
       "version_minor": 0
      },
      "text/plain": [
       "Output(layout=Layout(border_bottom='1px solid black', border_left='1px solid black', border_right='1px solid b…"
      ]
     },
     "metadata": {},
     "output_type": "display_data"
    },
    {
     "name": "stderr",
     "output_type": "stream",
     "text": [
      "/Users/laurent/Documents/antakia/lib/python3.10/site-packages/umap/distances.py:1063: NumbaDeprecationWarning: The 'nopython' keyword argument was not supplied to the 'numba.jit' decorator. The implicit default value for this argument is currently False, but it will be changed to True in Numba 0.59.0. See https://numba.readthedocs.io/en/stable/reference/deprecation.html#deprecation-of-object-mode-fall-back-behaviour-when-using-jit for details.\n",
      "  @numba.jit()\n",
      "/Users/laurent/Documents/antakia/lib/python3.10/site-packages/umap/distances.py:1071: NumbaDeprecationWarning: The 'nopython' keyword argument was not supplied to the 'numba.jit' decorator. The implicit default value for this argument is currently False, but it will be changed to True in Numba 0.59.0. See https://numba.readthedocs.io/en/stable/reference/deprecation.html#deprecation-of-object-mode-fall-back-behaviour-when-using-jit for details.\n",
      "  @numba.jit()\n",
      "/Users/laurent/Documents/antakia/lib/python3.10/site-packages/umap/distances.py:1086: NumbaDeprecationWarning: The 'nopython' keyword argument was not supplied to the 'numba.jit' decorator. The implicit default value for this argument is currently False, but it will be changed to True in Numba 0.59.0. See https://numba.readthedocs.io/en/stable/reference/deprecation.html#deprecation-of-object-mode-fall-back-behaviour-when-using-jit for details.\n",
      "  @numba.jit()\n",
      "/Users/laurent/Documents/antakia/lib/python3.10/site-packages/umap/umap_.py:660: NumbaDeprecationWarning: The 'nopython' keyword argument was not supplied to the 'numba.jit' decorator. The implicit default value for this argument is currently False, but it will be changed to True in Numba 0.59.0. See https://numba.readthedocs.io/en/stable/reference/deprecation.html#deprecation-of-object-mode-fall-back-behaviour-when-using-jit for details.\n",
      "  @numba.jit()\n"
     ]
    },
    {
     "data": {
      "application/vnd.jupyter.widget-view+json": {
       "model_id": "10e4e1c06f3048d3bd7d2f4fa471078b",
       "version_major": 2,
       "version_minor": 0
      },
      "text/plain": [
       "Output(layout=Layout(border_bottom='1px solid black', border_left='1px solid black', border_right='1px solid b…"
      ]
     },
     "metadata": {},
     "output_type": "display_data"
    },
    {
     "data": {
      "application/vnd.jupyter.widget-view+json": {
       "model_id": "a54257cf4a0a4debba267025ed2e03c7",
       "version_major": 2,
       "version_minor": 0
      },
      "text/plain": [
       "Output(layout=Layout(border_bottom='1px solid black', border_left='1px solid black', border_right='1px solid b…"
      ]
     },
     "metadata": {},
     "output_type": "display_data"
    },
    {
     "data": {
      "application/vnd.jupyter.widget-view+json": {
       "model_id": "2de6c6d3cd3e4a78b652d0ccad29773f",
       "version_major": 2,
       "version_minor": 0
      },
      "text/plain": [
       "Output(layout=Layout(border_bottom='1px solid black', border_left='1px solid black', border_right='1px solid b…"
      ]
     },
     "metadata": {},
     "output_type": "display_data"
    },
    {
     "data": {
      "application/vnd.jupyter.widget-view+json": {
       "model_id": "f3b6a596671f477d93a6c9ac6a7de197",
       "version_major": 2,
       "version_minor": 0
      },
      "text/plain": [
       "Output(layout=Layout(border_bottom='1px solid black', border_left='1px solid black', border_right='1px solid b…"
      ]
     },
     "metadata": {},
     "output_type": "display_data"
    }
   ],
   "source": [
    "from antakia.data import Dataset, ExplanationMethod, ExplanationDataset\n",
    "\n",
    "from antakia.antakia import AntakIA\n",
    "dataset = Dataset(X, y=Y)\n",
    "shapExplanations = ExplanationDataset(shapValues, ExplanationMethod.SHAP)\n",
    "atk = AntakIA(dataset,model, shapExplanations)"
   ]
  },
  {
   "cell_type": "code",
   "execution_count": 8,
   "metadata": {
    "tags": []
   },
   "outputs": [],
   "source": [
    "atk = AntakIA(dataset,model, shapExplanations)"
   ]
  },
  {
   "cell_type": "code",
   "execution_count": 9,
   "metadata": {},
   "outputs": [
    {
     "data": {
      "application/vnd.jupyter.widget-view+json": {
       "model_id": "26311fb862dd438183e8e11689c742f0",
       "version_major": 2,
       "version_minor": 0
      },
      "text/plain": [
       "Output()"
      ]
     },
     "metadata": {},
     "output_type": "display_data"
    },
    {
     "ename": "ValueError",
     "evalue": "(None, ' is a bad origin')",
     "output_type": "error",
     "traceback": [
      "\u001b[0;31m---------------------------------------------------------------------------\u001b[0m",
      "\u001b[0;31mValueError\u001b[0m                                Traceback (most recent call last)",
      "File \u001b[0;32m~/Documents/antakia/lib/python3.10/site-packages/IPython/core/formatters.py:708\u001b[0m, in \u001b[0;36mPlainTextFormatter.__call__\u001b[0;34m(self, obj)\u001b[0m\n\u001b[1;32m    701\u001b[0m stream \u001b[39m=\u001b[39m StringIO()\n\u001b[1;32m    702\u001b[0m printer \u001b[39m=\u001b[39m pretty\u001b[39m.\u001b[39mRepresentationPrinter(stream, \u001b[39mself\u001b[39m\u001b[39m.\u001b[39mverbose,\n\u001b[1;32m    703\u001b[0m     \u001b[39mself\u001b[39m\u001b[39m.\u001b[39mmax_width, \u001b[39mself\u001b[39m\u001b[39m.\u001b[39mnewline,\n\u001b[1;32m    704\u001b[0m     max_seq_length\u001b[39m=\u001b[39m\u001b[39mself\u001b[39m\u001b[39m.\u001b[39mmax_seq_length,\n\u001b[1;32m    705\u001b[0m     singleton_pprinters\u001b[39m=\u001b[39m\u001b[39mself\u001b[39m\u001b[39m.\u001b[39msingleton_printers,\n\u001b[1;32m    706\u001b[0m     type_pprinters\u001b[39m=\u001b[39m\u001b[39mself\u001b[39m\u001b[39m.\u001b[39mtype_printers,\n\u001b[1;32m    707\u001b[0m     deferred_pprinters\u001b[39m=\u001b[39m\u001b[39mself\u001b[39m\u001b[39m.\u001b[39mdeferred_printers)\n\u001b[0;32m--> 708\u001b[0m printer\u001b[39m.\u001b[39;49mpretty(obj)\n\u001b[1;32m    709\u001b[0m printer\u001b[39m.\u001b[39mflush()\n\u001b[1;32m    710\u001b[0m \u001b[39mreturn\u001b[39;00m stream\u001b[39m.\u001b[39mgetvalue()\n",
      "File \u001b[0;32m~/Documents/antakia/lib/python3.10/site-packages/IPython/lib/pretty.py:410\u001b[0m, in \u001b[0;36mRepresentationPrinter.pretty\u001b[0;34m(self, obj)\u001b[0m\n\u001b[1;32m    407\u001b[0m                         \u001b[39mreturn\u001b[39;00m meth(obj, \u001b[39mself\u001b[39m, cycle)\n\u001b[1;32m    408\u001b[0m                 \u001b[39mif\u001b[39;00m \u001b[39mcls\u001b[39m \u001b[39mis\u001b[39;00m \u001b[39mnot\u001b[39;00m \u001b[39mobject\u001b[39m \\\n\u001b[1;32m    409\u001b[0m                         \u001b[39mand\u001b[39;00m \u001b[39mcallable\u001b[39m(\u001b[39mcls\u001b[39m\u001b[39m.\u001b[39m\u001b[39m__dict__\u001b[39m\u001b[39m.\u001b[39mget(\u001b[39m'\u001b[39m\u001b[39m__repr__\u001b[39m\u001b[39m'\u001b[39m)):\n\u001b[0;32m--> 410\u001b[0m                     \u001b[39mreturn\u001b[39;00m _repr_pprint(obj, \u001b[39mself\u001b[39;49m, cycle)\n\u001b[1;32m    412\u001b[0m     \u001b[39mreturn\u001b[39;00m _default_pprint(obj, \u001b[39mself\u001b[39m, cycle)\n\u001b[1;32m    413\u001b[0m \u001b[39mfinally\u001b[39;00m:\n",
      "File \u001b[0;32m~/Documents/antakia/lib/python3.10/site-packages/IPython/lib/pretty.py:778\u001b[0m, in \u001b[0;36m_repr_pprint\u001b[0;34m(obj, p, cycle)\u001b[0m\n\u001b[1;32m    776\u001b[0m \u001b[39m\u001b[39m\u001b[39m\"\"\"A pprint that just redirects to the normal repr function.\"\"\"\u001b[39;00m\n\u001b[1;32m    777\u001b[0m \u001b[39m# Find newlines and replace them with p.break_()\u001b[39;00m\n\u001b[0;32m--> 778\u001b[0m output \u001b[39m=\u001b[39m \u001b[39mrepr\u001b[39;49m(obj)\n\u001b[1;32m    779\u001b[0m lines \u001b[39m=\u001b[39m output\u001b[39m.\u001b[39msplitlines()\n\u001b[1;32m    780\u001b[0m \u001b[39mwith\u001b[39;00m p\u001b[39m.\u001b[39mgroup():\n",
      "File \u001b[0;32m~/Documents/antakia/antakia/gui.py:1025\u001b[0m, in \u001b[0;36mGUI.__repr__\u001b[0;34m(self)\u001b[0m\n\u001b[1;32m   1024\u001b[0m \u001b[39mdef\u001b[39;00m \u001b[39m__repr__\u001b[39m(\u001b[39mself\u001b[39m):\n\u001b[0;32m-> 1025\u001b[0m     \u001b[39mself\u001b[39;49m\u001b[39m.\u001b[39;49mshow()\n\u001b[1;32m   1026\u001b[0m     \u001b[39mreturn\u001b[39;00m \u001b[39m\"\u001b[39m\u001b[39m\"\u001b[39m\n",
      "File \u001b[0;32m~/Documents/antakia/antakia/gui.py:1081\u001b[0m, in \u001b[0;36mGUI.show\u001b[0;34m(self)\u001b[0m\n\u001b[1;32m   1079\u001b[0m \u001b[39mself\u001b[39m\u001b[39m.\u001b[39m_ae_vs \u001b[39m=\u001b[39m AntakiaExplorer(\u001b[39mself\u001b[39m\u001b[39m.\u001b[39m_ds, \u001b[39mNone\u001b[39;00m, \u001b[39mFalse\u001b[39;00m, \u001b[39mself\u001b[39m\u001b[39m.\u001b[39m_projection_vs, \u001b[39mNone\u001b[39;00m, \u001b[39mself\u001b[39m\u001b[39m.\u001b[39mselection_changed, \u001b[39mNone\u001b[39;00m)\n\u001b[1;32m   1080\u001b[0m \u001b[39m# Initial explanation must be provid :\u001b[39;00m\n\u001b[0;32m-> 1081\u001b[0m \u001b[39mself\u001b[39m\u001b[39m.\u001b[39m_ae_es \u001b[39m=\u001b[39m AntakiaExplorer(\u001b[39mself\u001b[39;49m\u001b[39m.\u001b[39;49m_ds, \u001b[39mself\u001b[39;49m\u001b[39m.\u001b[39;49m_xds, \u001b[39mTrue\u001b[39;49;00m, \u001b[39mself\u001b[39;49m\u001b[39m.\u001b[39;49m_projection_es, \u001b[39mself\u001b[39;49m\u001b[39m.\u001b[39;49m_explanation_es[\u001b[39m0\u001b[39;49m], \u001b[39mself\u001b[39;49m\u001b[39m.\u001b[39;49mselection_changed, \u001b[39mself\u001b[39;49m\u001b[39m.\u001b[39;49mnew_explain_method_selected)\n\u001b[1;32m   1083\u001b[0m \u001b[39m# We add each AntaiaExplorer component to the _app_graph :\u001b[39;00m\n\u001b[1;32m   1084\u001b[0m widget_at_address(\u001b[39mself\u001b[39m\u001b[39m.\u001b[39m_app_graph, \u001b[39m\"\u001b[39m\u001b[39m200\u001b[39m\u001b[39m\"\u001b[39m)\u001b[39m.\u001b[39mchildren[\u001b[39m1\u001b[39m] \u001b[39m=\u001b[39m \u001b[39mself\u001b[39m\u001b[39m.\u001b[39m_ae_vs\u001b[39m.\u001b[39mget_figure_widget()\n",
      "File \u001b[0;32m~/Documents/antakia/antakia/gui_utils.py:2019\u001b[0m, in \u001b[0;36mAntakiaExplorer.__init__\u001b[0;34m(self, ds, xds, is_explain_explorer, init_proj_and_dim, init_explanation, selection_changed, new_explain_method_selected)\u001b[0m\n\u001b[1;32m   2006\u001b[0m \u001b[39mself\u001b[39m\u001b[39m.\u001b[39m_current_projection \u001b[39m=\u001b[39m \u001b[39mNone\u001b[39;00m\n\u001b[1;32m   2008\u001b[0m \u001b[39mself\u001b[39m\u001b[39m.\u001b[39m_markers \u001b[39m=\u001b[39m \u001b[39mdict\u001b[39m( \n\u001b[1;32m   2009\u001b[0m     color\u001b[39m=\u001b[39m\u001b[39mself\u001b[39m\u001b[39m.\u001b[39m_ds\u001b[39m.\u001b[39mget_y_values(Dataset\u001b[39m.\u001b[39mREGULAR),\n\u001b[1;32m   2010\u001b[0m     colorscale\u001b[39m=\u001b[39m\u001b[39m\"\u001b[39m\u001b[39mViridis\u001b[39m\u001b[39m\"\u001b[39m,\n\u001b[0;32m   (...)\u001b[0m\n\u001b[1;32m   2014\u001b[0m     ),\n\u001b[1;32m   2015\u001b[0m )\n\u001b[1;32m   2017\u001b[0m \u001b[39mself\u001b[39m\u001b[39m.\u001b[39m_figure \u001b[39m=\u001b[39m FigureWidget(\n\u001b[1;32m   2018\u001b[0m     data\u001b[39m=\u001b[39mScatter(\n\u001b[0;32m-> 2019\u001b[0m         x\u001b[39m=\u001b[39m\u001b[39mself\u001b[39;49m\u001b[39m.\u001b[39;49m_get_x(), \n\u001b[1;32m   2020\u001b[0m         y\u001b[39m=\u001b[39m\u001b[39mself\u001b[39m\u001b[39m.\u001b[39m_get_y(), \n\u001b[1;32m   2021\u001b[0m         mode\u001b[39m=\u001b[39m\u001b[39m\"\u001b[39m\u001b[39mmarkers\u001b[39m\u001b[39m\"\u001b[39m, \n\u001b[1;32m   2022\u001b[0m         marker\u001b[39m=\u001b[39m\u001b[39mself\u001b[39m\u001b[39m.\u001b[39m_markers, \n\u001b[1;32m   2023\u001b[0m         customdata\u001b[39m=\u001b[39m\u001b[39mself\u001b[39m\u001b[39m.\u001b[39m_markers[\u001b[39m\"\u001b[39m\u001b[39mcolor\u001b[39m\u001b[39m\"\u001b[39m], \n\u001b[1;32m   2024\u001b[0m         hovertemplate \u001b[39m=\u001b[39m \u001b[39m'\u001b[39m\u001b[39m%\u001b[39m\u001b[39m{customdata:.3f}\u001b[39;00m\u001b[39m'\u001b[39m)\n\u001b[1;32m   2025\u001b[0m )\n\u001b[1;32m   2026\u001b[0m \u001b[39mself\u001b[39m\u001b[39m.\u001b[39m_figure\u001b[39m.\u001b[39mdata[\u001b[39m0\u001b[39m]\u001b[39m.\u001b[39mon_selection(\u001b[39mself\u001b[39m\u001b[39m.\u001b[39mdots_lasso_selected)\n\u001b[1;32m   2028\u001b[0m \u001b[39mself\u001b[39m\u001b[39m.\u001b[39m_current_dim \u001b[39m=\u001b[39m \u001b[39m2\u001b[39m\n",
      "File \u001b[0;32m~/Documents/antakia/antakia/gui_utils.py:2055\u001b[0m, in \u001b[0;36mAntakiaExplorer._get_x\u001b[0;34m(self)\u001b[0m\n\u001b[1;32m   2053\u001b[0m \u001b[39mdef\u001b[39;00m \u001b[39m_get_x\u001b[39m(\u001b[39mself\u001b[39m) \u001b[39m-\u001b[39m\u001b[39m>\u001b[39m pd\u001b[39m.\u001b[39mDataFrame :\n\u001b[1;32m   2054\u001b[0m     \u001b[39mif\u001b[39;00m \u001b[39mself\u001b[39m\u001b[39m.\u001b[39m_is_explain_explorer :\n\u001b[0;32m-> 2055\u001b[0m         \u001b[39mreturn\u001b[39;00m \u001b[39mself\u001b[39;49m\u001b[39m.\u001b[39;49m_xds\u001b[39m.\u001b[39;49mget_full_values(\u001b[39mself\u001b[39;49m\u001b[39m.\u001b[39;49m_current_explanation, \u001b[39mself\u001b[39;49m\u001b[39m.\u001b[39;49m_current_origin)\n\u001b[1;32m   2056\u001b[0m     \u001b[39melse\u001b[39;00m :\n\u001b[1;32m   2057\u001b[0m         \u001b[39mreturn\u001b[39;00m \u001b[39mself\u001b[39m\u001b[39m.\u001b[39m_ds\u001b[39m.\u001b[39mget_full_values()\n",
      "File \u001b[0;32m~/Documents/antakia/antakia/data.py:769\u001b[0m, in \u001b[0;36mExplanationDataset.get_full_values\u001b[0;34m(self, explanation_method, origin)\u001b[0m\n\u001b[1;32m    765\u001b[0m \u001b[39mif\u001b[39;00m origin \u001b[39m!=\u001b[39m ExplanationDataset\u001b[39m.\u001b[39mANY:\n\u001b[1;32m    766\u001b[0m     \u001b[39m# User wants a specific origin\u001b[39;00m\n\u001b[1;32m    767\u001b[0m     \u001b[39m# logger.debug(f\"XDS.get_full_values : {ExplanationMethod.explanation_method_as_str(explanation_method)} values with {ExplanationDataset.getOriginByStr(origin)} origin required\")\u001b[39;00m\n\u001b[1;32m    768\u001b[0m     \u001b[39mif\u001b[39;00m \u001b[39mnot\u001b[39;00m ExplanationDataset\u001b[39m.\u001b[39mis_valid_origin(origin):\n\u001b[0;32m--> 769\u001b[0m         \u001b[39mraise\u001b[39;00m \u001b[39mValueError\u001b[39;00m(origin, \u001b[39m\"\u001b[39m\u001b[39m is a bad origin\u001b[39m\u001b[39m\"\u001b[39m)\n\u001b[1;32m    770\u001b[0m     \u001b[39mif\u001b[39;00m origin \u001b[39min\u001b[39;00m stored_explanations:\n\u001b[1;32m    771\u001b[0m         \u001b[39m# logger.debug(f\"XDS.get_full_values : found {ExplanationMethod.explanation_method_as_str(explanation_method)} values with {ExplanationDataset.getOriginByStr(origin)} origin \")\u001b[39;00m\n\u001b[1;32m    772\u001b[0m         df \u001b[39m=\u001b[39m stored_explanations[origin]\n",
      "\u001b[0;31mValueError\u001b[0m: (None, ' is a bad origin')"
     ]
    }
   ],
   "source": [
    "atk.startGUI()"
   ]
  },
  {
   "cell_type": "markdown",
   "metadata": {},
   "source": []
  }
 ],
 "metadata": {
  "kernelspec": {
   "display_name": "antakia",
   "language": "python",
   "name": "python3"
  },
  "language_info": {
   "codemirror_mode": {
    "name": "ipython",
    "version": 3
   },
   "file_extension": ".py",
   "mimetype": "text/x-python",
   "name": "python",
   "nbconvert_exporter": "python",
   "pygments_lexer": "ipython3",
   "version": "3.10.13"
  }
 },
 "nbformat": 4,
 "nbformat_minor": 4
}
