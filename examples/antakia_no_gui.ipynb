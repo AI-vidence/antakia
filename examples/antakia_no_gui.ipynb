{
 "cells": [
  {
   "cell_type": "markdown",
   "metadata": {},
   "source": [
    "<a id=\"top\"></a>\n",
    "# AntakIA tutorial\n",
    "***\n",
    "### Unsing AntakIA with no GUI!"
   ]
  },
  {
   "cell_type": "markdown",
   "metadata": {},
   "source": [
    "AntakIA helps you understand and explain your _black-box_ machine-learning models, by identifying the most relevant way of segregating your dataset and the best surrogate models to apply on these freshly created regions. In this notebook, we will show you how to use the automatic dyadic-clustering algorithm of AntakIA.\n",
    "\n",
    "> This notebook is a tutorial on how to use AntakIA without the GUI. If you want to use the GUI, please refer to the [AntakIA GUI tutorial](antakia_gui.ipynb).\n",
    "> \n",
    "> For more information about AntakIA, please refer to the [AntakIA documentation](https://ai-vidence.github.io/antakia/) or go to [AI-vidence's website](https://ai-vidence.com/)."
   ]
  },
  {
   "cell_type": "markdown",
   "metadata": {},
   "source": [
    "__In this notebook, you will learn how to:__\n",
    "- Create a dataset object from a CSV file\n",
    "- Instanciate an AntakIA object\n",
    "- Manually define regions and apply sub-models\n",
    "- Run the automatic dyadic-clustering algorithm\n",
    "- Visualize the results"
   ]
  },
  {
   "cell_type": "markdown",
   "metadata": {},
   "source": [
    "## Context :\n",
    "\n",
    "__Let's pretend that we are a real estate agent and that we want to predict the price of a house based on its characteristics.__ We have a dataset of more than 20000 blocks of houses, each block being described by 8 features (e.g. medium income of the owners, number of rooms, etc.). We also have the price of each block of houses. We already trained a machine-learning model (in our case, a simple XGBoost) that will predict the price of a house based on its characteristics. This is very helpful to estimate the price of a house that we want to sell !\n",
    "\n",
    "__The main issue is the following :__ we want to explain to our customers why their house is worth a certain price. We can't just show them the machine-learning model, because it is a _black-box_ model. We need to find a way to explain the price of a house based on its characteristics. This is where AntakIA comes in handy !"
   ]
  },
  {
   "cell_type": "markdown",
   "metadata": {},
   "source": [
    "We start by importing the necessary libraries."
   ]
  },
  {
   "cell_type": "code",
   "execution_count": 9,
   "metadata": {
    "tags": []
   },
   "outputs": [],
   "source": [
    "import pandas as pd "
   ]
  },
  {
   "cell_type": "markdown",
   "metadata": {},
   "source": [
    "Then, our dataset. Ours is [this one](https://inria.github.io/scikit-learn-mooc/python_scripts/datasets_california_housing.html); it can be found in the `data` folder of this repository.\n",
    "\n",
    "Note that we already computed some explanatory values (in our case, SHAP values) and saved them in the CSV file. This is not necessary, as AntakIA can do it, but it will save us some computation time!"
   ]
  },
  {
   "cell_type": "code",
   "execution_count": 10,
   "metadata": {
    "tags": []
   },
   "outputs": [],
   "source": [
    "df = pd.read_csv('../data/california_housing/california_housing.csv').drop(['Unnamed: 0'], axis=1)\n",
    "\n",
    "X = df.iloc[:,0:8] # the dataset\n",
    "Y = df.iloc[:,9] # the target variable\n",
    "SHAP = df.iloc[:,[10,11,12,13,14,15,16,17]] # the SHAP values"
   ]
  },
  {
   "cell_type": "markdown",
   "metadata": {},
   "source": [
    "We also have a trained XGBoost model that we will use to predict the price of a house."
   ]
  },
  {
   "cell_type": "code",
   "execution_count": null,
   "metadata": {
    "tags": []
   },
   "outputs": [],
   "source": [
    "from sklearn.ensemble import GradientBoostingRegressor\n",
    "model = GradientBoostingRegressor(random_state = 9)\n",
    "model.fit(X, Y)"
   ]
  },
  {
   "cell_type": "markdown",
   "metadata": {},
   "source": [
    "__Let's now import `antakia`!__"
   ]
  },
  {
   "cell_type": "code",
   "execution_count": 12,
   "metadata": {},
   "outputs": [],
   "source": [
    "import antakia"
   ]
  },
  {
   "cell_type": "markdown",
   "metadata": {},
   "source": [
    "## 1. Creating the dataset object\n",
    "\n",
    "We first use the [`Dataset`](https://ai-vidence.github.io/antakia/documentation/dataset/) class to create a dataset object. This object will be used to store the data and the machine-learning model."
   ]
  },
  {
   "cell_type": "code",
   "execution_count": 13,
   "metadata": {
    "slideshow": {
     "slide_type": ""
    },
    "tags": []
   },
   "outputs": [
    {
     "name": "stdout",
     "output_type": "stream",
     "text": [
      "Size of the original dataset: 20640 lines\n",
      "Size of the data we want to explore: 2064 lines\n"
     ]
    }
   ],
   "source": [
    "dataset = antakia.Dataset(X, model = model, y=Y)\n",
    "print(f'Size of the original dataset: {len(dataset)} lines')\n",
    "dataset.frac(0.1) # 10% of the original dataset is enough to explore\n",
    "print(f'Size of the data we want to explore: {len(dataset)} lines')"
   ]
  },
  {
   "cell_type": "markdown",
   "metadata": {},
   "source": [
    "## 2. Creating the AntakIA object\n",
    "We then use the [`AntakIA`](https://ai-vidence.github.io/antakia/documentation/antakia/) class to create an AntakIA object. This is the main object of the package!\n",
    "This is where we import our explanatory values (in our case, SHAP values)."
   ]
  },
  {
   "cell_type": "code",
   "execution_count": 14,
   "metadata": {
    "tags": []
   },
   "outputs": [],
   "source": [
    "atk = antakia.AntakIA(dataset, import_explanation = SHAP)"
   ]
  },
  {
   "cell_type": "markdown",
   "metadata": {},
   "source": [
    "## 3. Creating custom regions\n",
    "We can now create our own regions and apply sub-models on them.\n",
    "Doing it this way means that we already know how to segregate (at least partly) our dataset. This is not always the case, and this is why AntakIA has a GUI and an automatic dyadic-clustering algorithm (see next section). Here, we pretend that a business expert told us that a particular region is very interesting to look at. He sent it to us in a [`JSON` file](../data/business.json), as a list of the indexes of the data points that belong to this region.\n",
    "\n",
    "A region (a set of points) is called a [`Potato`](https://ai-vidence.github.io/antakia/documentation/potato/) in AntakIA. Let's create one!\n",
    "\n"
   ]
  },
  {
   "cell_type": "code",
   "execution_count": 15,
   "metadata": {},
   "outputs": [
    {
     "name": "stdout",
     "output_type": "stream",
     "text": [
      "Potato:\n",
      " ------------------\n",
      "       State: json importation \n",
      "       Number of points: 128 \n",
      "       Percentage of the dataset: 6.2% \n",
      "       Sub-model: NoneType\n"
     ]
    }
   ],
   "source": [
    "potato = antakia.Potato(atk, json_path=\"../data/business\")\n",
    "\n",
    "print(potato)"
   ]
  },
  {
   "cell_type": "markdown",
   "metadata": {},
   "source": [
    "A `Potato` object takes as input the `AntakIA` object. __You will discover that the `AntakIA` object is the main object of the package: it links all the other objects together!__"
   ]
  },
  {
   "cell_type": "markdown",
   "metadata": {},
   "source": [
    "Then we want to apply a linear sub-model on this region. Let's find what is the best sub-model for this region!"
   ]
  },
  {
   "cell_type": "code",
   "execution_count": 16,
   "metadata": {},
   "outputs": [
    {
     "name": "stdout",
     "output_type": "stream",
     "text": [
      "Score for LinearRegression : 0.5883\n",
      "Score for SGDRegressor : -1.2042597823442338e+30\n",
      "Score for Ridge : 0.5871\n"
     ]
    }
   ],
   "source": [
    "import sklearn\n",
    "\n",
    "sub_models = [sklearn.linear_model.LinearRegression(), sklearn.linear_model.SGDRegressor(), sklearn.linear_model.Ridge()] # list of sub-models to choose from\n",
    "\n",
    "for sub_model in sub_models:\n",
    "    sub_model.fit(potato.data, potato.y)\n",
    "    print(f\"Score for {sub_model.__class__.__name__} : {round(sub_model.score(potato.data, potato.y),4)}\")"
   ]
  },
  {
   "cell_type": "markdown",
   "metadata": {},
   "source": [
    "Let's say that the most relevant sub-model for this region is the Ridge sub-model. We can now apply it on this region."
   ]
  },
  {
   "cell_type": "code",
   "execution_count": 17,
   "metadata": {},
   "outputs": [],
   "source": [
    "potato.setSubModel(sklearn.linear_model.Ridge())"
   ]
  },
  {
   "cell_type": "markdown",
   "metadata": {},
   "source": [
    "We are now happy with this region, so we can add it to the list of regions stored in the `AntakIA` object."
   ]
  },
  {
   "cell_type": "code",
   "execution_count": 18,
   "metadata": {},
   "outputs": [],
   "source": [
    "atk.newRegion(potato)"
   ]
  },
  {
   "cell_type": "markdown",
   "metadata": {},
   "source": [
    "The regions are a list of `Potato` objects. Let's see what we have so far."
   ]
  },
  {
   "cell_type": "code",
   "execution_count": 19,
   "metadata": {},
   "outputs": [
    {
     "name": "stdout",
     "output_type": "stream",
     "text": [
      "[<antakia.potato.Potato object at 0x281085630>]\n",
      "\n",
      "Potato:\n",
      " ------------------\n",
      "       State: json importation \n",
      "       Number of points: 128 \n",
      "       Percentage of the dataset: 6.2% \n",
      "       Sub-model: Ridge\n"
     ]
    }
   ],
   "source": [
    "print(atk.regions) # 1 potato!\n",
    "print()\n",
    "print(atk.regions[0])"
   ]
  },
  {
   "cell_type": "markdown",
   "metadata": {},
   "source": [
    "## 4. Using the automatic dyadic-clustering algorithm\n",
    "We now want to ask AntakIA to find automatically the best way to segregate our dataset. We will use the automatic dyadic-clustering algorithm to do so. Let's first reset our regions, and then run the algorithm."
   ]
  },
  {
   "cell_type": "code",
   "execution_count": 20,
   "metadata": {
    "tags": []
   },
   "outputs": [],
   "source": [
    "atk.resetRegions()\n",
    "atk.computeDyadicClustering(sub_models = True) # compute the dyadic clustering, and asking it to find the best sub-model for each region"
   ]
  },
  {
   "cell_type": "markdown",
   "metadata": {},
   "source": [
    "Let's see what we have now."
   ]
  },
  {
   "cell_type": "code",
   "execution_count": 21,
   "metadata": {},
   "outputs": [
    {
     "name": "stdout",
     "output_type": "stream",
     "text": [
      "Number of regions created: 3\n"
     ]
    }
   ],
   "source": [
    "regions = atk.getRegions()\n",
    "print(f'Number of regions created: {len(regions)}')"
   ]
  },
  {
   "cell_type": "markdown",
   "metadata": {},
   "source": [
    "Let's explore the first one as an example."
   ]
  },
  {
   "cell_type": "code",
   "execution_count": 22,
   "metadata": {
    "tags": []
   },
   "outputs": [
    {
     "name": "stdout",
     "output_type": "stream",
     "text": [
      "Size of the region: 355\n",
      "First glance at the data:\n"
     ]
    },
    {
     "data": {
      "text/html": [
       "<div>\n",
       "<style scoped>\n",
       "    .dataframe tbody tr th:only-of-type {\n",
       "        vertical-align: middle;\n",
       "    }\n",
       "\n",
       "    .dataframe tbody tr th {\n",
       "        vertical-align: top;\n",
       "    }\n",
       "\n",
       "    .dataframe thead th {\n",
       "        text-align: right;\n",
       "    }\n",
       "</style>\n",
       "<table border=\"1\" class=\"dataframe\">\n",
       "  <thead>\n",
       "    <tr style=\"text-align: right;\">\n",
       "      <th></th>\n",
       "      <th>MedInc</th>\n",
       "      <th>HouseAge</th>\n",
       "      <th>AveRooms</th>\n",
       "      <th>AveBedrms</th>\n",
       "      <th>Population</th>\n",
       "      <th>AveOccup</th>\n",
       "      <th>Latitude</th>\n",
       "      <th>Longitude</th>\n",
       "    </tr>\n",
       "  </thead>\n",
       "  <tbody>\n",
       "    <tr>\n",
       "      <th>3</th>\n",
       "      <td>1.5933</td>\n",
       "      <td>37.0</td>\n",
       "      <td>3.998331</td>\n",
       "      <td>1.046745</td>\n",
       "      <td>2489.0</td>\n",
       "      <td>4.155259</td>\n",
       "      <td>32.69</td>\n",
       "      <td>-117.11</td>\n",
       "    </tr>\n",
       "    <tr>\n",
       "      <th>5</th>\n",
       "      <td>5.7695</td>\n",
       "      <td>3.0</td>\n",
       "      <td>4.826263</td>\n",
       "      <td>1.057576</td>\n",
       "      <td>2522.0</td>\n",
       "      <td>2.547475</td>\n",
       "      <td>37.38</td>\n",
       "      <td>-121.89</td>\n",
       "    </tr>\n",
       "    <tr>\n",
       "      <th>6</th>\n",
       "      <td>3.1975</td>\n",
       "      <td>24.0</td>\n",
       "      <td>4.218609</td>\n",
       "      <td>1.070461</td>\n",
       "      <td>2478.0</td>\n",
       "      <td>2.238482</td>\n",
       "      <td>34.10</td>\n",
       "      <td>-118.13</td>\n",
       "    </tr>\n",
       "    <tr>\n",
       "      <th>15</th>\n",
       "      <td>5.2898</td>\n",
       "      <td>25.0</td>\n",
       "      <td>6.722008</td>\n",
       "      <td>1.028958</td>\n",
       "      <td>3240.0</td>\n",
       "      <td>3.127413</td>\n",
       "      <td>33.86</td>\n",
       "      <td>-117.56</td>\n",
       "    </tr>\n",
       "    <tr>\n",
       "      <th>21</th>\n",
       "      <td>1.7514</td>\n",
       "      <td>34.0</td>\n",
       "      <td>2.660137</td>\n",
       "      <td>1.091087</td>\n",
       "      <td>2991.0</td>\n",
       "      <td>2.929481</td>\n",
       "      <td>34.09</td>\n",
       "      <td>-118.29</td>\n",
       "    </tr>\n",
       "  </tbody>\n",
       "</table>\n",
       "</div>"
      ],
      "text/plain": [
       "    MedInc  HouseAge  AveRooms  AveBedrms  Population  AveOccup  Latitude  \\\n",
       "3   1.5933      37.0  3.998331   1.046745      2489.0  4.155259     32.69   \n",
       "5   5.7695       3.0  4.826263   1.057576      2522.0  2.547475     37.38   \n",
       "6   3.1975      24.0  4.218609   1.070461      2478.0  2.238482     34.10   \n",
       "15  5.2898      25.0  6.722008   1.028958      3240.0  3.127413     33.86   \n",
       "21  1.7514      34.0  2.660137   1.091087      2991.0  2.929481     34.09   \n",
       "\n",
       "    Longitude  \n",
       "3     -117.11  \n",
       "5     -121.89  \n",
       "6     -118.13  \n",
       "15    -117.56  \n",
       "21    -118.29  "
      ]
     },
     "metadata": {},
     "output_type": "display_data"
    },
    {
     "name": "stdout",
     "output_type": "stream",
     "text": [
      "Which sub-model is the most appropriate for this region?\n",
      "{'model': 'RandomForestRegressor', 'score': 0.9575}\n"
     ]
    }
   ],
   "source": [
    "my_region = atk.getRegions()[0]\n",
    "\n",
    "print(f\"Size of the region: {len(my_region)}\")\n",
    "\n",
    "print('First glance at the data:')\n",
    "display(my_region.getVSdata().head())\n",
    "\n",
    "print('Which sub-model is the most appropriate for this region?') # the sub-models are choosen from a list in the AntakIA object. There are default sub-models, but you can add your own (see the documentation).\n",
    "print(my_region.getSubModel())"
   ]
  },
  {
   "cell_type": "markdown",
   "metadata": {},
   "source": [
    "Now, as a data-scientist, you can do pretty much whatever you want with this data, such as visualizing it on a map !"
   ]
  },
  {
   "cell_type": "code",
   "execution_count": null,
   "metadata": {},
   "outputs": [],
   "source": [
    "import plotly.graph_objects as go\n",
    "\n",
    "df = my_region.data\n",
    "\n",
    "fig = go.Figure(data=go.Scattergeo(\n",
    "        lon = df['Longitude'],\n",
    "        lat = df['Latitude'],\n",
    "        mode = 'markers',\n",
    "        marker_color = df['MedInc'],\n",
    "        ))\n",
    "fig.update_layout(title = 'Visualisation of the region on a map!')\n",
    "fig.show()"
   ]
  },
  {
   "cell_type": "markdown",
   "metadata": {},
   "source": [
    "That's it ! You now know how to use AntakIA without the GUI. If you want to use the GUI, please refer to the [AntakIA GUI tutorial](antakia_gui.ipynb).\n",
    "***"
   ]
  },
  {
   "cell_type": "markdown",
   "metadata": {},
   "source": [
    "## List if usefull links\n",
    "\n",
    "- [AntakIA documentation](https://ai-vidence.github.io/antakia/) - The official documentation of AntakIA\n",
    "- [AntakIA GitHub repository](https://github.com/AI-vidence/antakia/tree/main) - The GitHub repository of AntakIA. Do not forget to __star__ it if you like it!\n",
    "- [AntakIA video tutorials](https://www.youtube.com/@AI-vidence) - The YouTube channel of AI-vidence, with video tutorials on AntakIA!\n",
    "- [AI-vidence's website](https://ai-vidence.com/) - The website of AI-vidence, the company behind AntakIA"
   ]
  },
  {
   "cell_type": "markdown",
   "metadata": {},
   "source": [
    "[Top of Page](#top)\n",
    "<img style=\"float: right;\" src=\"https://raw.githubusercontent.com/AI-vidence/antakia/main/docs/img/Logo-AI-vidence.png\" alt=\"AI-vidence\" width=\"200px\"/> "
   ]
  }
 ],
 "metadata": {
  "kernelspec": {
   "display_name": "antakia-venv",
   "language": "python",
   "name": "antakia-venv"
  },
  "language_info": {
   "codemirror_mode": {
    "name": "ipython",
    "version": 3
   },
   "file_extension": ".py",
   "mimetype": "text/x-python",
   "name": "python",
   "nbconvert_exporter": "python",
   "pygments_lexer": "ipython3",
   "version": "3.10.12"
  }
 },
 "nbformat": 4,
 "nbformat_minor": 4
}
