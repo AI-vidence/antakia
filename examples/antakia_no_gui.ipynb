{
 "cells": [
  {
   "cell_type": "markdown",
   "metadata": {},
   "source": [
    "<a id=\"top\"></a>\n",
    "# AntakIA tutorial\n",
    "***\n",
    "### Unsing AntakIA with no GUI!"
   ]
  },
  {
   "cell_type": "markdown",
   "metadata": {},
   "source": [
    "AntakIA helps you understand and explain your _black-box_ machine-learning models, by identifying the most relevant way of segregating your dataset and the best surrogate models to apply on these freshly created regions. In this notebook, we will show you how to use the automatic dyadic-clustering algorithm of AntakIA.\n",
    "\n",
    "> This notebook is a tutorial on how to use AntakIA without the GUI. If you want to use the GUI, please refer to the [AntakIA GUI tutorial](antakia_gui.ipynb).\n",
    "> \n",
    "> For more information about AntakIA, please refer to the [AntakIA documentation](https://ai-vidence.github.io/antakia/) or go to [AI-vidence's website](https://ai-vidence.com/)."
   ]
  },
  {
   "cell_type": "markdown",
   "metadata": {},
   "source": [
    "__In this notebook, you will learn how to:__\n",
    "- Create a dataset object from a CSV file\n",
    "- Instanciate an AntakIA object\n",
    "- Manually define regions and apply sub-models\n",
    "- Run the automatic dyadic-clustering algorithm\n",
    "- Visualize the results"
   ]
  },
  {
   "cell_type": "markdown",
   "metadata": {},
   "source": [
    "## Context :\n",
    "\n",
    "__Let's pretend that we are a real estate agent and that we want to predict the price of a house based on its characteristics.__ We have a dataset of more than 20000 blocks of houses, each block being described by 8 features (e.g. medium income of the owners, number of rooms, etc.). We also have the price of each block of houses. We already trained a machine-learning model (in our case, a simple XGBoost) that will predict the price of a house based on its characteristics. This is very helpful to estimate the price of a house that we want to sell !\n",
    "\n",
    "__The main issue is the following :__ we want to explain to our customers why their house is worth a certain price. We can't just show them the machine-learning model, because it is a _black-box_ model. We need to find a way to explain the price of a house based on its characteristics. This is where AntakIA comes in handy !"
   ]
  },
  {
   "cell_type": "markdown",
   "metadata": {},
   "source": [
    "We start by importing the necessary libraries."
   ]
  },
  {
   "cell_type": "code",
   "execution_count": 1,
   "metadata": {
    "tags": []
   },
   "outputs": [],
   "source": [
    "import pandas as pd "
   ]
  },
  {
   "cell_type": "markdown",
   "metadata": {},
   "source": [
    "Then, our dataset. Ours is [this one](https://inria.github.io/scikit-learn-mooc/python_scripts/datasets_california_housing.html); it can be found in the `data` folder of this repository.\n",
    "\n",
    "Note that we already computed some explanatory values (in our case, SHAP values) and saved them in the CSV file. This is not necessary, as AntakIA can do it, but it will save us some computation time!"
   ]
  },
  {
   "cell_type": "code",
   "execution_count": 2,
   "metadata": {
    "tags": []
   },
   "outputs": [],
   "source": [
    "df = pd.read_csv('../data/california_housing/california_housing.csv').drop(['Unnamed: 0'], axis=1)\n",
    "\n",
    "X = df.iloc[:,0:8] # the dataset\n",
    "Y = df.iloc[:,9] # the target variable\n",
    "SHAP = df.iloc[:,[10,11,12,13,14,15,16,17]] # the SHAP values"
   ]
  },
  {
   "cell_type": "markdown",
   "metadata": {},
   "source": [
    "We also have a trained XGBoost model that we will use to predict the price of a house."
   ]
  },
  {
   "cell_type": "code",
   "execution_count": 3,
   "metadata": {
    "tags": []
   },
   "outputs": [
    {
     "data": {
      "text/plain": [
       "'model fitted'"
      ]
     },
     "execution_count": 3,
     "metadata": {},
     "output_type": "execute_result"
    }
   ],
   "source": [
    "from sklearn.ensemble import GradientBoostingRegressor\n",
    "model = GradientBoostingRegressor(random_state = 9)\n",
    "model.fit(X, Y)\n",
    "\"model fitted\""
   ]
  },
  {
   "cell_type": "markdown",
   "metadata": {},
   "source": [
    "__Let's now import `antakia`!__"
   ]
  },
  {
   "cell_type": "code",
   "execution_count": 4,
   "metadata": {},
   "outputs": [],
   "source": [
    "import antakia"
   ]
  },
  {
   "cell_type": "markdown",
   "metadata": {},
   "source": [
    "## 1. Creating the dataset object\n",
    "\n",
    "We first use the [`Dataset`](https://ai-vidence.github.io/antakia/documentation/dataset/) class to create a dataset object. This object will be used to store the data and the machine-learning model."
   ]
  },
  {
   "cell_type": "code",
   "execution_count": 5,
   "metadata": {
    "slideshow": {
     "slide_type": ""
    },
    "tags": []
   },
   "outputs": [
    {
     "name": "stdout",
     "output_type": "stream",
     "text": [
      "Size of the original dataset: 20640 lines\n",
      "Size of the data we want to explore: 2064 lines\n"
     ]
    }
   ],
   "source": [
    "dataset = antakia.Dataset(X, model = model, y=Y)\n",
    "print(f'Size of the original dataset: {len(dataset)} lines')\n",
    "dataset.frac(0.1) # 10% of the original dataset is enough to explore\n",
    "print(f'Size of the data we want to explore: {len(dataset)} lines')"
   ]
  },
  {
   "cell_type": "markdown",
   "metadata": {},
   "source": [
    "## 2. Creating the AntakIA object\n",
    "We then use the [`AntakIA`](https://ai-vidence.github.io/antakia/documentation/antakia/) class to create an AntakIA object. This is the main object of the package!\n",
    "This is where we import our explanatory values (in our case, SHAP values)."
   ]
  },
  {
   "cell_type": "code",
   "execution_count": 6,
   "metadata": {
    "tags": []
   },
   "outputs": [],
   "source": [
    "atk = antakia.AntakIA(dataset, import_explanation = SHAP)"
   ]
  },
  {
   "cell_type": "markdown",
   "metadata": {},
   "source": [
    "## 3. Creating custom regions\n",
    "We can now create our own regions and apply sub-models on them.\n",
    "Doing it this way means that we already know how to segregate (at least partly) our dataset. This is not always the case, and this is why AntakIA has a GUI and an automatic dyadic-clustering algorithm (see next section). Here, we pretend that a business expert told us that a particular region is very interesting to look at. He sent it to us in a [`JSON` file](../data/business.json), as a list of the indexes of the data points that belong to this region.\n",
    "\n",
    "A region (a set of points) is called a [`Potato`](https://ai-vidence.github.io/antakia/documentation/potato/) in AntakIA. Let's create one!\n",
    "\n"
   ]
  },
  {
   "cell_type": "code",
   "execution_count": 7,
   "metadata": {},
   "outputs": [
    {
     "name": "stdout",
     "output_type": "stream",
     "text": [
      "Potato:\n",
      " ------------------\n",
      "       State: json importation \n",
      "       Number of points: 928 \n",
      "       Percentage of the dataset: 44.96% \n",
      "       Sub-model: NoneType\n"
     ]
    }
   ],
   "source": [
    "potato = antakia.Potato(atk, json_path=\"../data/business\")\n",
    "\n",
    "print(potato)"
   ]
  },
  {
   "cell_type": "markdown",
   "metadata": {},
   "source": [
    "A `Potato` object takes as input the `AntakIA` object. __You will discover that the `AntakIA` object is the main object of the package: it links all the other objects together!__"
   ]
  },
  {
   "cell_type": "markdown",
   "metadata": {},
   "source": [
    "This region is a fraction of the dataset. But what does it represent? We could use data-visulization tools to find out, such as plotting the points on a map or a scatter plot. AntakIA chooses to use the [SkopeRules](https://github.com/scikit-learn-contrib/skope-rules) tool! This tool will give us, with a certain precision and recall that we can define, simple rules on the features that describe best the region. Let's use it with the `applySkope` method of the Potato!\n",
    "\n",
    "_The rules must be found both in the Values Space and in the Explanation Space. We need to specify which explanation space to consider! That's why this methdo takes as an argument one of the explanation spaces of the AntakIA object._"
   ]
  },
  {
   "cell_type": "code",
   "execution_count": 8,
   "metadata": {},
   "outputs": [],
   "source": [
    "potato.applySkope('Imported')"
   ]
  },
  {
   "cell_type": "markdown",
   "metadata": {},
   "source": [
    "Let's see what we got!"
   ]
  },
  {
   "cell_type": "code",
   "execution_count": 9,
   "metadata": {},
   "outputs": [
    {
     "data": {
      "text/plain": [
       "[[0.5, '<=', 'MedInc', '<=', 12.448],\n",
       " [0.444, '<=', 'AveBedrms', '<=', 1.963],\n",
       " [34.915, '<=', 'Latitude', '<=', 41.86]]"
      ]
     },
     "execution_count": 9,
     "metadata": {},
     "output_type": "execute_result"
    }
   ],
   "source": [
    "potato.getVSrules()"
   ]
  },
  {
   "cell_type": "markdown",
   "metadata": {},
   "source": [
    "These rules define the region we are creating right now, with the following score:\n",
    "\n",
    "_(Precision, Recall, Extract from the decision tree)_)"
   ]
  },
  {
   "cell_type": "code",
   "execution_count": 27,
   "metadata": {},
   "outputs": [
    {
     "data": {
      "text/plain": [
       "(0.999, 1.0, 10)"
      ]
     },
     "execution_count": 27,
     "metadata": {},
     "output_type": "execute_result"
    }
   ],
   "source": [
    "potato.getVSscore()"
   ]
  },
  {
   "cell_type": "markdown",
   "metadata": {},
   "source": [
    "The same can be done for the __explanation space:__"
   ]
  },
  {
   "cell_type": "code",
   "execution_count": 26,
   "metadata": {},
   "outputs": [
    {
     "name": "stdout",
     "output_type": "stream",
     "text": [
      "[[-0.394, '<=', 'AveBedrms_shap', '<=', 0.062], [-1.282, '<=', 'Latitude_shap', '<=', 0.08], [-0.171, '<=', 'Longitude_shap', '<=', 1.307]]\n",
      "(0.979, 0.921, 10)\n"
     ]
    }
   ],
   "source": [
    "print(potato.getESrules())\n",
    "print(potato.getESscore())"
   ]
  },
  {
   "cell_type": "markdown",
   "metadata": {},
   "source": [
    "This done, we want to apply a linear sub-model on this region. Let's find what is the best sub-model for this region!"
   ]
  },
  {
   "cell_type": "code",
   "execution_count": 11,
   "metadata": {},
   "outputs": [
    {
     "name": "stdout",
     "output_type": "stream",
     "text": [
      "Score for LinearRegression : 0.6796\n",
      "Score for SGDRegressor : -5.967526598835133e+29\n",
      "Score for Ridge : 0.6795\n"
     ]
    }
   ],
   "source": [
    "import sklearn\n",
    "\n",
    "sub_models = [sklearn.linear_model.LinearRegression(), sklearn.linear_model.SGDRegressor(), sklearn.linear_model.Ridge()] # list of sub-models to choose from\n",
    "\n",
    "for sub_model in sub_models:\n",
    "    sub_model.fit(potato.data, potato.y)\n",
    "    print(f\"Score for {sub_model.__class__.__name__} : {round(sub_model.score(potato.data, potato.y),4)}\")"
   ]
  },
  {
   "cell_type": "markdown",
   "metadata": {},
   "source": [
    "Let's say that the most relevant sub-model for this region is the `Ridge` sub-model. We can now apply it on this region."
   ]
  },
  {
   "cell_type": "code",
   "execution_count": 12,
   "metadata": {},
   "outputs": [],
   "source": [
    "potato.setSubModel(sklearn.linear_model.Ridge())"
   ]
  },
  {
   "cell_type": "markdown",
   "metadata": {},
   "source": [
    "We are now happy with this region, so we can add it to the list of regions stored in the `AntakIA` object."
   ]
  },
  {
   "cell_type": "code",
   "execution_count": 13,
   "metadata": {},
   "outputs": [],
   "source": [
    "atk.newRegion(potato)"
   ]
  },
  {
   "cell_type": "markdown",
   "metadata": {},
   "source": [
    "The regions are a list of `Potato` objects. Let's see what we have so far."
   ]
  },
  {
   "cell_type": "code",
   "execution_count": 14,
   "metadata": {},
   "outputs": [
    {
     "name": "stdout",
     "output_type": "stream",
     "text": [
      "[<antakia.potato.Potato object at 0x2846d1690>]\n",
      "\n",
      "Potato:\n",
      " ------------------\n",
      "       State: lasso \n",
      "       Number of points: 928 \n",
      "       Percentage of the dataset: 44.96% \n",
      "       Sub-model: Ridge\n"
     ]
    }
   ],
   "source": [
    "print(atk.regions) # 1 potato!\n",
    "print()\n",
    "print(atk.regions[0])"
   ]
  },
  {
   "cell_type": "markdown",
   "metadata": {},
   "source": [
    "## 4. Using the automatic dyadic-clustering algorithm\n",
    "We now want to ask AntakIA to find automatically the best way to segregate our dataset. We will use the automatic dyadic-clustering algorithm to do so. Let's first reset our regions, and then run the algorithm."
   ]
  },
  {
   "cell_type": "code",
   "execution_count": 15,
   "metadata": {
    "tags": []
   },
   "outputs": [],
   "source": [
    "atk.resetRegions()\n",
    "atk.computeDyadicClustering(sub_models = True) # compute the dyadic clustering, and asking it to find the best sub-model for each region"
   ]
  },
  {
   "cell_type": "markdown",
   "metadata": {},
   "source": [
    "Let's see what we have now."
   ]
  },
  {
   "cell_type": "code",
   "execution_count": 16,
   "metadata": {},
   "outputs": [
    {
     "name": "stdout",
     "output_type": "stream",
     "text": [
      "Number of regions created: 3\n"
     ]
    }
   ],
   "source": [
    "regions = atk.getRegions()\n",
    "print(f'Number of regions created: {len(regions)}')"
   ]
  },
  {
   "cell_type": "markdown",
   "metadata": {},
   "source": [
    "Let's explore the first one as an example."
   ]
  },
  {
   "cell_type": "code",
   "execution_count": 17,
   "metadata": {
    "tags": []
   },
   "outputs": [
    {
     "name": "stdout",
     "output_type": "stream",
     "text": [
      "Size of the region: 355\n",
      "First glance at the data:\n"
     ]
    },
    {
     "data": {
      "text/html": [
       "<div>\n",
       "<style scoped>\n",
       "    .dataframe tbody tr th:only-of-type {\n",
       "        vertical-align: middle;\n",
       "    }\n",
       "\n",
       "    .dataframe tbody tr th {\n",
       "        vertical-align: top;\n",
       "    }\n",
       "\n",
       "    .dataframe thead th {\n",
       "        text-align: right;\n",
       "    }\n",
       "</style>\n",
       "<table border=\"1\" class=\"dataframe\">\n",
       "  <thead>\n",
       "    <tr style=\"text-align: right;\">\n",
       "      <th></th>\n",
       "      <th>MedInc</th>\n",
       "      <th>HouseAge</th>\n",
       "      <th>AveRooms</th>\n",
       "      <th>AveBedrms</th>\n",
       "      <th>Population</th>\n",
       "      <th>AveOccup</th>\n",
       "      <th>Latitude</th>\n",
       "      <th>Longitude</th>\n",
       "    </tr>\n",
       "  </thead>\n",
       "  <tbody>\n",
       "    <tr>\n",
       "      <th>3</th>\n",
       "      <td>1.5933</td>\n",
       "      <td>37.0</td>\n",
       "      <td>3.998331</td>\n",
       "      <td>1.046745</td>\n",
       "      <td>2489.0</td>\n",
       "      <td>4.155259</td>\n",
       "      <td>32.69</td>\n",
       "      <td>-117.11</td>\n",
       "    </tr>\n",
       "    <tr>\n",
       "      <th>5</th>\n",
       "      <td>5.7695</td>\n",
       "      <td>3.0</td>\n",
       "      <td>4.826263</td>\n",
       "      <td>1.057576</td>\n",
       "      <td>2522.0</td>\n",
       "      <td>2.547475</td>\n",
       "      <td>37.38</td>\n",
       "      <td>-121.89</td>\n",
       "    </tr>\n",
       "    <tr>\n",
       "      <th>6</th>\n",
       "      <td>3.1975</td>\n",
       "      <td>24.0</td>\n",
       "      <td>4.218609</td>\n",
       "      <td>1.070461</td>\n",
       "      <td>2478.0</td>\n",
       "      <td>2.238482</td>\n",
       "      <td>34.10</td>\n",
       "      <td>-118.13</td>\n",
       "    </tr>\n",
       "    <tr>\n",
       "      <th>15</th>\n",
       "      <td>5.2898</td>\n",
       "      <td>25.0</td>\n",
       "      <td>6.722008</td>\n",
       "      <td>1.028958</td>\n",
       "      <td>3240.0</td>\n",
       "      <td>3.127413</td>\n",
       "      <td>33.86</td>\n",
       "      <td>-117.56</td>\n",
       "    </tr>\n",
       "    <tr>\n",
       "      <th>21</th>\n",
       "      <td>1.7514</td>\n",
       "      <td>34.0</td>\n",
       "      <td>2.660137</td>\n",
       "      <td>1.091087</td>\n",
       "      <td>2991.0</td>\n",
       "      <td>2.929481</td>\n",
       "      <td>34.09</td>\n",
       "      <td>-118.29</td>\n",
       "    </tr>\n",
       "  </tbody>\n",
       "</table>\n",
       "</div>"
      ],
      "text/plain": [
       "    MedInc  HouseAge  AveRooms  AveBedrms  Population  AveOccup  Latitude  \\\n",
       "3   1.5933      37.0  3.998331   1.046745      2489.0  4.155259     32.69   \n",
       "5   5.7695       3.0  4.826263   1.057576      2522.0  2.547475     37.38   \n",
       "6   3.1975      24.0  4.218609   1.070461      2478.0  2.238482     34.10   \n",
       "15  5.2898      25.0  6.722008   1.028958      3240.0  3.127413     33.86   \n",
       "21  1.7514      34.0  2.660137   1.091087      2991.0  2.929481     34.09   \n",
       "\n",
       "    Longitude  \n",
       "3     -117.11  \n",
       "5     -121.89  \n",
       "6     -118.13  \n",
       "15    -117.56  \n",
       "21    -118.29  "
      ]
     },
     "metadata": {},
     "output_type": "display_data"
    },
    {
     "name": "stdout",
     "output_type": "stream",
     "text": [
      "Which sub-model is the most appropriate for this region?\n",
      "{'model': 'RandomForestRegressor', 'score': 0.9575}\n"
     ]
    }
   ],
   "source": [
    "my_region = atk.getRegions()[0]\n",
    "\n",
    "print(f\"Size of the region: {len(my_region)}\")\n",
    "\n",
    "print('First glance at the data:')\n",
    "display(my_region.getVSdata().head())\n",
    "\n",
    "print('Which sub-model is the most appropriate for this region?') # the sub-models are choosen from a list in the AntakIA object. There are default sub-models, but you can add your own (see the documentation).\n",
    "print(my_region.getSubModel())"
   ]
  },
  {
   "cell_type": "markdown",
   "metadata": {},
   "source": [
    "Now, as a data-scientist, you can do pretty much whatever you want with this data, such as visualizing it on a map !"
   ]
  },
  {
   "cell_type": "code",
   "execution_count": 18,
   "metadata": {},
   "outputs": [
    {
     "data": {
      "application/vnd.plotly.v1+json": {
       "config": {
        "plotlyServerURL": "https://plot.ly"
       },
       "data": [
        {
         "lat": [
          32.69,
          37.38,
          34.1,
          33.86,
          34.09,
          34.04,
          38.61,
          34.09,
          37.8,
          34.18,
          39.12,
          33.74,
          37.22,
          34.08,
          33.92,
          34.16,
          33.96,
          37.89,
          33.62,
          34.13,
          33.72,
          33.99,
          34.06,
          33.89,
          37.47,
          32.79,
          33.89,
          34.23,
          34.14,
          38.02,
          34.41,
          36.79,
          37.24,
          32.56,
          34.1,
          37.97,
          33.85,
          37.75,
          37.38,
          34.22,
          32.86,
          32.77,
          37.7,
          37.36,
          38.58,
          38,
          33.8,
          37.51,
          38.01,
          37.35,
          33.64,
          33.83,
          34.51,
          34.1,
          33.89,
          32.81,
          34.17,
          34.03,
          33.71,
          34.21,
          37.23,
          33.81,
          32.73,
          34.03,
          33.78,
          36.81,
          33.87,
          37.57,
          38.47,
          33.9,
          37.96,
          37.67,
          34.32,
          39.26,
          33.85,
          37.3,
          34.02,
          36.91,
          37,
          34.15,
          39.74,
          33.82,
          34.1,
          34.23,
          33.75,
          34.13,
          37.79,
          37.82,
          33.15,
          37.99,
          37.67,
          37.29,
          38.66,
          38.27,
          37.69,
          38.52,
          38.51,
          33.92,
          34.15,
          34.08,
          38.25,
          37.39,
          34.2,
          36.55,
          34.02,
          34.53,
          33.79,
          37.43,
          33.98,
          34.01,
          33.93,
          37.47,
          34.26,
          32.74,
          33.23,
          36.78,
          34.43,
          34.3,
          37.69,
          34.24,
          38.71,
          37.86,
          35.76,
          34.22,
          35.43,
          32.95,
          34.14,
          34.03,
          38.31,
          33.22,
          34.21,
          34.36,
          34.35,
          38.32,
          33.84,
          38.36,
          34.21,
          37.32,
          33.92,
          36.93,
          37.56,
          33.93,
          33.46,
          34.09,
          38.69,
          34.13,
          35.2,
          33.8,
          34.14,
          38.25,
          37.88,
          38.68,
          34.01,
          34.06,
          34.02,
          34.18,
          34.03,
          33.74,
          34.18,
          38.72,
          37.8,
          37.79,
          37.41,
          38.97,
          33.95,
          38.32,
          34.1,
          37.32,
          35.37,
          37.55,
          33.96,
          33.15,
          33.7,
          39.13,
          36.23,
          37.91,
          34.22,
          33.74,
          37.66,
          37.79,
          34.17,
          35.39,
          37.37,
          38.46,
          34.06,
          33.44,
          38.26,
          35.41,
          33.63,
          32.71,
          32.8,
          33.73,
          34.07,
          37.31,
          33.99,
          37.79,
          34.25,
          37.39,
          33.88,
          37.54,
          32.71,
          33.92,
          37.45,
          34.08,
          37.56,
          38.47,
          38.47,
          33.89,
          34.17,
          34.04,
          34.03,
          37.66,
          34.2,
          38.55,
          37.68,
          38.58,
          33.92,
          34.7,
          34.11,
          36.52,
          34.25,
          36.88,
          34.05,
          33.99,
          33.16,
          38.62,
          34.12,
          34.08,
          34.03,
          33.88,
          37.74,
          34.05,
          37.23,
          35.33,
          33.85,
          37.73,
          34.03,
          34.13,
          33.75,
          33.76,
          37.82,
          34.21,
          32.81,
          33.74,
          35.35,
          37.36,
          37.74,
          37.99,
          33.73,
          37.43,
          33.76,
          38.62,
          34.08,
          33.89,
          34,
          38.1,
          37.29,
          34.13,
          33.89,
          37.35,
          33.26,
          34.26,
          34.02,
          33.74,
          34.29,
          34.01,
          35.33,
          35.59,
          37.77,
          32.79,
          39.16,
          33.79,
          33.93,
          34.03,
          37.56,
          33.93,
          37.37,
          38.26,
          33.95,
          33.8,
          32.92,
          34.06,
          38.02,
          37.33,
          33.97,
          33.86,
          33.89,
          34.15,
          34.13,
          33.96,
          34.25,
          33.97,
          34.21,
          37.93,
          37.77,
          38.24,
          33.72,
          34.07,
          35.15,
          35.32,
          34.24,
          35.37,
          34.29,
          37.69,
          34.45,
          37.89,
          34.2,
          34.08,
          33.96,
          33.77,
          32.67,
          34.23,
          33.17,
          34.09,
          34,
          37.4,
          34.09,
          33.73,
          34.2,
          34.04,
          36.96,
          33.74,
          34.14,
          37.85,
          34.13,
          34.02,
          34.45,
          34.95,
          37.8,
          34.04,
          33.87,
          37.79,
          34.12,
          37.56,
          36.98,
          33.29,
          33.98,
          37.31,
          36.7,
          33.79,
          37.73,
          37.4,
          38.27,
          33.82,
          33.87,
          34.09,
          34.16,
          33.98,
          34.1,
          37.77,
          34.7,
          34.18,
          34.03,
          34.08,
          34.09
         ],
         "lon": [
          -117.11,
          -121.89,
          -118.13,
          -117.56,
          -118.29,
          -117.5,
          -121.34,
          -118.32,
          -122.42,
          -118.38,
          -121.64,
          -117,
          -121.98,
          -118.31,
          -117.27,
          -118.15,
          -117.23,
          -122.47,
          -117.7,
          -117.59,
          -116.37,
          -118.28,
          -117.7,
          -118.2,
          -121.91,
          -116.95,
          -118.15,
          -118.46,
          -118.03,
          -121.3,
          -117.29,
          -119.83,
          -121.91,
          -116.97,
          -117.68,
          -122.03,
          -117.9,
          -122.4,
          -122.06,
          -118.19,
          -117.22,
          -117.04,
          -122.48,
          -120.59,
          -121.54,
          -122.26,
          -118.35,
          -122,
          -122.59,
          -121.85,
          -117.49,
          -118.01,
          -117.17,
          -117.74,
          -117.48,
          -117.09,
          -118.21,
          -118.19,
          -117.95,
          -119.19,
          -121.87,
          -117.26,
          -117.02,
          -118.31,
          -117.91,
          -119.76,
          -117.6,
          -122.32,
          -121.38,
          -118.33,
          -121.92,
          -122.49,
          -118.41,
          -121.67,
          -118.18,
          -121.97,
          -118.26,
          -121.77,
          -121.56,
          -118.26,
          -121.88,
          -116.46,
          -118.23,
          -119.03,
          -117.99,
          -117.42,
          -122.41,
          -121.24,
          -117.34,
          -122.31,
          -122.1,
          -121.84,
          -121.79,
          -122.57,
          -121.08,
          -121.46,
          -121.52,
          -118.26,
          -118.44,
          -117.44,
          -122,
          -120.59,
          -117.35,
          -121.87,
          -118.3,
          -118.7,
          -118.27,
          -121.96,
          -117.47,
          -118.13,
          -118.42,
          -122.22,
          -118.6,
          -117.17,
          -117.34,
          -119.84,
          -118.49,
          -118.47,
          -121.02,
          -118.42,
          -121.23,
          -122.26,
          -119.29,
          -118.27,
          -116.57,
          -117.11,
          -118.56,
          -118.18,
          -122.33,
          -117.3,
          -118.65,
          -119.05,
          -119.09,
          -122.28,
          -118.06,
          -122.7,
          -118.37,
          -121.97,
          -118.01,
          -121.75,
          -122.25,
          -118.33,
          -117.63,
          -118.31,
          -121.23,
          -118.36,
          -118.85,
          -118.2,
          -118.82,
          -122.01,
          -122.34,
          -121.33,
          -118.29,
          -118.31,
          -117.58,
          -119.18,
          -117.67,
          -117.9,
          -118.53,
          -121.25,
          -121.94,
          -121.97,
          -122.1,
          -122.78,
          -118.22,
          -121.98,
          -118.09,
          -121.81,
          -119.12,
          -121.95,
          -118.19,
          -117.18,
          -117.87,
          -121.54,
          -119.34,
          -122.06,
          -119.03,
          -117.89,
          -122.45,
          -120.45,
          -119.27,
          -119.08,
          -120.5,
          -121.44,
          -118.27,
          -117.59,
          -121.32,
          -120.65,
          -117.68,
          -117.07,
          -116.94,
          -117.89,
          -118.3,
          -121.97,
          -117.97,
          -122.16,
          -118.41,
          -121.95,
          -117.82,
          -121.98,
          -116.99,
          -117.99,
          -122.18,
          -118.27,
          -121.99,
          -121.42,
          -121.44,
          -118.19,
          -118.4,
          -117.91,
          -118.28,
          -122.53,
          -118.33,
          -121.28,
          -122.06,
          -122.72,
          -117.39,
          -118.1,
          -118.49,
          -119.35,
          -119.15,
          -121.71,
          -118.21,
          -117.83,
          -117.2,
          -121.48,
          -117.56,
          -117.61,
          -118.32,
          -117.55,
          -122.45,
          -118.17,
          -121.83,
          -119.12,
          -118.08,
          -121.44,
          -118.3,
          -117.84,
          -118.38,
          -117.89,
          -121.89,
          -118.45,
          -116.94,
          -116.38,
          -119.04,
          -121.85,
          -122.27,
          -121.31,
          -117.86,
          -122.17,
          -118.3,
          -121.5,
          -118.1,
          -118.23,
          -118.11,
          -122.55,
          -120.51,
          -117.76,
          -117.99,
          -121.87,
          -116.98,
          -118.42,
          -117.9,
          -117.92,
          -118.75,
          -118.28,
          -119.07,
          -120.63,
          -122.25,
          -115.56,
          -123.22,
          -118.19,
          -117.46,
          -118,
          -122.03,
          -118.29,
          -121.88,
          -122.63,
          -117.24,
          -117.79,
          -117.18,
          -118.03,
          -121.31,
          -121.81,
          -118.21,
          -118.07,
          -117.88,
          -118.27,
          -117.26,
          -118.05,
          -118.53,
          -118.07,
          -118.55,
          -121.26,
          -120.87,
          -122.07,
          -117.07,
          -117.09,
          -119.45,
          -119.05,
          -118.94,
          -118.94,
          -118.73,
          -121.89,
          -117.44,
          -122.02,
          -118.6,
          -117.36,
          -118.33,
          -118.27,
          -115.49,
          -118.45,
          -117.24,
          -118.12,
          -117.04,
          -122.06,
          -118.08,
          -117.79,
          -118.45,
          -117.84,
          -121.75,
          -117.88,
          -117.98,
          -122.06,
          -117.78,
          -118.35,
          -117.27,
          -120.44,
          -121,
          -117.5,
          -117.85,
          -122.23,
          -118.05,
          -122.26,
          -120.05,
          -117.2,
          -117.9,
          -121.95,
          -121.65,
          -118.21,
          -120.93,
          -122.1,
          -122.07,
          -118.33,
          -117.83,
          -117.38,
          -117.95,
          -118.43,
          -117.85,
          -122.27,
          -118.12,
          -118.53,
          -117.74,
          -118.15,
          -117.44
         ],
         "marker": {
          "color": [
           1.5933,
           5.7695,
           3.1975,
           5.2898,
           1.7514,
           5.1647,
           3.9063,
           1.879,
           2.5603,
           2.1449,
           4.2656,
           2.1103,
           5.2321,
           1.7542,
           3.0907,
           1.6921,
           5.253,
           7.2905,
           3.7361,
           3.8505,
           3.0021,
           1.275,
           2.3049,
           2.5321,
           6.868,
           2.0326,
           3.274,
           3.0187,
           3.0727,
           2.5473,
           1.5758,
           1.9575,
           4.7118,
           2.5625,
           2.8326,
           2.9915,
           4.325,
           2.8679,
           4.2719,
           9.8413,
           3.6287,
           2.734,
           3.049,
           2.0179,
           1.3177,
           6.2073,
           5.9541,
           4.9867,
           6.1724,
           2.7562,
           6.8588,
           4.9803,
           3.4875,
           3.5072,
           4.7295,
           5.5673,
           8.1325,
           1.9719,
           3.4133,
           4.2227,
           6.9473,
           2.1549,
           4.7952,
           0.8351,
           3.045,
           1.2716,
           3.4419,
           3.2285,
           4.5604,
           2.6091,
           5.2798,
           4.6771,
           5.2987,
           1.6315,
           0.7007,
           3.0079,
           2.1667,
           2.8348,
           2.5387,
           2.8884,
           1.6785,
           3.9508,
           2.2788,
           5.6762,
           3.3125,
           4.8283,
           2.5166,
           5.1047,
           3.0306,
           4.2348,
           2.9564,
           4.775,
           5.3064,
           5.3707,
           3.2246,
           2.1736,
           3.0963,
           1.9809,
           3.415,
           3.6025,
           4.9222,
           2.1061,
           4.4367,
           5.1506,
           1.6699,
           5.4284,
           2.1447,
           3.3859,
           4.9886,
           2.075,
           4.5743,
           3.3268,
           5.6392,
           2.9422,
           3.1062,
           1.3385,
           5.4829,
           3.6736,
           3.5208,
           2.525,
           4.8542,
           1.6307,
           2.1295,
           7.2812,
           2.7138,
           4.9485,
           10.4399,
           2.0764,
           6.1953,
           3.7568,
           9.6465,
           2.8417,
           4.0122,
           3.4543,
           4.0542,
           4.221,
           3.7143,
           3.699,
           5.2305,
           3.1327,
           5.6396,
           3.2862,
           6.3401,
           1.8214,
           3.9226,
           8.0499,
           1.9907,
           2.5012,
           6.9935,
           3.8583,
           1.7375,
           1.9093,
           1.6505,
           1.6987,
           5.2692,
           3.2196,
           4.7056,
           3.0833,
           3.1887,
           4.485,
           7.8287,
           6.6131,
           5.4721,
           3.0466,
           3.153,
           10.2264,
           2.7436,
           4.1165,
           4.8266,
           6.6478,
           2.0162,
           2.32,
           5.0956,
           1.3375,
           3.5611,
           4.1612,
           4.7831,
           3.2292,
           4.7755,
           3.1719,
           4.3693,
           5.575,
           2.4012,
           3.5461,
           1.3241,
           4.3897,
           4.1179,
           4.1875,
           3.929,
           2.8372,
           1.8937,
           3.0824,
           1.8238,
           3.9187,
           4.7332,
           5.9849,
           3.2284,
           5.4228,
           6.2185,
           3.1326,
           3.8904,
           4.061,
           4,
           2.5521,
           4.3393,
           2.3343,
           3.3608,
           2.9293,
           3.3545,
           4.6324,
           0.844,
           5.4694,
           3.1051,
           2.6981,
           3.1796,
           5.0555,
           2.3851,
           4.9806,
           13.2935,
           2.6445,
           4.0878,
           3.7766,
           1.6319,
           6.2734,
           2.3159,
           3.8272,
           3.7973,
           3.0199,
           2.1046,
           2.2372,
           5.0887,
           3.1528,
           6.0889,
           5.1036,
           6.2427,
           5.3321,
           1.8564,
           4.6937,
           7.6986,
           3.8056,
           13.2949,
           2.1888,
           2.8175,
           4.084,
           3.1753,
           3.0466,
           3.6875,
           1.3729,
           3.3125,
           4.0972,
           5.7764,
           3.7188,
           2.6884,
           2.1389,
           2.625,
           5.0029,
           1.7679,
           7.4837,
           4.5033,
           2.9222,
           4.7647,
           3.9,
           5.0704,
           4.3882,
           6.6073,
           1.8656,
           3.406,
           2.6528,
           2.975,
           1.1707,
           2.631,
           1.6792,
           3.7431,
           5.257,
           4.6978,
           2.0437,
           3.5745,
           4.6069,
           4.7877,
           6.67,
           5.196,
           2.4875,
           2.7981,
           7.2982,
           3.1901,
           5.6818,
           3.0214,
           3.0199,
           2.1375,
           2.9714,
           3.3892,
           2.4607,
           3.8247,
           1.4583,
           3.5959,
           3.5464,
           2.7983,
           2.5156,
           3.1592,
           3.4827,
           8.9063,
           2.0643,
           7.355,
           3.62,
           3.5167,
           7.5,
           3.2297,
           3.7348,
           4.2099,
           1.9964,
           1.375,
           2.3584,
           4.2826,
           3.2307,
           3.5255,
           4.3351,
           3.7066,
           7.2074,
           2.9688,
           6.9754,
           4.7569,
           2.5224,
           3.6336,
           3.6437,
           5.8819,
           1.4589,
           3.2215,
           2.2743,
           3.6107,
           5.0175,
           5.6549,
           2.1917,
           3.55,
           5.6683,
           2.5288,
           4.0357,
           3.253,
           3.6292,
           3.0827,
           2.1397,
           2.6343,
           3.4868,
           4.3586,
           6.5861,
           5.2131,
           3.3438,
           6.2654,
           7.5426,
           4.51,
           4.7695,
           4.3229,
           4.2083,
           3.4609,
           3.3988,
           2.375
          ]
         },
         "mode": "markers",
         "type": "scattergeo"
        }
       ],
       "layout": {
        "template": {
         "data": {
          "bar": [
           {
            "error_x": {
             "color": "#2a3f5f"
            },
            "error_y": {
             "color": "#2a3f5f"
            },
            "marker": {
             "line": {
              "color": "#E5ECF6",
              "width": 0.5
             },
             "pattern": {
              "fillmode": "overlay",
              "size": 10,
              "solidity": 0.2
             }
            },
            "type": "bar"
           }
          ],
          "barpolar": [
           {
            "marker": {
             "line": {
              "color": "#E5ECF6",
              "width": 0.5
             },
             "pattern": {
              "fillmode": "overlay",
              "size": 10,
              "solidity": 0.2
             }
            },
            "type": "barpolar"
           }
          ],
          "carpet": [
           {
            "aaxis": {
             "endlinecolor": "#2a3f5f",
             "gridcolor": "white",
             "linecolor": "white",
             "minorgridcolor": "white",
             "startlinecolor": "#2a3f5f"
            },
            "baxis": {
             "endlinecolor": "#2a3f5f",
             "gridcolor": "white",
             "linecolor": "white",
             "minorgridcolor": "white",
             "startlinecolor": "#2a3f5f"
            },
            "type": "carpet"
           }
          ],
          "choropleth": [
           {
            "colorbar": {
             "outlinewidth": 0,
             "ticks": ""
            },
            "type": "choropleth"
           }
          ],
          "contour": [
           {
            "colorbar": {
             "outlinewidth": 0,
             "ticks": ""
            },
            "colorscale": [
             [
              0,
              "#0d0887"
             ],
             [
              0.1111111111111111,
              "#46039f"
             ],
             [
              0.2222222222222222,
              "#7201a8"
             ],
             [
              0.3333333333333333,
              "#9c179e"
             ],
             [
              0.4444444444444444,
              "#bd3786"
             ],
             [
              0.5555555555555556,
              "#d8576b"
             ],
             [
              0.6666666666666666,
              "#ed7953"
             ],
             [
              0.7777777777777778,
              "#fb9f3a"
             ],
             [
              0.8888888888888888,
              "#fdca26"
             ],
             [
              1,
              "#f0f921"
             ]
            ],
            "type": "contour"
           }
          ],
          "contourcarpet": [
           {
            "colorbar": {
             "outlinewidth": 0,
             "ticks": ""
            },
            "type": "contourcarpet"
           }
          ],
          "heatmap": [
           {
            "colorbar": {
             "outlinewidth": 0,
             "ticks": ""
            },
            "colorscale": [
             [
              0,
              "#0d0887"
             ],
             [
              0.1111111111111111,
              "#46039f"
             ],
             [
              0.2222222222222222,
              "#7201a8"
             ],
             [
              0.3333333333333333,
              "#9c179e"
             ],
             [
              0.4444444444444444,
              "#bd3786"
             ],
             [
              0.5555555555555556,
              "#d8576b"
             ],
             [
              0.6666666666666666,
              "#ed7953"
             ],
             [
              0.7777777777777778,
              "#fb9f3a"
             ],
             [
              0.8888888888888888,
              "#fdca26"
             ],
             [
              1,
              "#f0f921"
             ]
            ],
            "type": "heatmap"
           }
          ],
          "heatmapgl": [
           {
            "colorbar": {
             "outlinewidth": 0,
             "ticks": ""
            },
            "colorscale": [
             [
              0,
              "#0d0887"
             ],
             [
              0.1111111111111111,
              "#46039f"
             ],
             [
              0.2222222222222222,
              "#7201a8"
             ],
             [
              0.3333333333333333,
              "#9c179e"
             ],
             [
              0.4444444444444444,
              "#bd3786"
             ],
             [
              0.5555555555555556,
              "#d8576b"
             ],
             [
              0.6666666666666666,
              "#ed7953"
             ],
             [
              0.7777777777777778,
              "#fb9f3a"
             ],
             [
              0.8888888888888888,
              "#fdca26"
             ],
             [
              1,
              "#f0f921"
             ]
            ],
            "type": "heatmapgl"
           }
          ],
          "histogram": [
           {
            "marker": {
             "pattern": {
              "fillmode": "overlay",
              "size": 10,
              "solidity": 0.2
             }
            },
            "type": "histogram"
           }
          ],
          "histogram2d": [
           {
            "colorbar": {
             "outlinewidth": 0,
             "ticks": ""
            },
            "colorscale": [
             [
              0,
              "#0d0887"
             ],
             [
              0.1111111111111111,
              "#46039f"
             ],
             [
              0.2222222222222222,
              "#7201a8"
             ],
             [
              0.3333333333333333,
              "#9c179e"
             ],
             [
              0.4444444444444444,
              "#bd3786"
             ],
             [
              0.5555555555555556,
              "#d8576b"
             ],
             [
              0.6666666666666666,
              "#ed7953"
             ],
             [
              0.7777777777777778,
              "#fb9f3a"
             ],
             [
              0.8888888888888888,
              "#fdca26"
             ],
             [
              1,
              "#f0f921"
             ]
            ],
            "type": "histogram2d"
           }
          ],
          "histogram2dcontour": [
           {
            "colorbar": {
             "outlinewidth": 0,
             "ticks": ""
            },
            "colorscale": [
             [
              0,
              "#0d0887"
             ],
             [
              0.1111111111111111,
              "#46039f"
             ],
             [
              0.2222222222222222,
              "#7201a8"
             ],
             [
              0.3333333333333333,
              "#9c179e"
             ],
             [
              0.4444444444444444,
              "#bd3786"
             ],
             [
              0.5555555555555556,
              "#d8576b"
             ],
             [
              0.6666666666666666,
              "#ed7953"
             ],
             [
              0.7777777777777778,
              "#fb9f3a"
             ],
             [
              0.8888888888888888,
              "#fdca26"
             ],
             [
              1,
              "#f0f921"
             ]
            ],
            "type": "histogram2dcontour"
           }
          ],
          "mesh3d": [
           {
            "colorbar": {
             "outlinewidth": 0,
             "ticks": ""
            },
            "type": "mesh3d"
           }
          ],
          "parcoords": [
           {
            "line": {
             "colorbar": {
              "outlinewidth": 0,
              "ticks": ""
             }
            },
            "type": "parcoords"
           }
          ],
          "pie": [
           {
            "automargin": true,
            "type": "pie"
           }
          ],
          "scatter": [
           {
            "fillpattern": {
             "fillmode": "overlay",
             "size": 10,
             "solidity": 0.2
            },
            "type": "scatter"
           }
          ],
          "scatter3d": [
           {
            "line": {
             "colorbar": {
              "outlinewidth": 0,
              "ticks": ""
             }
            },
            "marker": {
             "colorbar": {
              "outlinewidth": 0,
              "ticks": ""
             }
            },
            "type": "scatter3d"
           }
          ],
          "scattercarpet": [
           {
            "marker": {
             "colorbar": {
              "outlinewidth": 0,
              "ticks": ""
             }
            },
            "type": "scattercarpet"
           }
          ],
          "scattergeo": [
           {
            "marker": {
             "colorbar": {
              "outlinewidth": 0,
              "ticks": ""
             }
            },
            "type": "scattergeo"
           }
          ],
          "scattergl": [
           {
            "marker": {
             "colorbar": {
              "outlinewidth": 0,
              "ticks": ""
             }
            },
            "type": "scattergl"
           }
          ],
          "scattermapbox": [
           {
            "marker": {
             "colorbar": {
              "outlinewidth": 0,
              "ticks": ""
             }
            },
            "type": "scattermapbox"
           }
          ],
          "scatterpolar": [
           {
            "marker": {
             "colorbar": {
              "outlinewidth": 0,
              "ticks": ""
             }
            },
            "type": "scatterpolar"
           }
          ],
          "scatterpolargl": [
           {
            "marker": {
             "colorbar": {
              "outlinewidth": 0,
              "ticks": ""
             }
            },
            "type": "scatterpolargl"
           }
          ],
          "scatterternary": [
           {
            "marker": {
             "colorbar": {
              "outlinewidth": 0,
              "ticks": ""
             }
            },
            "type": "scatterternary"
           }
          ],
          "surface": [
           {
            "colorbar": {
             "outlinewidth": 0,
             "ticks": ""
            },
            "colorscale": [
             [
              0,
              "#0d0887"
             ],
             [
              0.1111111111111111,
              "#46039f"
             ],
             [
              0.2222222222222222,
              "#7201a8"
             ],
             [
              0.3333333333333333,
              "#9c179e"
             ],
             [
              0.4444444444444444,
              "#bd3786"
             ],
             [
              0.5555555555555556,
              "#d8576b"
             ],
             [
              0.6666666666666666,
              "#ed7953"
             ],
             [
              0.7777777777777778,
              "#fb9f3a"
             ],
             [
              0.8888888888888888,
              "#fdca26"
             ],
             [
              1,
              "#f0f921"
             ]
            ],
            "type": "surface"
           }
          ],
          "table": [
           {
            "cells": {
             "fill": {
              "color": "#EBF0F8"
             },
             "line": {
              "color": "white"
             }
            },
            "header": {
             "fill": {
              "color": "#C8D4E3"
             },
             "line": {
              "color": "white"
             }
            },
            "type": "table"
           }
          ]
         },
         "layout": {
          "annotationdefaults": {
           "arrowcolor": "#2a3f5f",
           "arrowhead": 0,
           "arrowwidth": 1
          },
          "autotypenumbers": "strict",
          "coloraxis": {
           "colorbar": {
            "outlinewidth": 0,
            "ticks": ""
           }
          },
          "colorscale": {
           "diverging": [
            [
             0,
             "#8e0152"
            ],
            [
             0.1,
             "#c51b7d"
            ],
            [
             0.2,
             "#de77ae"
            ],
            [
             0.3,
             "#f1b6da"
            ],
            [
             0.4,
             "#fde0ef"
            ],
            [
             0.5,
             "#f7f7f7"
            ],
            [
             0.6,
             "#e6f5d0"
            ],
            [
             0.7,
             "#b8e186"
            ],
            [
             0.8,
             "#7fbc41"
            ],
            [
             0.9,
             "#4d9221"
            ],
            [
             1,
             "#276419"
            ]
           ],
           "sequential": [
            [
             0,
             "#0d0887"
            ],
            [
             0.1111111111111111,
             "#46039f"
            ],
            [
             0.2222222222222222,
             "#7201a8"
            ],
            [
             0.3333333333333333,
             "#9c179e"
            ],
            [
             0.4444444444444444,
             "#bd3786"
            ],
            [
             0.5555555555555556,
             "#d8576b"
            ],
            [
             0.6666666666666666,
             "#ed7953"
            ],
            [
             0.7777777777777778,
             "#fb9f3a"
            ],
            [
             0.8888888888888888,
             "#fdca26"
            ],
            [
             1,
             "#f0f921"
            ]
           ],
           "sequentialminus": [
            [
             0,
             "#0d0887"
            ],
            [
             0.1111111111111111,
             "#46039f"
            ],
            [
             0.2222222222222222,
             "#7201a8"
            ],
            [
             0.3333333333333333,
             "#9c179e"
            ],
            [
             0.4444444444444444,
             "#bd3786"
            ],
            [
             0.5555555555555556,
             "#d8576b"
            ],
            [
             0.6666666666666666,
             "#ed7953"
            ],
            [
             0.7777777777777778,
             "#fb9f3a"
            ],
            [
             0.8888888888888888,
             "#fdca26"
            ],
            [
             1,
             "#f0f921"
            ]
           ]
          },
          "colorway": [
           "#636efa",
           "#EF553B",
           "#00cc96",
           "#ab63fa",
           "#FFA15A",
           "#19d3f3",
           "#FF6692",
           "#B6E880",
           "#FF97FF",
           "#FECB52"
          ],
          "font": {
           "color": "#2a3f5f"
          },
          "geo": {
           "bgcolor": "white",
           "lakecolor": "white",
           "landcolor": "#E5ECF6",
           "showlakes": true,
           "showland": true,
           "subunitcolor": "white"
          },
          "hoverlabel": {
           "align": "left"
          },
          "hovermode": "closest",
          "mapbox": {
           "style": "light"
          },
          "paper_bgcolor": "white",
          "plot_bgcolor": "#E5ECF6",
          "polar": {
           "angularaxis": {
            "gridcolor": "white",
            "linecolor": "white",
            "ticks": ""
           },
           "bgcolor": "#E5ECF6",
           "radialaxis": {
            "gridcolor": "white",
            "linecolor": "white",
            "ticks": ""
           }
          },
          "scene": {
           "xaxis": {
            "backgroundcolor": "#E5ECF6",
            "gridcolor": "white",
            "gridwidth": 2,
            "linecolor": "white",
            "showbackground": true,
            "ticks": "",
            "zerolinecolor": "white"
           },
           "yaxis": {
            "backgroundcolor": "#E5ECF6",
            "gridcolor": "white",
            "gridwidth": 2,
            "linecolor": "white",
            "showbackground": true,
            "ticks": "",
            "zerolinecolor": "white"
           },
           "zaxis": {
            "backgroundcolor": "#E5ECF6",
            "gridcolor": "white",
            "gridwidth": 2,
            "linecolor": "white",
            "showbackground": true,
            "ticks": "",
            "zerolinecolor": "white"
           }
          },
          "shapedefaults": {
           "line": {
            "color": "#2a3f5f"
           }
          },
          "ternary": {
           "aaxis": {
            "gridcolor": "white",
            "linecolor": "white",
            "ticks": ""
           },
           "baxis": {
            "gridcolor": "white",
            "linecolor": "white",
            "ticks": ""
           },
           "bgcolor": "#E5ECF6",
           "caxis": {
            "gridcolor": "white",
            "linecolor": "white",
            "ticks": ""
           }
          },
          "title": {
           "x": 0.05
          },
          "xaxis": {
           "automargin": true,
           "gridcolor": "white",
           "linecolor": "white",
           "ticks": "",
           "title": {
            "standoff": 15
           },
           "zerolinecolor": "white",
           "zerolinewidth": 2
          },
          "yaxis": {
           "automargin": true,
           "gridcolor": "white",
           "linecolor": "white",
           "ticks": "",
           "title": {
            "standoff": 15
           },
           "zerolinecolor": "white",
           "zerolinewidth": 2
          }
         }
        },
        "title": {
         "text": "Visualisation of the region on a map!"
        }
       }
      }
     },
     "metadata": {},
     "output_type": "display_data"
    }
   ],
   "source": [
    "import plotly.graph_objects as go\n",
    "\n",
    "df = my_region.data\n",
    "\n",
    "fig = go.Figure(data=go.Scattergeo(\n",
    "        lon = df['Longitude'],\n",
    "        lat = df['Latitude'],\n",
    "        mode = 'markers',\n",
    "        marker_color = df['MedInc'],\n",
    "        ))\n",
    "fig.update_layout(title = 'Visualisation of the region on a map!')\n",
    "fig.show()"
   ]
  },
  {
   "cell_type": "markdown",
   "metadata": {},
   "source": [
    "That's it ! You now know how to use AntakIA without the GUI. If you want to use the GUI, please refer to the [AntakIA GUI tutorial](antakia_gui.ipynb).\n",
    "***"
   ]
  },
  {
   "cell_type": "markdown",
   "metadata": {},
   "source": [
    "## List if usefull links\n",
    "\n",
    "- [AntakIA documentation](https://ai-vidence.github.io/antakia/) - The official documentation of AntakIA\n",
    "- [AntakIA GitHub repository](https://github.com/AI-vidence/antakia/tree/main) - The GitHub repository of AntakIA. Do not forget to __star__ it if you like it!\n",
    "- [AntakIA video tutorials](https://www.youtube.com/@AI-vidence) - The YouTube channel of AI-vidence, with video tutorials on AntakIA!\n",
    "- [AI-vidence's website](https://ai-vidence.com/) - The website of AI-vidence, the company behind AntakIA"
   ]
  },
  {
   "cell_type": "markdown",
   "metadata": {},
   "source": [
    "[Top of Page](#top)\n",
    "<img style=\"float: right;\" src=\"https://raw.githubusercontent.com/AI-vidence/antakia/main/docs/img/Logo-AI-vidence.png\" alt=\"AI-vidence\" width=\"200px\"/> "
   ]
  }
 ],
 "metadata": {
  "kernelspec": {
   "display_name": "antakia-venv",
   "language": "python",
   "name": "antakia-venv"
  },
  "language_info": {
   "codemirror_mode": {
    "name": "ipython",
    "version": 3
   },
   "file_extension": ".py",
   "mimetype": "text/x-python",
   "name": "python",
   "nbconvert_exporter": "python",
   "pygments_lexer": "ipython3",
   "version": "3.10.12"
  }
 },
 "nbformat": 4,
 "nbformat_minor": 4
}
