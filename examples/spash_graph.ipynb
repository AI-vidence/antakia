{
 "cells": [
  {
   "cell_type": "code",
   "execution_count": 1,
   "metadata": {},
   "outputs": [
    {
     "data": {
      "application/vnd.jupyter.widget-view+json": {
       "model_id": "bce648c97ee14637a6912ca8b014b241",
       "version_major": 2,
       "version_minor": 0
      },
      "text/plain": [
       "Output(layout=Layout(border_bottom='1px solid black', border_left='1px solid black', border_right='1px solid b…"
      ]
     },
     "metadata": {},
     "output_type": "display_data"
    },
    {
     "data": {
      "application/vnd.jupyter.widget-view+json": {
       "model_id": "588a48e644c2424e9e3f72cb865463bc",
       "version_major": 2,
       "version_minor": 0
      },
      "text/plain": [
       "Layout(children=[Image(value=b'\\x89PNG\\r\\n\\x1a\\n\\x00\\x00\\x00\\rIHDR\\x00\\x00\\t2\\x00\\x00\\n\\xd5\\x08\\x06\\x00\\x00\\x0…"
      ]
     },
     "metadata": {},
     "output_type": "display_data"
    }
   ],
   "source": [
    "import pandas as pd\n",
    "import numpy as np\n",
    "from IPython.display import display\n",
    "from ipywidgets import Layout, widgets\n",
    "import ipyvuetify as v\n",
    "from importlib.resources import files\n",
    "from antakia.data import DimReducMethod\n",
    "from plotly.graph_objects import FigureWidget, Histogram, Scatter\n",
    "\n",
    "splash_graph = v.Layout( \n",
    "            class_=\"d-flex flex-column align-center justify-center\",\n",
    "            children=[ \n",
    "                widgets.Image( # splash_graph.children[0]\n",
    "                    value=widgets.Image._load_file_value(files(\"antakia.assets\").joinpath(\"logo_antakia.png\")), layout=Layout(width=\"230px\")\n",
    "                ), \n",
    "                v.Row( # splash_graph.children[1]\n",
    "                    style_=\"width:85%;\",\n",
    "                    children=[\n",
    "                        v.Col( # splash_graph.children[1].children[0]\n",
    "                            children=[ \n",
    "                                v.Html( # splash_graph.children[1].children[0].children[0]\n",
    "                                    tag=\"h3\",\n",
    "                                    class_=\"mt-2 text-right\",\n",
    "                                    children=[\"Computation of explanation values\"],\n",
    "                                )\n",
    "                            ]   \n",
    "                        ),\n",
    "                        v.Col( # splash_graph.children[1].children[1]\n",
    "                            class_=\"mt-3\", \n",
    "                            children=[ \n",
    "                                v.ProgressLinear( # splash_graph.children[1].children[1].children[0]\n",
    "                                    style_=\"width: 80%\",\n",
    "                                    class_=\"py-0 mx-5\",\n",
    "                                    v_model=0,\n",
    "                                    color=\"primary\",\n",
    "                                    height=\"15\",\n",
    "                                    striped=True,\n",
    "                                )\n",
    "                           ]\n",
    "                        ),\n",
    "                        v.Col( # splash_graph.children[1].children[2]\n",
    "                            children=[\n",
    "                                v.TextField( # splash_graph.children[1].children[2].children[0]\n",
    "                                    variant=\"plain\",\n",
    "                                    v_model=\"0.00% [0/?] - 0m0s (estimated time : /min /s)\",\n",
    "                                    readonly=True,\n",
    "                                    class_=\"mt-0 pt-0\",\n",
    "                                    )\n",
    "                            ]\n",
    "                        ),\n",
    "                    ],\n",
    "                ),\n",
    "                v.Row( # splash_graph.children[2]\n",
    "                    style_=\"width:85%;\",\n",
    "                    children=[\n",
    "                        v.Col( # splash_graph.children[2].children[0]\n",
    "                            children=[\n",
    "                                v.Html(\n",
    "                                    tag=\"h3\",\n",
    "                                    class_=\"mt-2 text-right\",\n",
    "                                    children=[\"Computation of dimension reduction values\"],\n",
    "                                )\n",
    "                            ]\n",
    "                        ),\n",
    "                        v.Col( # splash_graph.children[2].children[1]\n",
    "                            class_=\"mt-3\", children=[ \n",
    "                            v.ProgressLinear(\n",
    "                                style_=\"width: 80%\",\n",
    "                                class_=\"py-0 mx-5\",\n",
    "                                v_model=0,\n",
    "                                color=\"primary\",\n",
    "                                height=\"15\",\n",
    "                                striped=True,\n",
    "                            )\n",
    "                        ]),\n",
    "                        v.Col( # splash_graph.children[2].children[2]\n",
    "                            children=[\n",
    "                                v.TextField(\n",
    "                                    variant=\"plain\",\n",
    "                                    v_model=\"0.00% [0/?] - 0m0s (estimated time : /min /s)\",\n",
    "                                    readonly=True,\n",
    "                                    class_=\"mt-0 pt-0\",\n",
    "                                    )\n",
    "                            ]\n",
    "                        ),\n",
    "                    ],\n",
    "                ), \n",
    "            ]\n",
    "        )\n",
    "\n",
    "\n",
    "display(splash_graph)\n"
   ]
  },
  {
   "cell_type": "code",
   "execution_count": 4,
   "metadata": {},
   "outputs": [
    {
     "data": {
      "text/plain": [
       "ipyvuetify.generated.TextField.TextField"
      ]
     },
     "execution_count": 4,
     "metadata": {},
     "output_type": "execute_result"
    }
   ],
   "source": [
    "type(splash_graph.children[1].children[2].children[0])"
   ]
  },
  {
   "cell_type": "markdown",
   "metadata": {},
   "source": []
  }
 ],
 "metadata": {
  "kernelspec": {
   "display_name": "antakia",
   "language": "python",
   "name": "python3"
  },
  "language_info": {
   "codemirror_mode": {
    "name": "ipython",
    "version": 3
   },
   "file_extension": ".py",
   "mimetype": "text/x-python",
   "name": "python",
   "nbconvert_exporter": "python",
   "pygments_lexer": "ipython3",
   "version": "3.10.13"
  },
  "orig_nbformat": 4
 },
 "nbformat": 4,
 "nbformat_minor": 2
}
