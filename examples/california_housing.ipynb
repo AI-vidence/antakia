{
 "cells": [
  {
   "cell_type": "code",
   "execution_count": 1,
   "metadata": {
    "ExecuteTime": {
     "end_time": "2023-11-16T09:03:03.657956Z",
     "start_time": "2023-11-16T09:03:00.457855Z"
    },
    "tags": []
   },
   "outputs": [],
   "source": [
    "import pandas as pd\n",
    "df = pd.read_csv('../data/california_housing.csv').drop(['Unnamed: 0'], axis=1)"
   ]
  },
  {
   "cell_type": "code",
   "execution_count": 2,
   "metadata": {
    "is_executing": true
   },
   "outputs": [],
   "source": [
    "# Remove outliers:\n",
    "df = df.loc[df['Population']<10000] \n",
    "df = df.loc[df['AveOccup']<6]\n",
    "df = df.loc[df['AveBedrms']<1.5]\n",
    "df = df.loc[df['HouseAge']<50]\n",
    "\n",
    "# Only San Francisco :\n",
    "df = df.loc[(df['Latitude']<38.07)&(df['Latitude']>37.2)]\n",
    "df = df.loc[(df['Longitude']>-122.5)&(df['Longitude']<-121.75)]"
   ]
  },
  {
   "cell_type": "code",
   "execution_count": 3,
   "metadata": {
    "is_executing": true
   },
   "outputs": [],
   "source": [
    "X = df.iloc[:,0:8] # the dataset\n",
    "y = df.iloc[:,9] # the target variable\n",
    "shapValues = df.iloc[:,[10,11,12,13,14,15,16,17]] # the SHAP values"
   ]
  },
  {
   "cell_type": "code",
   "execution_count": 4,
   "metadata": {
    "is_executing": true,
    "tags": []
   },
   "outputs": [
    {
     "data": {
      "text/html": [
       "<style>#sk-container-id-1 {color: black;}#sk-container-id-1 pre{padding: 0;}#sk-container-id-1 div.sk-toggleable {background-color: white;}#sk-container-id-1 label.sk-toggleable__label {cursor: pointer;display: block;width: 100%;margin-bottom: 0;padding: 0.3em;box-sizing: border-box;text-align: center;}#sk-container-id-1 label.sk-toggleable__label-arrow:before {content: \"▸\";float: left;margin-right: 0.25em;color: #696969;}#sk-container-id-1 label.sk-toggleable__label-arrow:hover:before {color: black;}#sk-container-id-1 div.sk-estimator:hover label.sk-toggleable__label-arrow:before {color: black;}#sk-container-id-1 div.sk-toggleable__content {max-height: 0;max-width: 0;overflow: hidden;text-align: left;background-color: #f0f8ff;}#sk-container-id-1 div.sk-toggleable__content pre {margin: 0.2em;color: black;border-radius: 0.25em;background-color: #f0f8ff;}#sk-container-id-1 input.sk-toggleable__control:checked~div.sk-toggleable__content {max-height: 200px;max-width: 100%;overflow: auto;}#sk-container-id-1 input.sk-toggleable__control:checked~label.sk-toggleable__label-arrow:before {content: \"▾\";}#sk-container-id-1 div.sk-estimator input.sk-toggleable__control:checked~label.sk-toggleable__label {background-color: #d4ebff;}#sk-container-id-1 div.sk-label input.sk-toggleable__control:checked~label.sk-toggleable__label {background-color: #d4ebff;}#sk-container-id-1 input.sk-hidden--visually {border: 0;clip: rect(1px 1px 1px 1px);clip: rect(1px, 1px, 1px, 1px);height: 1px;margin: -1px;overflow: hidden;padding: 0;position: absolute;width: 1px;}#sk-container-id-1 div.sk-estimator {font-family: monospace;background-color: #f0f8ff;border: 1px dotted black;border-radius: 0.25em;box-sizing: border-box;margin-bottom: 0.5em;}#sk-container-id-1 div.sk-estimator:hover {background-color: #d4ebff;}#sk-container-id-1 div.sk-parallel-item::after {content: \"\";width: 100%;border-bottom: 1px solid gray;flex-grow: 1;}#sk-container-id-1 div.sk-label:hover label.sk-toggleable__label {background-color: #d4ebff;}#sk-container-id-1 div.sk-serial::before {content: \"\";position: absolute;border-left: 1px solid gray;box-sizing: border-box;top: 0;bottom: 0;left: 50%;z-index: 0;}#sk-container-id-1 div.sk-serial {display: flex;flex-direction: column;align-items: center;background-color: white;padding-right: 0.2em;padding-left: 0.2em;position: relative;}#sk-container-id-1 div.sk-item {position: relative;z-index: 1;}#sk-container-id-1 div.sk-parallel {display: flex;align-items: stretch;justify-content: center;background-color: white;position: relative;}#sk-container-id-1 div.sk-item::before, #sk-container-id-1 div.sk-parallel-item::before {content: \"\";position: absolute;border-left: 1px solid gray;box-sizing: border-box;top: 0;bottom: 0;left: 50%;z-index: -1;}#sk-container-id-1 div.sk-parallel-item {display: flex;flex-direction: column;z-index: 1;position: relative;background-color: white;}#sk-container-id-1 div.sk-parallel-item:first-child::after {align-self: flex-end;width: 50%;}#sk-container-id-1 div.sk-parallel-item:last-child::after {align-self: flex-start;width: 50%;}#sk-container-id-1 div.sk-parallel-item:only-child::after {width: 0;}#sk-container-id-1 div.sk-dashed-wrapped {border: 1px dashed gray;margin: 0 0.4em 0.5em 0.4em;box-sizing: border-box;padding-bottom: 0.4em;background-color: white;}#sk-container-id-1 div.sk-label label {font-family: monospace;font-weight: bold;display: inline-block;line-height: 1.2em;}#sk-container-id-1 div.sk-label-container {text-align: center;}#sk-container-id-1 div.sk-container {/* jupyter's `normalize.less` sets `[hidden] { display: none; }` but bootstrap.min.css set `[hidden] { display: none !important; }` so we also need the `!important` here to be able to override the default hidden behavior on the sphinx rendered scikit-learn.org. See: https://github.com/scikit-learn/scikit-learn/issues/21755 */display: inline-block !important;position: relative;}#sk-container-id-1 div.sk-text-repr-fallback {display: none;}</style><div id=\"sk-container-id-1\" class=\"sk-top-container\"><div class=\"sk-text-repr-fallback\"><pre>GradientBoostingRegressor(random_state=9)</pre><b>In a Jupyter environment, please rerun this cell to show the HTML representation or trust the notebook. <br />On GitHub, the HTML representation is unable to render, please try loading this page with nbviewer.org.</b></div><div class=\"sk-container\" hidden><div class=\"sk-item\"><div class=\"sk-estimator sk-toggleable\"><input class=\"sk-toggleable__control sk-hidden--visually\" id=\"sk-estimator-id-1\" type=\"checkbox\" checked><label for=\"sk-estimator-id-1\" class=\"sk-toggleable__label sk-toggleable__label-arrow\">GradientBoostingRegressor</label><div class=\"sk-toggleable__content\"><pre>GradientBoostingRegressor(random_state=9)</pre></div></div></div></div></div>"
      ],
      "text/plain": [
       "GradientBoostingRegressor(random_state=9)"
      ]
     },
     "execution_count": 4,
     "metadata": {},
     "output_type": "execute_result"
    }
   ],
   "source": [
    "from sklearn.ensemble import GradientBoostingRegressor\n",
    "model = GradientBoostingRegressor(random_state = 9)\n",
    "model.fit(X, y)"
   ]
  },
  {
   "cell_type": "code",
   "execution_count": 5,
   "metadata": {
    "is_executing": true
   },
   "outputs": [
    {
<<<<<<< HEAD
     "data": {
      "application/vnd.jupyter.widget-view+json": {
       "model_id": "73e8677d6cb6408299209b1d1d99a5b8",
       "version_major": 2,
       "version_minor": 0
      },
      "text/plain": [
       "Output(layout=Layout(border_bottom='1px solid black', border_left='1px solid black', border_right='1px solid b…"
      ]
     },
     "metadata": {},
     "output_type": "display_data"
    },
    {
     "data": {
      "application/vnd.jupyter.widget-view+json": {
       "model_id": "413151d657284330a7dc69274ace4d0e",
       "version_major": 2,
       "version_minor": 0
      },
      "text/plain": [
       "Output(layout=Layout(border_bottom='1px solid black', border_left='1px solid black', border_right='1px solid b…"
      ]
     },
     "metadata": {},
     "output_type": "display_data"
    },
    {
     "data": {
      "application/vnd.jupyter.widget-view+json": {
       "model_id": "c311164861134d43ae8b8a75553e998c",
       "version_major": 2,
       "version_minor": 0
      },
      "text/plain": [
       "Output(layout=Layout(border_bottom='1px solid black', border_left='1px solid black', border_right='1px solid b…"
      ]
     },
     "metadata": {},
     "output_type": "display_data"
    },
    {
     "data": {
      "application/vnd.jupyter.widget-view+json": {
       "model_id": "f37c3c2c1b8744f9b575e367cec981bc",
       "version_major": 2,
       "version_minor": 0
      },
      "text/plain": [
       "Output(layout=Layout(border_bottom='1px solid black', border_left='1px solid black', border_right='1px solid b…"
      ]
     },
     "metadata": {},
     "output_type": "display_data"
    },
    {
     "data": {
      "application/vnd.jupyter.widget-view+json": {
       "model_id": "15574ced52f6456987bf791398355903",
       "version_major": 2,
       "version_minor": 0
      },
      "text/plain": [
       "Output(layout=Layout(border_bottom='1px solid black', border_left='1px solid black', border_right='1px solid b…"
      ]
     },
     "metadata": {},
     "output_type": "display_data"
    },
    {
     "data": {
      "application/vnd.jupyter.widget-view+json": {
       "model_id": "afa672f5862f44bbbbac87e32fa25213",
       "version_major": 2,
       "version_minor": 0
      },
      "text/plain": [
       "Output(layout=Layout(border_bottom='1px solid black', border_left='1px solid black', border_right='1px solid b…"
      ]
     },
     "metadata": {},
     "output_type": "display_data"
    },
    {
     "data": {
      "application/vnd.jupyter.widget-view+json": {
       "model_id": "5ceb5d51b1d649f6bac14b784155a629",
       "version_major": 2,
       "version_minor": 0
      },
      "text/plain": [
       "Output(layout=Layout(border_bottom='1px solid black', border_left='1px solid black', border_right='1px solid b…"
      ]
     },
     "metadata": {},
     "output_type": "display_data"
    },
    {
     "ename": "ValueError",
     "evalue": "min() arg is an empty sequence",
=======
     "ename": "ValueError",
     "evalue": "All views must have the same number of samples",
>>>>>>> refactor_compute
     "output_type": "error",
     "traceback": [
      "\u001b[0;31m---------------------------------------------------------------------------\u001b[0m",
      "\u001b[0;31mValueError\u001b[0m                                Traceback (most recent call last)",
      "File \u001b[0;32m~/Documents/antakia/lib/python3.10/site-packages/ipyvue/VueWidget.py:131\u001b[0m, in \u001b[0;36mEvents._handle_event\u001b[0;34m(self, _, content, buffers)\u001b[0m\n\u001b[1;32m    129\u001b[0m event \u001b[39m=\u001b[39m content\u001b[39m.\u001b[39mget(\u001b[39m\"\u001b[39m\u001b[39mevent\u001b[39m\u001b[39m\"\u001b[39m, \u001b[39m\"\u001b[39m\u001b[39m\"\u001b[39m)\n\u001b[1;32m    130\u001b[0m data \u001b[39m=\u001b[39m content\u001b[39m.\u001b[39mget(\u001b[39m\"\u001b[39m\u001b[39mdata\u001b[39m\u001b[39m\"\u001b[39m, {})\n\u001b[0;32m--> 131\u001b[0m \u001b[39mself\u001b[39;49m\u001b[39m.\u001b[39;49m_fire_event(event, data)\n",
      "File \u001b[0;32m~/Documents/antakia/lib/python3.10/site-packages/ipyvue/VueWidget.py:126\u001b[0m, in \u001b[0;36mEvents._fire_event\u001b[0;34m(self, event, data)\u001b[0m\n\u001b[1;32m    124\u001b[0m \u001b[39m# we don't call via the dispatcher, since that eats exceptions\u001b[39;00m\n\u001b[1;32m    125\u001b[0m \u001b[39mfor\u001b[39;00m callback \u001b[39min\u001b[39;00m dispatcher\u001b[39m.\u001b[39mcallbacks:\n\u001b[0;32m--> 126\u001b[0m     callback(\u001b[39mself\u001b[39;49m, event, data \u001b[39mor\u001b[39;49;00m {})\n",
<<<<<<< HEAD
      "File \u001b[0;32m~/Documents/antakia/antakia/gui/gui.py:477\u001b[0m, in \u001b[0;36mGUI.show_app.<locals>.auto_cluster_clicked\u001b[0;34m(widget, event, data)\u001b[0m\n\u001b[1;32m    475\u001b[0m indexes_list \u001b[39m=\u001b[39m Rule\u001b[39m.\u001b[39mrules_to_indexes(rule_list, \u001b[39mself\u001b[39m\u001b[39m.\u001b[39mX)\n\u001b[1;32m    476\u001b[0m logger\u001b[39m.\u001b[39mdebug(\u001b[39mf\u001b[39m\u001b[39m\"\u001b[39m\u001b[39mrules -> \u001b[39m\u001b[39m{\u001b[39;00m\u001b[39mlen\u001b[39m(indexes_list)\u001b[39m}\u001b[39;00m\u001b[39m indices\u001b[39m\u001b[39m\"\u001b[39m)\n\u001b[0;32m--> 477\u001b[0m logger\u001b[39m.\u001b[39mdebug(\u001b[39mf\u001b[39m\u001b[39m\"\u001b[39m\u001b[39mwith min= \u001b[39m\u001b[39m{\u001b[39;00m\u001b[39mmin\u001b[39;49m(indexes_list)\u001b[39m}\u001b[39;00m\u001b[39m and max= \u001b[39m\u001b[39m{\u001b[39;00m\u001b[39mmax\u001b[39m(indexes_list)\u001b[39m}\u001b[39;00m\u001b[39m indices\u001b[39m\u001b[39m\"\u001b[39m)\n\u001b[1;32m    478\u001b[0m logger\u001b[39m.\u001b[39mdebug(\u001b[39mf\u001b[39m\u001b[39m\"\u001b[39m\u001b[39mX_exp : is \u001b[39m\u001b[39m{\u001b[39;00m\u001b[39mlen\u001b[39m(\u001b[39mself\u001b[39m\u001b[39m.\u001b[39mes_hde\u001b[39m.\u001b[39mget_current_X())\u001b[39m}\u001b[39;00m\u001b[39m long\u001b[39m\u001b[39m\"\u001b[39m)\n\u001b[1;32m    479\u001b[0m logger\u001b[39m.\u001b[39mdebug(\u001b[39mf\u001b[39m\u001b[39m\"\u001b[39m\u001b[39mwith min=\u001b[39m\u001b[39m{\u001b[39;00m\u001b[39mmin\u001b[39m(\u001b[39mself\u001b[39m\u001b[39m.\u001b[39mes_hde\u001b[39m.\u001b[39mget_current_X()\u001b[39m.\u001b[39mindex)\u001b[39m}\u001b[39;00m\u001b[39m and max=\u001b[39m\u001b[39m{\u001b[39;00m\u001b[39mmax\u001b[39m(\u001b[39mself\u001b[39m\u001b[39m.\u001b[39mes_hde\u001b[39m.\u001b[39mget_current_X()\u001b[39m.\u001b[39mindex)\u001b[39m}\u001b[39;00m\u001b[39m indices\u001b[39m\u001b[39m\"\u001b[39m)\n",
      "\u001b[0;31mValueError\u001b[0m: min() arg is an empty sequence"
=======
      "File \u001b[0;32m~/Documents/antakia/antakia/gui/gui.py:451\u001b[0m, in \u001b[0;36mGUI.show_app.<locals>.auto_cluster_clicked\u001b[0;34m(widget, event, data)\u001b[0m\n\u001b[1;32m    448\u001b[0m rule_list \u001b[39m=\u001b[39m Rule\u001b[39m.\u001b[39mregions_to_rules(\u001b[39mself\u001b[39m\u001b[39m.\u001b[39mregion_list)\n\u001b[1;32m    450\u001b[0m \u001b[39m# We call the auto_cluster with remaing X and explained(X) :\u001b[39;00m\n\u001b[0;32m--> 451\u001b[0m found_regions \u001b[39m=\u001b[39m auto_cluster(\n\u001b[1;32m    452\u001b[0m     Rule\u001b[39m.\u001b[39;49mresulting_df(\u001b[39mself\u001b[39;49m\u001b[39m.\u001b[39;49mX, rule_list),\n\u001b[1;32m    453\u001b[0m     Rule\u001b[39m.\u001b[39;49mresulting_df(\u001b[39mself\u001b[39;49m\u001b[39m.\u001b[39;49mes_hde\u001b[39m.\u001b[39;49mget_current_X(), rule_list),\n\u001b[1;32m    454\u001b[0m     \u001b[39m6\u001b[39;49m,\n\u001b[1;32m    455\u001b[0m     \u001b[39mTrue\u001b[39;49;00m\n\u001b[1;32m    456\u001b[0m     )\n\u001b[1;32m    457\u001b[0m logger\u001b[39m.\u001b[39mdebug(\u001b[39mf\u001b[39m\u001b[39m\"\u001b[39m\u001b[39mauto_cluster: \u001b[39m\u001b[39m{\u001b[39;00m\u001b[39mlen\u001b[39m(found_regions)\u001b[39m}\u001b[39;00m\u001b[39m regions found\u001b[39m\u001b[39m\"\u001b[39m)\n\u001b[1;32m    458\u001b[0m \u001b[39mfor\u001b[39;00m reg \u001b[39min\u001b[39;00m found_regions:\n",
      "File \u001b[0;32m~/Documents/antakia/antakia/compute/auto_cluster.py:77\u001b[0m, in \u001b[0;36mauto_cluster\u001b[0;34m(X, shap_values, n_clusters, default)\u001b[0m\n\u001b[1;32m     75\u001b[0m warnings\u001b[39m.\u001b[39msimplefilter(\u001b[39m\"\u001b[39m\u001b[39mignore\u001b[39m\u001b[39m\"\u001b[39m)\n\u001b[1;32m     76\u001b[0m m_kmeans \u001b[39m=\u001b[39m mvlearn\u001b[39m.\u001b[39mcluster\u001b[39m.\u001b[39mMultiviewKMeans(n_clusters\u001b[39m=\u001b[39mn_clusters, random_state\u001b[39m=\u001b[39m\u001b[39m9\u001b[39m)\n\u001b[0;32m---> 77\u001b[0m a_list \u001b[39m=\u001b[39m m_kmeans\u001b[39m.\u001b[39;49mfit_predict([X, shap_values])\n\u001b[1;32m     78\u001b[0m clusters_number \u001b[39m=\u001b[39m \u001b[39m0\u001b[39m\n\u001b[1;32m     79\u001b[0m \u001b[39mif\u001b[39;00m default \u001b[39mis\u001b[39;00m \u001b[39mTrue\u001b[39;00m:\n",
      "File \u001b[0;32m~/Documents/antakia/lib/python3.10/site-packages/mvlearn/cluster/base.py:81\u001b[0m, in \u001b[0;36mBaseCluster.fit_predict\u001b[0;34m(self, Xs, y)\u001b[0m\n\u001b[1;32m     61\u001b[0m \u001b[39mdef\u001b[39;00m \u001b[39mfit_predict\u001b[39m(\u001b[39mself\u001b[39m, Xs, y\u001b[39m=\u001b[39m\u001b[39mNone\u001b[39;00m):\n\u001b[1;32m     62\u001b[0m \u001b[39m    \u001b[39m\u001b[39m'''\u001b[39;00m\n\u001b[1;32m     63\u001b[0m \u001b[39m    A method for fitting then predicting cluster assignments.\u001b[39;00m\n\u001b[1;32m     64\u001b[0m \n\u001b[0;32m   (...)\u001b[0m\n\u001b[1;32m     78\u001b[0m \u001b[39m        The predicted cluster labels for each sample.\u001b[39;00m\n\u001b[1;32m     79\u001b[0m \u001b[39m    '''\u001b[39;00m\n\u001b[0;32m---> 81\u001b[0m     \u001b[39mself\u001b[39;49m\u001b[39m.\u001b[39;49mfit(Xs)\n\u001b[1;32m     82\u001b[0m     labels \u001b[39m=\u001b[39m \u001b[39mself\u001b[39m\u001b[39m.\u001b[39mlabels_\n\u001b[1;32m     83\u001b[0m     \u001b[39mreturn\u001b[39;00m labels\n",
      "File \u001b[0;32m~/Documents/antakia/lib/python3.10/site-packages/mvlearn/cluster/mv_kmeans.py:508\u001b[0m, in \u001b[0;36mMultiviewKMeans.fit\u001b[0;34m(self, Xs, y)\u001b[0m\n\u001b[1;32m    485\u001b[0m \u001b[39mdef\u001b[39;00m \u001b[39mfit\u001b[39m(\u001b[39mself\u001b[39m, Xs, y\u001b[39m=\u001b[39m\u001b[39mNone\u001b[39;00m):\n\u001b[1;32m    487\u001b[0m \u001b[39m    \u001b[39m\u001b[39mr\u001b[39m\u001b[39m'''\u001b[39;00m\n\u001b[1;32m    488\u001b[0m \u001b[39m    Fit the cluster centroids to the data.\u001b[39;00m\n\u001b[1;32m    489\u001b[0m \n\u001b[0;32m   (...)\u001b[0m\n\u001b[1;32m    505\u001b[0m \u001b[39m    self : returns an instance of self.\u001b[39;00m\n\u001b[1;32m    506\u001b[0m \u001b[39m    '''\u001b[39;00m\n\u001b[0;32m--> 508\u001b[0m     Xs \u001b[39m=\u001b[39m \u001b[39mself\u001b[39;49m\u001b[39m.\u001b[39;49m_preprocess_data(Xs)\n\u001b[1;32m    510\u001b[0m     \u001b[39m# Type checking and exception handling for random_state parameter\u001b[39;00m\n\u001b[1;32m    511\u001b[0m     \u001b[39mif\u001b[39;00m \u001b[39mself\u001b[39m\u001b[39m.\u001b[39mrandom_state \u001b[39mis\u001b[39;00m \u001b[39mnot\u001b[39;00m \u001b[39mNone\u001b[39;00m:\n",
      "File \u001b[0;32m~/Documents/antakia/lib/python3.10/site-packages/mvlearn/cluster/mv_kmeans.py:416\u001b[0m, in \u001b[0;36mMultiviewKMeans._preprocess_data\u001b[0;34m(self, Xs)\u001b[0m\n\u001b[1;32m    393\u001b[0m \u001b[39m\u001b[39m\u001b[39mr\u001b[39m\u001b[39m'''\u001b[39;00m\n\u001b[1;32m    394\u001b[0m \u001b[39mChecks that the inputted data is in the correct format.\u001b[39;00m\n\u001b[1;32m    395\u001b[0m \n\u001b[0;32m   (...)\u001b[0m\n\u001b[1;32m    412\u001b[0m \u001b[39m    The data samples after they have been checked.\u001b[39;00m\n\u001b[1;32m    413\u001b[0m \u001b[39m'''\u001b[39;00m\n\u001b[1;32m    415\u001b[0m \u001b[39m# Check that the input data is valid\u001b[39;00m\n\u001b[0;32m--> 416\u001b[0m Xs_new \u001b[39m=\u001b[39m check_Xs(Xs, enforce_views\u001b[39m=\u001b[39;49m\u001b[39m2\u001b[39;49m)\n\u001b[1;32m    417\u001b[0m \u001b[39mreturn\u001b[39;00m Xs_new\n",
      "File \u001b[0;32m~/Documents/antakia/lib/python3.10/site-packages/mvlearn/utils/utils.py:89\u001b[0m, in \u001b[0;36mcheck_Xs\u001b[0;34m(Xs, multiview, enforce_views, copy, return_dimensions)\u001b[0m\n\u001b[1;32m     87\u001b[0m \u001b[39mif\u001b[39;00m \u001b[39mnot\u001b[39;00m \u001b[39mlen\u001b[39m(\u001b[39mset\u001b[39m([X\u001b[39m.\u001b[39mshape[\u001b[39m0\u001b[39m] \u001b[39mfor\u001b[39;00m X \u001b[39min\u001b[39;00m Xs])) \u001b[39m==\u001b[39m \u001b[39m1\u001b[39m:\n\u001b[1;32m     88\u001b[0m     msg \u001b[39m=\u001b[39m \u001b[39m\"\u001b[39m\u001b[39mAll views must have the same number of samples\u001b[39m\u001b[39m\"\u001b[39m\n\u001b[0;32m---> 89\u001b[0m     \u001b[39mraise\u001b[39;00m \u001b[39mValueError\u001b[39;00m(msg)\n\u001b[1;32m     91\u001b[0m \u001b[39mif\u001b[39;00m return_dimensions:\n\u001b[1;32m     92\u001b[0m     n_samples \u001b[39m=\u001b[39m Xs[\u001b[39m0\u001b[39m]\u001b[39m.\u001b[39mshape[\u001b[39m0\u001b[39m]\n",
      "\u001b[0;31mValueError\u001b[0m: All views must have the same number of samples"
>>>>>>> refactor_compute
     ]
    }
   ],
   "source": [
    "from antakia.data import ExplanationMethod\n",
    "\n",
    "from antakia.antakia import AntakIA\n",
    "\n",
    "variables_df = pd.DataFrame(\n",
    "    {'col_index': [0, 1, 2, 3, 4, 5, 6, 7],\n",
    "    'descr': ['Median income', 'House age', 'Average nb rooms', 'Average nb bedrooms', 'Population', 'Average occupancy', 'Latitude', 'Longitude'],\n",
    "    'type': ['float64', 'int', 'float64', 'float64', 'int', 'float64', 'float64', 'float64'],\n",
    "    'unit': ['k$', 'years', 'rooms', 'rooms', 'people', 'ratio', 'degrees', 'degrees'],\n",
    "    'critical': [True, False, False, False, False, False, False, False],\n",
    "    'lat': [False, False, False, False, False, False, True, False],\n",
    "    'lon': [False, False, False, False, False, False, False, True]},\n",
    "    index=['MedInc', 'HouseAge', 'AveRooms', 'AveBedrms', 'Population', 'AveOccup', 'Latitude', 'Longitude']\n",
    ")\n",
    "# We call AntakIA with already computed SHAP values and a description of X variables :\n",
    "atk = AntakIA(X, y, model, variables_df, shapValues)\n",
    "\n",
    "# Here we provide the bare minimum to AntakIA : \n",
    "# atk = AntakIA([X], y, model, [ExplanationMethod.NONE])"
   ]
  },
  {
   "cell_type": "code",
   "execution_count": 6,
   "metadata": {
    "is_executing": true
   },
   "outputs": [
    {
     "data": {
      "application/vnd.jupyter.widget-view+json": {
<<<<<<< HEAD
       "model_id": "a7c6d17e6852429a96a61fee6230f076",
=======
       "model_id": "88fa677e97694e8ba5e42c694539fb1f",
>>>>>>> refactor_compute
       "version_major": 2,
       "version_minor": 0
      },
      "text/plain": [
       "Layout(children=[Image(value=b'\\x89PNG\\r\\n\\x1a\\n\\x00\\x00\\x00\\rIHDR\\x00\\x00\\t2\\x00\\x00\\n\\xd5\\x08\\x06\\x00\\x00\\x0…"
      ]
     },
     "metadata": {},
     "output_type": "display_data"
    },
    {
     "data": {
      "application/vnd.jupyter.widget-view+json": {
<<<<<<< HEAD
       "model_id": "929068c7b41042e4babbf34a1d1dfc9f",
=======
       "model_id": "4ea22917dea74fc08c65116aa2b46592",
>>>>>>> refactor_compute
       "version_major": 2,
       "version_minor": 0
      },
      "text/plain": [
       "Col(children=[AppBar(children=[Layout(children=[Image(value=b'\\x89PNG\\r\\n\\x1a\\n\\x00\\x00\\x00\\rIHDR\\x00\\x00\\x0e\\…"
      ]
     },
     "metadata": {},
     "output_type": "display_data"
    }
   ],
   "source": [
    "atk.start_gui()"
   ]
  }
 ],
 "metadata": {
  "kernelspec": {
   "display_name": "antakia",
   "language": "python",
   "name": "python3"
  },
  "language_info": {
   "codemirror_mode": {
    "name": "ipython",
    "version": 3
   },
   "file_extension": ".py",
   "mimetype": "text/x-python",
   "name": "python",
   "nbconvert_exporter": "python",
   "pygments_lexer": "ipython3",
   "version": "3.10.13"
  }
 },
 "nbformat": 4,
 "nbformat_minor": 4
}
