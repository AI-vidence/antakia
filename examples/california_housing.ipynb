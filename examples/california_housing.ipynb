{
 "cells": [
  {
   "cell_type": "code",
   "execution_count": 1,
   "metadata": {
    "tags": []
   },
   "outputs": [],
   "source": [
    "import pandas as pd\n",
    "\n",
    "import numpy as np\n",
    "\n",
    "import warnings\n",
    "\n",
    "import sklearn.preprocessing\n",
    "import sklearn.linear_model\n",
    "\n",
    "from numba.core.errors import NumbaDeprecationWarning\n",
    "warnings.simplefilter(action='ignore', category=FutureWarning)\n",
    "warnings.simplefilter(action='ignore', category=UserWarning)\n",
    "warnings.simplefilter(action='ignore', category=NumbaDeprecationWarning)"
   ]
  },
  {
   "cell_type": "code",
   "execution_count": 2,
   "metadata": {
    "tags": []
   },
   "outputs": [],
   "source": [
    "df = pd.read_csv('../data/california_housing/california_housing.csv')\n",
    "df = df.drop(['Unnamed: 0'], axis=1)\n",
    "df2 = pd.read_csv('../data/california_housing/california_housing.csv')\n",
    "#nombre de maisons à prendre en compte (20k c'est beaucoup trop)\n",
    "# quelques condition pour nettoyer la base de données\n",
    "df = df.loc[df['Population']<10000]\n",
    "df = df.loc[df['AveOccup']<6]\n",
    "df = df.loc[df['AveBedrms']<1.5]\n",
    "df = df.loc[df['HouseAge']<50]\n",
    "\n",
    "# Seulement San Francisco :\n",
    "# Latitude > 37,2\n",
    "# Latitude < 38,07\n",
    "# Longitude > -122,5\n",
    "# Longitude < -121,75\n",
    "\n",
    "df = df.loc[(df['Latitude']<38.07)&(df['Latitude']>37.2)]\n",
    "df = df.loc[(df['Longitude']>-122.5)&(df['Longitude']<-121.75)]\n",
    "\n",
    "save_df = df.copy()\n",
    "\n",
    "N=1000\n",
    "n = N/len(df)\n",
    "X_all = df.iloc[:,0:8].copy()\n",
    "df1 = df.sample(frac=n, random_state=14)\n",
    "df1 = df1.reset_index(drop=True)\n",
    "save_df1 = df1.copy()\n",
    "\n",
    "X = df1.iloc[:,0:8]\n",
    "Y = df1.iloc[:,9]"
   ]
  },
  {
   "cell_type": "code",
   "execution_count": 3,
   "metadata": {
    "tags": []
   },
   "outputs": [],
   "source": [
    "from sklearn.ensemble import GradientBoostingRegressor\n",
    "model = GradientBoostingRegressor(random_state = 9)\n",
    "model.fit(X, Y)\n",
    "\n",
    "SHAP = df1.iloc[:,[10,11,12,13,14,15,16,17]]"
   ]
  },
  {
   "cell_type": "markdown",
   "metadata": {},
   "source": [
    "**Démarrage d'AntakIA**"
   ]
  },
  {
   "cell_type": "code",
   "execution_count": 4,
   "metadata": {
    "slideshow": {
     "slide_type": ""
    },
    "tags": []
   },
   "outputs": [
    {
     "data": {
      "application/vnd.jupyter.widget-view+json": {
       "model_id": "feab7f15c14f4053a72591d3d0ac628c",
       "version_major": 2,
       "version_minor": 0
      },
      "text/plain": [
       "Layout(children=[Image(value=b'\\x89PNG\\r\\n\\x1a\\n\\x00\\x00\\x00\\rIHDR\\x00\\x00\\t2\\x00\\x00\\n\\xd5\\x08\\x06\\x00\\x00\\x0…"
      ]
     },
     "metadata": {},
     "output_type": "display_data"
    },
    {
     "data": {
      "application/vnd.jupyter.widget-view+json": {
       "model_id": "7055aaedfffc4956a57cb173ba87d467",
       "version_major": 2,
       "version_minor": 0
      },
      "text/plain": [
       "VBox(children=(AppBar(children=[Layout(children=[Image(value=b'\\x89PNG\\r\\n\\x1a\\n\\x00\\x00\\x00\\rIHDR\\x00\\x00\\x0e…"
      ]
     },
     "metadata": {},
     "output_type": "display_data"
    }
   ],
   "source": [
    "import antakia\n",
    "\n",
    "a = antakia.Xplainer(X = X, Y = Y, model = model)\n",
    "a.startGui(explanation = SHAP)"
   ]
  },
  {
   "cell_type": "code",
   "execution_count": 5,
   "metadata": {
    "tags": []
   },
   "outputs": [
    {
     "data": {
      "text/html": [
       "<div>\n",
       "<style scoped>\n",
       "    .dataframe tbody tr th:only-of-type {\n",
       "        vertical-align: middle;\n",
       "    }\n",
       "\n",
       "    .dataframe tbody tr th {\n",
       "        vertical-align: top;\n",
       "    }\n",
       "\n",
       "    .dataframe thead th {\n",
       "        text-align: right;\n",
       "    }\n",
       "</style>\n",
       "<table border=\"1\" class=\"dataframe\">\n",
       "  <thead>\n",
       "    <tr style=\"text-align: right;\">\n",
       "      <th></th>\n",
       "      <th>MedInc_shap</th>\n",
       "      <th>HouseAge_shap</th>\n",
       "      <th>AveRooms_shap</th>\n",
       "      <th>AveBedrms_shap</th>\n",
       "      <th>Population_shap</th>\n",
       "      <th>AveOccup_shap</th>\n",
       "      <th>Latitude_shap</th>\n",
       "      <th>Longitude_shap</th>\n",
       "    </tr>\n",
       "  </thead>\n",
       "  <tbody>\n",
       "    <tr>\n",
       "      <th>0</th>\n",
       "      <td>1.629322</td>\n",
       "      <td>0.000777</td>\n",
       "      <td>0.314776</td>\n",
       "      <td>0.000706</td>\n",
       "      <td>-0.103633</td>\n",
       "      <td>0.004326</td>\n",
       "      <td>0.377972</td>\n",
       "      <td>-0.299224</td>\n",
       "    </tr>\n",
       "    <tr>\n",
       "      <th>1</th>\n",
       "      <td>-0.686864</td>\n",
       "      <td>0.002514</td>\n",
       "      <td>-0.108387</td>\n",
       "      <td>0.001595</td>\n",
       "      <td>0.008423</td>\n",
       "      <td>-0.292716</td>\n",
       "      <td>0.344997</td>\n",
       "      <td>0.082963</td>\n",
       "    </tr>\n",
       "    <tr>\n",
       "      <th>2</th>\n",
       "      <td>1.425730</td>\n",
       "      <td>-0.028969</td>\n",
       "      <td>0.295954</td>\n",
       "      <td>0.000706</td>\n",
       "      <td>-0.004417</td>\n",
       "      <td>-0.130128</td>\n",
       "      <td>-0.348070</td>\n",
       "      <td>-0.074528</td>\n",
       "    </tr>\n",
       "    <tr>\n",
       "      <th>3</th>\n",
       "      <td>-0.574501</td>\n",
       "      <td>0.017401</td>\n",
       "      <td>-0.093714</td>\n",
       "      <td>0.001557</td>\n",
       "      <td>-0.016133</td>\n",
       "      <td>0.317215</td>\n",
       "      <td>-0.329236</td>\n",
       "      <td>-0.013322</td>\n",
       "    </tr>\n",
       "    <tr>\n",
       "      <th>4</th>\n",
       "      <td>-0.049125</td>\n",
       "      <td>-0.040106</td>\n",
       "      <td>-0.001925</td>\n",
       "      <td>0.005936</td>\n",
       "      <td>0.014425</td>\n",
       "      <td>-0.250771</td>\n",
       "      <td>-0.168827</td>\n",
       "      <td>-0.269591</td>\n",
       "    </tr>\n",
       "    <tr>\n",
       "      <th>...</th>\n",
       "      <td>...</td>\n",
       "      <td>...</td>\n",
       "      <td>...</td>\n",
       "      <td>...</td>\n",
       "      <td>...</td>\n",
       "      <td>...</td>\n",
       "      <td>...</td>\n",
       "      <td>...</td>\n",
       "    </tr>\n",
       "    <tr>\n",
       "      <th>995</th>\n",
       "      <td>-0.365739</td>\n",
       "      <td>0.013051</td>\n",
       "      <td>-0.094391</td>\n",
       "      <td>0.001459</td>\n",
       "      <td>-0.009909</td>\n",
       "      <td>-0.029301</td>\n",
       "      <td>-0.297447</td>\n",
       "      <td>-0.013081</td>\n",
       "    </tr>\n",
       "    <tr>\n",
       "      <th>996</th>\n",
       "      <td>1.601637</td>\n",
       "      <td>0.023930</td>\n",
       "      <td>0.260995</td>\n",
       "      <td>0.012793</td>\n",
       "      <td>0.000819</td>\n",
       "      <td>-0.098140</td>\n",
       "      <td>0.266858</td>\n",
       "      <td>0.373125</td>\n",
       "    </tr>\n",
       "    <tr>\n",
       "      <th>997</th>\n",
       "      <td>0.012159</td>\n",
       "      <td>0.011334</td>\n",
       "      <td>-0.072574</td>\n",
       "      <td>0.001875</td>\n",
       "      <td>0.030420</td>\n",
       "      <td>0.041855</td>\n",
       "      <td>0.396096</td>\n",
       "      <td>-0.350222</td>\n",
       "    </tr>\n",
       "    <tr>\n",
       "      <th>998</th>\n",
       "      <td>-0.783741</td>\n",
       "      <td>0.019071</td>\n",
       "      <td>-0.073391</td>\n",
       "      <td>-0.123361</td>\n",
       "      <td>-0.101369</td>\n",
       "      <td>0.379037</td>\n",
       "      <td>-0.401920</td>\n",
       "      <td>0.040498</td>\n",
       "    </tr>\n",
       "    <tr>\n",
       "      <th>999</th>\n",
       "      <td>-0.674952</td>\n",
       "      <td>0.003025</td>\n",
       "      <td>-0.117531</td>\n",
       "      <td>0.001459</td>\n",
       "      <td>0.051046</td>\n",
       "      <td>0.108258</td>\n",
       "      <td>0.361849</td>\n",
       "      <td>-0.330115</td>\n",
       "    </tr>\n",
       "  </tbody>\n",
       "</table>\n",
       "<p>1000 rows × 8 columns</p>\n",
       "</div>"
      ],
      "text/plain": [
       "     MedInc_shap  HouseAge_shap  AveRooms_shap  AveBedrms_shap  \\\n",
       "0       1.629322       0.000777       0.314776        0.000706   \n",
       "1      -0.686864       0.002514      -0.108387        0.001595   \n",
       "2       1.425730      -0.028969       0.295954        0.000706   \n",
       "3      -0.574501       0.017401      -0.093714        0.001557   \n",
       "4      -0.049125      -0.040106      -0.001925        0.005936   \n",
       "..           ...            ...            ...             ...   \n",
       "995    -0.365739       0.013051      -0.094391        0.001459   \n",
       "996     1.601637       0.023930       0.260995        0.012793   \n",
       "997     0.012159       0.011334      -0.072574        0.001875   \n",
       "998    -0.783741       0.019071      -0.073391       -0.123361   \n",
       "999    -0.674952       0.003025      -0.117531        0.001459   \n",
       "\n",
       "     Population_shap  AveOccup_shap  Latitude_shap  Longitude_shap  \n",
       "0          -0.103633       0.004326       0.377972       -0.299224  \n",
       "1           0.008423      -0.292716       0.344997        0.082963  \n",
       "2          -0.004417      -0.130128      -0.348070       -0.074528  \n",
       "3          -0.016133       0.317215      -0.329236       -0.013322  \n",
       "4           0.014425      -0.250771      -0.168827       -0.269591  \n",
       "..               ...            ...            ...             ...  \n",
       "995        -0.009909      -0.029301      -0.297447       -0.013081  \n",
       "996         0.000819      -0.098140       0.266858        0.373125  \n",
       "997         0.030420       0.041855       0.396096       -0.350222  \n",
       "998        -0.101369       0.379037      -0.401920        0.040498  \n",
       "999         0.051046       0.108258       0.361849       -0.330115  \n",
       "\n",
       "[1000 rows x 8 columns]"
      ]
     },
     "execution_count": 5,
     "metadata": {},
     "output_type": "execute_result"
    }
   ],
   "source": [
    "a.SHAP_values"
   ]
  }
 ],
 "metadata": {
  "kernelspec": {
   "display_name": "Python 3 (ipykernel)",
   "language": "python",
   "name": "python3"
  },
  "language_info": {
   "codemirror_mode": {
    "name": "ipython",
    "version": 3
   },
   "file_extension": ".py",
   "mimetype": "text/x-python",
   "name": "python",
   "nbconvert_exporter": "python",
   "pygments_lexer": "ipython3",
   "version": "3.10.12"
  }
 },
 "nbformat": 4,
 "nbformat_minor": 4
}
