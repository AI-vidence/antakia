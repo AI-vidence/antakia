{
 "cells": [
  {
   "cell_type": "code",
   "execution_count": 1,
   "metadata": {
    "ExecuteTime": {
     "end_time": "2023-11-16T09:03:03.657956Z",
     "start_time": "2023-11-16T09:03:00.457855Z"
    },
    "tags": []
   },
   "outputs": [],
   "source": [
    "import pandas as pd\n",
    "df = pd.read_csv('../data/california_housing.csv').drop(['Unnamed: 0'], axis=1)"
   ]
  },
  {
   "cell_type": "code",
   "execution_count": 2,
   "metadata": {
    "is_executing": true
   },
   "outputs": [],
   "source": [
    "# Remove outliers:\n",
    "df = df.loc[df['Population']<10000] \n",
    "df = df.loc[df['AveOccup']<6]\n",
    "df = df.loc[df['AveBedrms']<1.5]\n",
    "df = df.loc[df['HouseAge']<50]\n",
    "\n",
    "# # Only San Francisco :\n",
    "df = df.loc[(df['Latitude']<38.07)&(df['Latitude']>37.2)]\n",
    "df = df.loc[(df['Longitude']>-122.5)&(df['Longitude']<-121.75)]"
   ]
  },
  {
   "cell_type": "code",
   "execution_count": 3,
   "metadata": {
    "is_executing": true
   },
   "outputs": [],
   "source": [
    "X = df.iloc[:,0:8] # the dataset\n",
    "y = df.iloc[:,9] # the target variable\n",
    "shapValues = df.iloc[:,[10,11,12,13,14,15,16,17]] # the SHAP values"
   ]
  },
  {
   "cell_type": "code",
   "execution_count": 4,
   "metadata": {
    "is_executing": true,
    "tags": []
   },
   "outputs": [
    {
     "data": {
      "text/html": [
       "<style>#sk-container-id-1 {color: black;}#sk-container-id-1 pre{padding: 0;}#sk-container-id-1 div.sk-toggleable {background-color: white;}#sk-container-id-1 label.sk-toggleable__label {cursor: pointer;display: block;width: 100%;margin-bottom: 0;padding: 0.3em;box-sizing: border-box;text-align: center;}#sk-container-id-1 label.sk-toggleable__label-arrow:before {content: \"▸\";float: left;margin-right: 0.25em;color: #696969;}#sk-container-id-1 label.sk-toggleable__label-arrow:hover:before {color: black;}#sk-container-id-1 div.sk-estimator:hover label.sk-toggleable__label-arrow:before {color: black;}#sk-container-id-1 div.sk-toggleable__content {max-height: 0;max-width: 0;overflow: hidden;text-align: left;background-color: #f0f8ff;}#sk-container-id-1 div.sk-toggleable__content pre {margin: 0.2em;color: black;border-radius: 0.25em;background-color: #f0f8ff;}#sk-container-id-1 input.sk-toggleable__control:checked~div.sk-toggleable__content {max-height: 200px;max-width: 100%;overflow: auto;}#sk-container-id-1 input.sk-toggleable__control:checked~label.sk-toggleable__label-arrow:before {content: \"▾\";}#sk-container-id-1 div.sk-estimator input.sk-toggleable__control:checked~label.sk-toggleable__label {background-color: #d4ebff;}#sk-container-id-1 div.sk-label input.sk-toggleable__control:checked~label.sk-toggleable__label {background-color: #d4ebff;}#sk-container-id-1 input.sk-hidden--visually {border: 0;clip: rect(1px 1px 1px 1px);clip: rect(1px, 1px, 1px, 1px);height: 1px;margin: -1px;overflow: hidden;padding: 0;position: absolute;width: 1px;}#sk-container-id-1 div.sk-estimator {font-family: monospace;background-color: #f0f8ff;border: 1px dotted black;border-radius: 0.25em;box-sizing: border-box;margin-bottom: 0.5em;}#sk-container-id-1 div.sk-estimator:hover {background-color: #d4ebff;}#sk-container-id-1 div.sk-parallel-item::after {content: \"\";width: 100%;border-bottom: 1px solid gray;flex-grow: 1;}#sk-container-id-1 div.sk-label:hover label.sk-toggleable__label {background-color: #d4ebff;}#sk-container-id-1 div.sk-serial::before {content: \"\";position: absolute;border-left: 1px solid gray;box-sizing: border-box;top: 0;bottom: 0;left: 50%;z-index: 0;}#sk-container-id-1 div.sk-serial {display: flex;flex-direction: column;align-items: center;background-color: white;padding-right: 0.2em;padding-left: 0.2em;position: relative;}#sk-container-id-1 div.sk-item {position: relative;z-index: 1;}#sk-container-id-1 div.sk-parallel {display: flex;align-items: stretch;justify-content: center;background-color: white;position: relative;}#sk-container-id-1 div.sk-item::before, #sk-container-id-1 div.sk-parallel-item::before {content: \"\";position: absolute;border-left: 1px solid gray;box-sizing: border-box;top: 0;bottom: 0;left: 50%;z-index: -1;}#sk-container-id-1 div.sk-parallel-item {display: flex;flex-direction: column;z-index: 1;position: relative;background-color: white;}#sk-container-id-1 div.sk-parallel-item:first-child::after {align-self: flex-end;width: 50%;}#sk-container-id-1 div.sk-parallel-item:last-child::after {align-self: flex-start;width: 50%;}#sk-container-id-1 div.sk-parallel-item:only-child::after {width: 0;}#sk-container-id-1 div.sk-dashed-wrapped {border: 1px dashed gray;margin: 0 0.4em 0.5em 0.4em;box-sizing: border-box;padding-bottom: 0.4em;background-color: white;}#sk-container-id-1 div.sk-label label {font-family: monospace;font-weight: bold;display: inline-block;line-height: 1.2em;}#sk-container-id-1 div.sk-label-container {text-align: center;}#sk-container-id-1 div.sk-container {/* jupyter's `normalize.less` sets `[hidden] { display: none; }` but bootstrap.min.css set `[hidden] { display: none !important; }` so we also need the `!important` here to be able to override the default hidden behavior on the sphinx rendered scikit-learn.org. See: https://github.com/scikit-learn/scikit-learn/issues/21755 */display: inline-block !important;position: relative;}#sk-container-id-1 div.sk-text-repr-fallback {display: none;}</style><div id=\"sk-container-id-1\" class=\"sk-top-container\"><div class=\"sk-text-repr-fallback\"><pre>GradientBoostingRegressor(random_state=9)</pre><b>In a Jupyter environment, please rerun this cell to show the HTML representation or trust the notebook. <br />On GitHub, the HTML representation is unable to render, please try loading this page with nbviewer.org.</b></div><div class=\"sk-container\" hidden><div class=\"sk-item\"><div class=\"sk-estimator sk-toggleable\"><input class=\"sk-toggleable__control sk-hidden--visually\" id=\"sk-estimator-id-1\" type=\"checkbox\" checked><label for=\"sk-estimator-id-1\" class=\"sk-toggleable__label sk-toggleable__label-arrow\">GradientBoostingRegressor</label><div class=\"sk-toggleable__content\"><pre>GradientBoostingRegressor(random_state=9)</pre></div></div></div></div></div>"
      ],
      "text/plain": [
       "GradientBoostingRegressor(random_state=9)"
      ]
     },
     "execution_count": 4,
     "metadata": {},
     "output_type": "execute_result"
    }
   ],
   "source": [
    "from sklearn.ensemble import GradientBoostingRegressor\n",
    "model = GradientBoostingRegressor(random_state = 9)\n",
    "model.fit(X, y)"
   ]
  },
  {
   "cell_type": "code",
   "execution_count": 5,
   "metadata": {
    "is_executing": true
   },
   "outputs": [
    {
     "data": {
      "application/vnd.jupyter.widget-view+json": {
       "model_id": "63259280c23744f1a6edbb5eb997ee3a",
       "version_major": 2,
       "version_minor": 0
      },
      "text/plain": [
       "Output(layout=Layout(border_bottom='1px solid black', border_left='1px solid black', border_right='1px solid b…"
      ]
     },
     "metadata": {},
     "output_type": "display_data"
    },
    {
     "data": {
      "application/vnd.jupyter.widget-view+json": {
       "model_id": "43837c5a281a4f568397e6c42600fe00",
       "version_major": 2,
       "version_minor": 0
      },
      "text/plain": [
       "Output(layout=Layout(border_bottom='1px solid black', border_left='1px solid black', border_right='1px solid b…"
      ]
     },
     "metadata": {},
     "output_type": "display_data"
    },
    {
     "data": {
      "application/vnd.jupyter.widget-view+json": {
       "model_id": "5d0e679bd09043618f8e93716f409a00",
       "version_major": 2,
       "version_minor": 0
      },
      "text/plain": [
       "Output(layout=Layout(border_bottom='1px solid black', border_left='1px solid black', border_right='1px solid b…"
      ]
     },
     "metadata": {},
     "output_type": "display_data"
    },
    {
     "data": {
      "application/vnd.jupyter.widget-view+json": {
       "model_id": "e6900f0a25ad43cfa1be0185a287a15c",
       "version_major": 2,
       "version_minor": 0
      },
      "text/plain": [
       "Output(layout=Layout(border_bottom='1px solid black', border_left='1px solid black', border_right='1px solid b…"
      ]
     },
     "metadata": {},
     "output_type": "display_data"
    },
    {
     "data": {
      "application/vnd.jupyter.widget-view+json": {
       "model_id": "ad4ef29b46774d2c965174aa21bb7d6c",
       "version_major": 2,
       "version_minor": 0
      },
      "text/plain": [
       "Output(layout=Layout(border_bottom='1px solid black', border_left='1px solid black', border_right='1px solid b…"
      ]
     },
     "metadata": {},
     "output_type": "display_data"
    },
    {
     "data": {
      "application/vnd.jupyter.widget-view+json": {
       "model_id": "086e41a28a924a82b3c09a1102326527",
       "version_major": 2,
       "version_minor": 0
      },
      "text/plain": [
       "Output(layout=Layout(border_bottom='1px solid black', border_left='1px solid black', border_right='1px solid b…"
      ]
     },
     "metadata": {},
     "output_type": "display_data"
    },
    {
     "ename": "NameError",
     "evalue": "name 'Scatter' is not defined",
     "output_type": "error",
     "traceback": [
      "\u001b[0;31m---------------------------------------------------------------------------\u001b[0m",
      "\u001b[0;31mNameError\u001b[0m                                 Traceback (most recent call last)",
      "File \u001b[0;32m~/Documents/antakia/lib/python3.10/site-packages/ipyvue/VueWidget.py:131\u001b[0m, in \u001b[0;36mEvents._handle_event\u001b[0;34m(self, _, content, buffers)\u001b[0m\n\u001b[1;32m    129\u001b[0m event \u001b[39m=\u001b[39m content\u001b[39m.\u001b[39mget(\u001b[39m\"\u001b[39m\u001b[39mevent\u001b[39m\u001b[39m\"\u001b[39m, \u001b[39m\"\u001b[39m\u001b[39m\"\u001b[39m)\n\u001b[1;32m    130\u001b[0m data \u001b[39m=\u001b[39m content\u001b[39m.\u001b[39mget(\u001b[39m\"\u001b[39m\u001b[39mdata\u001b[39m\u001b[39m\"\u001b[39m, {})\n\u001b[0;32m--> 131\u001b[0m \u001b[39mself\u001b[39;49m\u001b[39m.\u001b[39;49m_fire_event(event, data)\n",
      "File \u001b[0;32m~/Documents/antakia/lib/python3.10/site-packages/ipyvue/VueWidget.py:126\u001b[0m, in \u001b[0;36mEvents._fire_event\u001b[0;34m(self, event, data)\u001b[0m\n\u001b[1;32m    124\u001b[0m \u001b[39m# we don't call via the dispatcher, since that eats exceptions\u001b[39;00m\n\u001b[1;32m    125\u001b[0m \u001b[39mfor\u001b[39;00m callback \u001b[39min\u001b[39;00m dispatcher\u001b[39m.\u001b[39mcallbacks:\n\u001b[0;32m--> 126\u001b[0m     callback(\u001b[39mself\u001b[39;49m, event, data \u001b[39mor\u001b[39;49;00m {})\n",
      "File \u001b[0;32m~/Documents/antakia/antakia/gui/gui.py:415\u001b[0m, in \u001b[0;36mGUI.show_app.<locals>.compute_skope_rules\u001b[0;34m(widget, event, data)\u001b[0m\n\u001b[1;32m    413\u001b[0m     \u001b[39m# We enable RulesWidet and init it wit the rules\u001b[39;00m\n\u001b[1;32m    414\u001b[0m     rsw\u001b[39m.\u001b[39mdisable(\u001b[39mFalse\u001b[39;00m)\n\u001b[0;32m--> 415\u001b[0m     rsw\u001b[39m.\u001b[39;49minit_rules(skr_rules_list, skr_score_dict, \u001b[39mself\u001b[39;49m\u001b[39m.\u001b[39;49mselection_ids )\n\u001b[1;32m    416\u001b[0m \u001b[39melse\u001b[39;00m:\n\u001b[1;32m    417\u001b[0m     \u001b[39m# No skr found\u001b[39;00m\n\u001b[1;32m    418\u001b[0m     rsw\u001b[39m.\u001b[39mshow_msg(\u001b[39m\"\u001b[39m\u001b[39mNo Skope rules found\u001b[39m\u001b[39m\"\u001b[39m, \u001b[39m\"\u001b[39m\u001b[39mred--text\u001b[39m\u001b[39m\"\u001b[39m)\n",
      "File \u001b[0;32m~/Documents/antakia/antakia/gui/ruleswidget.py:313\u001b[0m, in \u001b[0;36mRulesWidget.init_rules\u001b[0;34m(self, rules_list, score_dict, selection_ids)\u001b[0m\n\u001b[1;32m    310\u001b[0m \u001b[39mself\u001b[39m\u001b[39m.\u001b[39m_create_rule_widgets(rules_indexes)\n\u001b[1;32m    312\u001b[0m \u001b[39m# We notify the GUI and ask to draw the rules on HDEs\u001b[39;00m\n\u001b[0;32m--> 313\u001b[0m \u001b[39mself\u001b[39;49m\u001b[39m.\u001b[39;49mnew_rules_defined(\u001b[39mself\u001b[39;49m,rules_indexes, \u001b[39mTrue\u001b[39;49;00m)\n",
      "File \u001b[0;32m~/Documents/antakia/antakia/gui/gui.py:325\u001b[0m, in \u001b[0;36mGUI.new_rules_defined\u001b[0;34m(self, rules_widget, df_indexes, skr)\u001b[0m\n\u001b[1;32m    322\u001b[0m \u001b[39mself\u001b[39m\u001b[39m.\u001b[39mes_hde\u001b[39m.\u001b[39mset_dimension(\u001b[39m2\u001b[39m)\n\u001b[1;32m    324\u001b[0m \u001b[39m# We sent to the proper HDE the rules_indexes to render :\u001b[39;00m\n\u001b[0;32m--> 325\u001b[0m \u001b[39mself\u001b[39;49m\u001b[39m.\u001b[39;49mvs_hde\u001b[39m.\u001b[39;49mdisplay_rules(df_indexes) \u001b[39mif\u001b[39;00m rules_widget\u001b[39m.\u001b[39mis_value_space \u001b[39melse\u001b[39;00m \u001b[39mself\u001b[39m\u001b[39m.\u001b[39mes_hde\u001b[39m.\u001b[39mdisplay_rules(df_indexes)\n\u001b[1;32m    327\u001b[0m \u001b[39m# We disable the 'undo' button if RsW has less than 2 rules\u001b[39;00m\n\u001b[1;32m    328\u001b[0m get_widget(app_widget, \u001b[39m\"\u001b[39m\u001b[39m4302\u001b[39m\u001b[39m\"\u001b[39m)\u001b[39m.\u001b[39mdisabled \u001b[39m=\u001b[39m rules_widget\u001b[39m.\u001b[39mcurrent_index \u001b[39m<\u001b[39m\u001b[39m1\u001b[39m\n",
      "File \u001b[0;32m~/Documents/antakia/antakia/gui/highdimexplorer.py:302\u001b[0m, in \u001b[0;36mHighDimExplorer.display_rules\u001b[0;34m(self, indexes_list)\u001b[0m\n\u001b[1;32m    299\u001b[0m \u001b[39mif\u001b[39;00m indexes_list \u001b[39mis\u001b[39;00m  \u001b[39mNone\u001b[39;00m:\n\u001b[1;32m    300\u001b[0m     indexes_list \u001b[39m=\u001b[39m []\n\u001b[0;32m--> 302\u001b[0m \u001b[39mself\u001b[39;49m\u001b[39m.\u001b[39;49m_display_zones([indexes_list], [\u001b[39m\"\u001b[39;49m\u001b[39mblue\u001b[39;49m\u001b[39m\"\u001b[39;49m])\n",
      "File \u001b[0;32m~/Documents/antakia/antakia/gui/highdimexplorer.py:373\u001b[0m, in \u001b[0;36mHighDimExplorer._display_zones\u001b[0;34m(self, zone_indices_list, colors_list)\u001b[0m\n\u001b[1;32m    371\u001b[0m \u001b[39mfor\u001b[39;00m zone_index \u001b[39min\u001b[39;00m zone_indices:\n\u001b[1;32m    372\u001b[0m     colors[zone_index] \u001b[39m=\u001b[39m zone_color    \n\u001b[0;32m--> 373\u001b[0m _display_zone_on_figure(\u001b[39mself\u001b[39;49m\u001b[39m.\u001b[39;49mfigure_2D, trace_id, colors)\n\u001b[1;32m    374\u001b[0m _display_zone_on_figure(\u001b[39mself\u001b[39m\u001b[39m.\u001b[39mfigure_3D, trace_id, colors)\n",
      "File \u001b[0;32m~/Documents/antakia/antakia/gui/highdimexplorer.py:345\u001b[0m, in \u001b[0;36mHighDimExplorer._display_zones.<locals>._display_zone_on_figure\u001b[0;34m(fig, trace_id, colors)\u001b[0m\n\u001b[1;32m    341\u001b[0m \u001b[39mdef\u001b[39;00m \u001b[39m_display_zone_on_figure\u001b[39m(fig: FigureWidget, trace_id:\u001b[39mint\u001b[39m, colors: \u001b[39mlist\u001b[39m):\n\u001b[1;32m    342\u001b[0m \u001b[39m    \u001b[39m\u001b[39m\"\"\"\u001b[39;00m\n\u001b[1;32m    343\u001b[0m \u001b[39m    Draws one zone on one figure using the passed colors\u001b[39;00m\n\u001b[1;32m    344\u001b[0m \u001b[39m    \"\"\"\u001b[39;00m\n\u001b[0;32m--> 345\u001b[0m     dim \u001b[39m=\u001b[39m \u001b[39m2\u001b[39m \u001b[39mif\u001b[39;00m \u001b[39misinstance\u001b[39m(fig\u001b[39m.\u001b[39mdata[\u001b[39m0\u001b[39m],Scatter) \u001b[39melse\u001b[39;00m \u001b[39m3\u001b[39m\n\u001b[1;32m    347\u001b[0m     x\u001b[39m=\u001b[39m\u001b[39mself\u001b[39m\u001b[39m.\u001b[39mpv_list[\u001b[39mself\u001b[39m\u001b[39m.\u001b[39mcurrent_pv]\u001b[39m.\u001b[39mget_proj_values(\u001b[39mself\u001b[39m\u001b[39m.\u001b[39m_get_projection_method(), dim)[\u001b[39m0\u001b[39m]\n\u001b[1;32m    348\u001b[0m     y\u001b[39m=\u001b[39m\u001b[39mself\u001b[39m\u001b[39m.\u001b[39mpv_list[\u001b[39mself\u001b[39m\u001b[39m.\u001b[39mcurrent_pv]\u001b[39m.\u001b[39mget_proj_values(\u001b[39mself\u001b[39m\u001b[39m.\u001b[39m_get_projection_method(), dim)[\u001b[39m1\u001b[39m]\n",
      "\u001b[0;31mNameError\u001b[0m: name 'Scatter' is not defined"
     ]
    }
   ],
   "source": [
    "from antakia.data import ExplanationMethod\n",
    "\n",
    "from antakia.antakia import AntakIA\n",
    "\n",
    "variables_df = pd.DataFrame(\n",
    "    {'col_index': [0, 1, 2, 3, 4, 5, 6, 7],\n",
    "    'descr': ['Median income', 'House age', 'Average nb rooms', 'Average nb bedrooms', 'Population', 'Average occupancy', 'Latitude', 'Longitude'],\n",
    "    'type': ['float64', 'int', 'float64', 'float64', 'int', 'float64', 'float64', 'float64'],\n",
    "    'unit': ['k$', 'years', 'rooms', 'rooms', 'people', 'ratio', 'degrees', 'degrees'],\n",
    "    'critical': [True, False, False, False, False, False, False, False],\n",
    "    'lat': [False, False, False, False, False, False, True, False],\n",
    "    'lon': [False, False, False, False, False, False, False, True]},\n",
    "    index=['MedInc', 'HouseAge', 'AveRooms', 'AveBedrms', 'Population', 'AveOccup', 'Latitude', 'Longitude']\n",
    ")\n",
    "# We call AntakIA with already computed SHAP values and a description of X variables :\n",
    "atk = AntakIA(X, y, model, variables_df, shapValues)\n",
    "\n",
    "# Here we provide the bare minimum to AntakIA : \n",
    "# atk = AntakIA([X], y, model, [ExplanationMethod.NONE])"
   ]
  },
  {
   "cell_type": "code",
   "execution_count": 6,
   "metadata": {
    "is_executing": true
   },
   "outputs": [
    {
     "data": {
      "application/vnd.jupyter.widget-view+json": {
       "model_id": "d525147b170c4e3bae355ac6198e7cdd",
       "version_major": 2,
       "version_minor": 0
      },
      "text/plain": [
       "Layout(children=[Image(value=b'\\x89PNG\\r\\n\\x1a\\n\\x00\\x00\\x00\\rIHDR\\x00\\x00\\t2\\x00\\x00\\n\\xd5\\x08\\x06\\x00\\x00\\x0…"
      ]
     },
     "metadata": {},
     "output_type": "display_data"
    },
    {
     "data": {
      "application/vnd.jupyter.widget-view+json": {
       "model_id": "685bcf9e36b3473d8326f02074816a2d",
       "version_major": 2,
       "version_minor": 0
      },
      "text/plain": [
       "Col(children=[AppBar(children=[Layout(children=[Image(value=b'\\x89PNG\\r\\n\\x1a\\n\\x00\\x00\\x00\\rIHDR\\x00\\x00\\x0e\\…"
      ]
     },
     "metadata": {},
     "output_type": "display_data"
    }
   ],
   "source": [
    "atk.start_gui()"
   ]
  }
 ],
 "metadata": {
  "kernelspec": {
   "display_name": "antakia",
   "language": "python",
   "name": "python3"
  },
  "language_info": {
   "codemirror_mode": {
    "name": "ipython",
    "version": 3
   },
   "file_extension": ".py",
   "mimetype": "text/x-python",
   "name": "python",
   "nbconvert_exporter": "python",
   "pygments_lexer": "ipython3",
   "version": "3.10.13"
  }
 },
 "nbformat": 4,
 "nbformat_minor": 4
}
