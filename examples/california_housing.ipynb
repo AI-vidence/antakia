{
 "cells": [
  {
   "cell_type": "code",
   "execution_count": null,
   "metadata": {
    "ExecuteTime": {
     "end_time": "2023-11-16T09:03:03.657956Z",
     "start_time": "2023-11-16T09:03:00.457855Z"
    },
    "tags": []
   },
   "outputs": [],
   "source": [
    "import pandas as pd\n",
    "df = pd.read_csv('../data/california_housing.csv').drop(['Unnamed: 0'], axis=1)\n",
    "limit = 25000"
   ]
  },
  {
   "cell_type": "code",
   "execution_count": null,
   "metadata": {
    "is_executing": true
   },
   "outputs": [],
   "source": [
    "# Remove outliers:\n",
    "#df = df.loc[df['Population']<10000] \n",
    "#df = df.loc[df['AveOccup']<6]\n",
    "#df = df.loc[df['AveBedrms']<1.5]\n",
    "#df = df.loc[df['HouseAge']<50]\n",
    "\n",
    "# # Only San Francisco :\n",
    "#df = df.loc[(df['Latitude']<38.07)&(df['Latitude']>37.2)]\n",
    "#df = df.loc[(df['Longitude']>-122.5)&(df['Longitude']<-121.75)]"
   ]
  },
  {
   "cell_type": "code",
   "execution_count": null,
   "metadata": {
    "is_executing": true
   },
   "outputs": [],
   "source": [
    "X = df.iloc[:,0:8] # the dataset\n",
    "y = df.iloc[:,9] # the target variable\n",
    "shap_values = df.iloc[:,[10,11,12,13,14,15,16,17]] # the SHAP values"
   ]
  },
  {
   "cell_type": "code",
   "execution_count": null,
   "metadata": {
    "is_executing": true,
    "tags": []
   },
   "outputs": [],
   "source": [
    "from sklearn.ensemble import GradientBoostingRegressor\n",
    "regressor = GradientBoostingRegressor(random_state = 9)\n",
    "regressor.fit(X, y)"
   ]
  },
  {
   "cell_type": "code",
   "execution_count": null,
   "metadata": {},
   "outputs": [],
   "source": [
    "y_c = y>4\n",
    "from sklearn.ensemble import GradientBoostingClassifier\n",
    "classifier = GradientBoostingClassifier(random_state = 9)\n",
    "#classifier.fit(X, y_c)"
   ]
  },
  {
   "cell_type": "code",
   "execution_count": null,
   "metadata": {
    "is_executing": true
   },
   "outputs": [],
   "source": [
    "from antakia.antakia import AntakIA\n",
    "variables_df = pd.DataFrame(\n",
    "    {'col_index': [0, 1, 2, 3, 4, 5, 6, 7],\n",
    "    'descr': ['Median income', 'House age', 'Average nb rooms', 'Average nb bedrooms', 'Population', 'Average occupancy', 'Latitude', 'Longitude'],\n",
    "    'type': ['float64', 'int', 'float64', 'float64', 'int', 'float64', 'float64', 'float64'],\n",
    "    'unit': ['k$', 'years', 'rooms', 'rooms', 'people', 'ratio', 'degrees', 'degrees'],\n",
    "    'critical': [True, False, False, False, False, False, False, False],\n",
    "    'lat': [False, False, False, False, False, False, True, False],\n",
    "    'lon': [False, False, False, False, False, False, False, True]},\n",
    "    index=['MedInc', 'HouseAge', 'AveRooms', 'AveBedrms', 'Population', 'AveOccup', 'Latitude', 'Longitude']\n",
    ")\n",
    "# We call AntakIA passing the already computed SHAP values and a description of X variables :\n",
    "atk = AntakIA(X.iloc[:limit], y.iloc[:limit], regressor, X_exp=shap_values)\n",
    "# Here we provide the bare minimum to AntakIA : \n",
    "# atk = AntakIA(X, y, regressor)"
   ]
  },
  {
   "cell_type": "code",
   "execution_count": null,
   "metadata": {
    "is_executing": true
   },
   "outputs": [],
   "source": [
    "atk.start_gui()"
   ]
  }
 ],
 "metadata": {
  "kernelspec": {
   "display_name": "Python 3 (ipykernel)",
   "language": "python",
   "name": "python3"
  },
  "language_info": {
   "codemirror_mode": {
    "name": "ipython",
    "version": 3
   },
   "file_extension": ".py",
   "mimetype": "text/x-python",
   "name": "python",
   "nbconvert_exporter": "python",
   "pygments_lexer": "ipython3",
   "version": "3.11.6"
  }
 },
 "nbformat": 4,
 "nbformat_minor": 4
}
