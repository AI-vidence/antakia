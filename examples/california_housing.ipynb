{
 "cells": [
  {
   "cell_type": "code",
   "execution_count": 1,
   "metadata": {
    "tags": []
   },
   "outputs": [],
   "source": [
    "import pandas as pd\n",
    "\n",
    "import numpy as np\n",
    "\n",
    "import warnings\n",
    "\n",
    "import sklearn.preprocessing\n",
    "import sklearn.linear_model\n",
    "\n",
    "from numba.core.errors import NumbaDeprecationWarning\n",
    "warnings.simplefilter(action='ignore', category=FutureWarning)\n",
    "warnings.simplefilter(action='ignore', category=UserWarning)\n",
    "warnings.simplefilter(action='ignore', category=NumbaDeprecationWarning)"
   ]
  },
  {
   "cell_type": "code",
   "execution_count": 2,
   "metadata": {
    "tags": []
   },
   "outputs": [],
   "source": [
    "df = pd.read_csv('../data/california_housing/california_housing.csv')\n",
    "df = df.drop(['Unnamed: 0'], axis=1)\n",
    "df2 = pd.read_csv('../data/california_housing/california_housing.csv')\n",
    "#nombre de maisons à prendre en compte (20k c'est beaucoup trop)\n",
    "# quelques condition pour nettoyer la base de données\n",
    "df = df.loc[df['Population']<10000]\n",
    "df = df.loc[df['AveOccup']<6]\n",
    "df = df.loc[df['AveBedrms']<1.5]\n",
    "df = df.loc[df['HouseAge']<50]\n",
    "\n",
    "# Seulement San Francisco :\n",
    "# Latitude > 37,2\n",
    "# Latitude < 38,07\n",
    "# Longitude > -122,5\n",
    "# Longitude < -121,75\n",
    "\n",
    "df = df.loc[(df['Latitude']<38.07)&(df['Latitude']>37.2)]\n",
    "df = df.loc[(df['Longitude']>-122.5)&(df['Longitude']<-121.75)]\n",
    "\n",
    "save_df = df.copy()\n",
    "\n",
    "N=200\n",
    "n = N/len(df)\n",
    "X_all = df.iloc[:,0:8].copy()\n",
    "df1 = df.sample(frac=n, random_state=14)\n",
    "df1 = df1.reset_index(drop=True)\n",
    "save_df1 = df1.copy()\n",
    "\n",
    "X = df1.iloc[:,0:8]\n",
    "Y = df1.iloc[:,9]"
   ]
  },
  {
   "cell_type": "code",
   "execution_count": 3,
   "metadata": {
    "tags": []
   },
   "outputs": [],
   "source": [
    "from sklearn.ensemble import GradientBoostingRegressor\n",
    "model = GradientBoostingRegressor(random_state = 9)\n",
    "model.fit(X, Y)\n",
    "\n",
    "SHAP = df1.iloc[:,[10,11,12,13,14,15,16,17]]"
   ]
  },
  {
   "cell_type": "markdown",
   "metadata": {},
   "source": [
    "**Démarrage d'AntakIA**"
   ]
  },
  {
   "cell_type": "code",
   "execution_count": 4,
   "metadata": {
    "slideshow": {
     "slide_type": ""
    },
    "tags": []
   },
   "outputs": [
    {
     "data": {
      "application/vnd.jupyter.widget-view+json": {
       "model_id": "313130fd66d247658eb149eb3b2b2464",
       "version_major": 2,
       "version_minor": 0
      },
      "text/plain": [
       "Layout(children=[Image(value=b'\\x89PNG\\r\\n\\x1a\\n\\x00\\x00\\x00\\rIHDR\\x00\\x00\\t2\\x00\\x00\\n\\xd5\\x08\\x06\\x00\\x00\\x0…"
      ]
     },
     "metadata": {},
     "output_type": "display_data"
    },
    {
     "name": "stdout",
     "output_type": "stream",
     "text": [
      "(200, 8)\n",
      "(200, 8)\n",
      "(200, 8)\n",
      "(200, 8)\n",
      "(200, 8)\n",
      "(200, 8)\n",
      "(200, 8)\n",
      "(200, 8)\n"
     ]
    },
    {
     "data": {
      "application/vnd.jupyter.widget-view+json": {
       "model_id": "69024ffa89c1400eb7864c67e229dc1d",
       "version_major": 2,
       "version_minor": 0
      },
      "text/plain": [
       "VBox(children=(AppBar(children=[Layout(children=[Image(value=b'\\x89PNG\\r\\n\\x1a\\n\\x00\\x00\\x00\\rIHDR\\x00\\x00\\x0e…"
      ]
     },
     "metadata": {},
     "output_type": "display_data"
    }
   ],
   "source": [
    "import antakia\n",
    "\n",
    "dataset = antakia.Dataset(X, model, y=Y, explain = SHAP)\n",
    "\n",
    "a = antakia.AntakIA(dataset)\n",
    "a.startGUI()"
   ]
  },
  {
   "cell_type": "code",
   "execution_count": 5,
   "metadata": {
    "tags": []
   },
   "outputs": [
    {
     "name": "stdout",
     "output_type": "stream",
     "text": [
      "Potato:\n",
      " ------------------\n",
      "       State: None \n",
      "       Number of points: 0 \n",
      "       Percentage of the dataset: 0.0% \n",
      "\n"
     ]
    }
   ],
   "source": [
    "print(a.gui.selection)"
   ]
  }
 ],
 "metadata": {
  "kernelspec": {
   "display_name": "Python 3 (ipykernel)",
   "language": "python",
   "name": "python3"
  },
  "language_info": {
   "codemirror_mode": {
    "name": "ipython",
    "version": 3
   },
   "file_extension": ".py",
   "mimetype": "text/x-python",
   "name": "python",
   "nbconvert_exporter": "python",
   "pygments_lexer": "ipython3",
   "version": "3.10.12"
  }
 },
 "nbformat": 4,
 "nbformat_minor": 4
}
