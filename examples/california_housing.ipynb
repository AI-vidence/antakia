{
 "cells": [
  {
   "cell_type": "code",
   "execution_count": 1,
   "metadata": {
    "tags": []
   },
   "outputs": [],
   "source": [
    "import pandas as pd\n",
    "\n",
    "import numpy as np\n",
    "\n",
    "import warnings\n",
    "\n",
    "import sklearn.preprocessing\n",
    "import sklearn.linear_model\n",
    "\n",
    "from numba.core.errors import NumbaDeprecationWarning\n",
    "warnings.simplefilter(action='ignore', category=FutureWarning)\n",
    "warnings.simplefilter(action='ignore', category=UserWarning)\n",
    "warnings.simplefilter(action='ignore', category=NumbaDeprecationWarning)"
   ]
  },
  {
   "cell_type": "code",
   "execution_count": 2,
   "metadata": {
    "tags": []
   },
   "outputs": [],
   "source": [
    "df = pd.read_csv('../data/california_housing/export_epita.csv')\n",
    "df = df.drop(['Unnamed: 0'], axis=1)\n",
    "df2 = pd.read_csv('../data/california_housing/cities.csv')\n",
    "#nombre de maisons à prendre en compte (20k c'est beaucoup trop)\n",
    "# quelques condition pour nettoyer la base de données\n",
    "df = df.loc[df['Population']<10000]\n",
    "df = df.loc[df['AveOccup']<6]\n",
    "df = df.loc[df['AveBedrms']<1.5]\n",
    "df = df.loc[df['HouseAge']<50]\n",
    "\n",
    "# Seulement San Francisco :\n",
    "# Latitude > 37,2\n",
    "# Latitude < 38,07\n",
    "# Longitude > -122,5\n",
    "# Longitude < -121,75\n",
    "\n",
    "df = df.loc[(df['Latitude']<38.07)&(df['Latitude']>37.2)]\n",
    "df = df.loc[(df['Longitude']>-122.5)&(df['Longitude']<-121.75)]\n",
    "\n",
    "save_df = df.copy()\n",
    "\n",
    "N=1000\n",
    "n = N/len(df)\n",
    "X_all = df.iloc[:,0:8].copy()\n",
    "df1 = df.sample(frac=n, random_state=14)\n",
    "df1 = df1.reset_index(drop=True)\n",
    "save_df1 = df1.copy()\n",
    "\n",
    "X = df1.iloc[:,0:8]\n",
    "Y = df1.iloc[:,9]"
   ]
  },
  {
   "cell_type": "code",
   "execution_count": 3,
   "metadata": {
    "tags": []
   },
   "outputs": [],
   "source": [
    "from sklearn.ensemble import GradientBoostingRegressor\n",
    "model = GradientBoostingRegressor(random_state = 9)\n",
    "model.fit(X, Y)\n",
    "\n",
    "SHAP = df1.iloc[:,[10,11,12,13,14,15,16,17]]"
   ]
  },
  {
   "attachments": {},
   "cell_type": "markdown",
   "metadata": {},
   "source": [
    "**Démarrage d'AntakIA**"
   ]
  },
  {
   "cell_type": "code",
   "execution_count": 8,
   "metadata": {
    "slideshow": {
     "slide_type": ""
    },
    "tags": []
   },
   "outputs": [
    {
     "ename": "ModuleNotFoundError",
     "evalue": "No module named 'package'",
     "output_type": "error",
     "traceback": [
      "\u001b[0;31m---------------------------------------------------------------------------\u001b[0m",
      "\u001b[0;31mModuleNotFoundError\u001b[0m                       Traceback (most recent call last)",
      "Cell \u001b[0;32mIn[8], line 1\u001b[0m\n\u001b[0;32m----> 1\u001b[0m \u001b[38;5;28;01mfrom\u001b[39;00m \u001b[38;5;21;01mpackage\u001b[39;00m \u001b[38;5;28;01mimport\u001b[39;00m antakia\n\u001b[1;32m      3\u001b[0m explain \u001b[38;5;241m=\u001b[39m antakia\u001b[38;5;241m.\u001b[39mXplainer(X \u001b[38;5;241m=\u001b[39m X, Y \u001b[38;5;241m=\u001b[39m Y, model \u001b[38;5;241m=\u001b[39m model)\n\u001b[1;32m      5\u001b[0m display(explain\u001b[38;5;241m.\u001b[39minterface(exp_val \u001b[38;5;241m=\u001b[39m SHAP, default_projection \u001b[38;5;241m=\u001b[39m \u001b[38;5;124m\"\u001b[39m\u001b[38;5;124mPaCMAP\u001b[39m\u001b[38;5;124m\"\u001b[39m, \u001b[38;5;28mmap\u001b[39m\u001b[38;5;241m=\u001b[39m\u001b[38;5;28;01mTrue\u001b[39;00m))\n",
      "\u001b[0;31mModuleNotFoundError\u001b[0m: No module named 'package'"
     ]
    }
   ],
   "source": [
    "from package import antakia\n",
    "\n",
    "explain = antakia.Xplainer(X = X, Y = Y, model = model)\n",
    "\n",
    "display(explain.interface(exp_val = SHAP, default_projection = \"PaCMAP\", map=True))"
   ]
  },
  {
   "cell_type": "code",
   "execution_count": null,
   "metadata": {},
   "outputs": [],
   "source": []
  }
 ],
 "metadata": {
  "kernelspec": {
   "display_name": "antakia-venv",
   "language": "python",
   "name": "antakia-venv"
  },
  "language_info": {
   "codemirror_mode": {
    "name": "ipython",
    "version": 3
   },
   "file_extension": ".py",
   "mimetype": "text/x-python",
   "name": "python",
   "nbconvert_exporter": "python",
   "pygments_lexer": "ipython3",
   "version": "3.10.12"
  }
 },
 "nbformat": 4,
 "nbformat_minor": 4
}
