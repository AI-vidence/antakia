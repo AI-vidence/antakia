{
 "cells": [
  {
   "cell_type": "markdown",
   "metadata": {},
   "source": [
    "## app_widget"
   ]
  },
  {
   "cell_type": "code",
   "execution_count": 1,
   "metadata": {},
   "outputs": [],
   "source": [
    "# from IPython.display import display\n",
    "# from ipywidgets import Layout, widgets\n",
    "# from ipywidgets.widgets import Widget\n",
    "# import ipyvuetify as v\n",
    "# from importlib.resources import files\n",
    "# from copy import copy\n",
    "# import pandas as pd\n",
    "# from antakia.gui.widgets import app_widget, get_widget, change_widget, check_address, dummy_df\n",
    "# from plotly.graph_objects import FigureWidget, Histogram, Scatter, Scatter3d\n",
    "# import numpy as np\n",
    "\n",
    "\n",
    "# app_widget"
   ]
  },
  {
   "cell_type": "code",
   "execution_count": 2,
   "metadata": {},
   "outputs": [
    {
     "data": {
      "application/vnd.jupyter.widget-view+json": {
       "model_id": "24631ca53777437782dc8e877e27500f",
       "version_major": 2,
       "version_minor": 0
      },
      "text/plain": [
       "FigureWidget({\n",
       "    'data': [{'marker': {'color': array([4, 3, 0, ..., 3, 2, 2])},\n",
       "              'mode': 'markers',\n",
       "              'type': 'scattergl',\n",
       "              'uid': '87136716-d9c0-471e-a0a4-f56dd731fb6f',\n",
       "              'x': array([ 0.53824491, -3.54702987,  0.43974054, ..., -0.10704132,  0.41041491,\n",
       "                          -0.14980357]),\n",
       "              'y': array([-1.67950003, -1.43300427, -0.28003459, ..., -0.86425209, -5.2707675 ,\n",
       "                          -0.76038922])}],\n",
       "    'layout': {'height': 300, 'margin': {'b': 0, 'l': 0, 'r': 0, 't': 0}, 'template': '...', 'width': 600}\n",
       "})"
      ]
     },
     "metadata": {},
     "output_type": "display_data"
    }
   ],
   "source": [
    "import numpy as np\n",
    "import pandas as pd\n",
    "from IPython.display import display\n",
    "from plotly.graph_objects import FigureWidget, Scattergl\n",
    "from matplotlib.colors import to_rgba\n",
    "\n",
    "origin_x = pd.Series({'X': np.random.normal(0, 1, 500) * 2})['X']\n",
    "origin_y = pd.Series({'Y': np.random.normal(0, 1, 500) * 2})['Y']\n",
    "origin_colors=pd.Series(np.random.randint(0, 5, size=500))\n",
    "fig = FigureWidget(\n",
    "    data=[\n",
    "        Scattergl( # Trace 0\n",
    "            x=origin_x,\n",
    "            y=origin_y,\n",
    "            mode=\"markers\",\n",
    "            marker=dict(\n",
    "                color=origin_colors,\n",
    "            ),\n",
    "        ),\n",
    "    ],\n",
    "    layout={\n",
    "        'height': 300,\n",
    "        'margin': {'t': 0, 'b': 0, 'l':0, 'r': 0},\n",
    "        'width': 600\n",
    "    }\n",
    ")\n",
    "display(fig)"
   ]
  },
  {
   "cell_type": "code",
   "execution_count": 3,
   "metadata": {},
   "outputs": [
    {
     "data": {
      "application/vnd.jupyter.widget-view+json": {
       "model_id": "24631ca53777437782dc8e877e27500f",
       "version_major": 2,
       "version_minor": 0
      },
      "text/plain": [
       "FigureWidget({\n",
       "    'data': [{'marker': {'color': array([4, 3, 0, ..., 3, 2, 2])},\n",
       "              'mode': 'markers',\n",
       "              'type': 'scattergl',\n",
       "              'uid': '87136716-d9c0-471e-a0a4-f56dd731fb6f',\n",
       "              'x': array([ 0.53824491, -3.54702987,  0.43974054, ..., -0.10704132,  0.41041491,\n",
       "                          -0.14980357]),\n",
       "              'y': array([-1.67950003, -1.43300427, -0.28003459, ..., -0.86425209, -5.2707675 ,\n",
       "                          -0.76038922])},\n",
       "             {'marker': {'color': array(['blue', 'blue', 'blue', ..., 'grey', 'grey', 'grey'], dtype=object)},\n",
       "              'mode': 'markers',\n",
       "              'type': 'scattergl',\n",
       "              'uid': '2fb3bd7e-20da-44ba-b843-fdb984b9a7dd',\n",
       "              'x': array([ 0.53824491, -3.54702987,  0.43974054, ..., -0.10704132,  0.41041491,\n",
       "                          -0.14980357]),\n",
       "              'y': array([-1.67950003, -1.43300427, -0.28003459, ..., -0.86425209, -5.2707675 ,\n",
       "                          -0.76038922])}],\n",
       "    'layout': {'height': 300, 'margin': {'b': 0, 'l': 0, 'r': 0, 't': 0}, 'template': '...', 'width': 600}\n",
       "})"
      ]
     },
     "execution_count": 3,
     "metadata": {},
     "output_type": "execute_result"
    }
   ],
   "source": [
    "trace1_colors=pd.Series([\"grey\"] * 500)\n",
    "trace1_colors[0:250]=\"blue\"\n",
    "\n",
    "fig.add_trace(   \n",
    "    Scattergl(  # Trace 1\n",
    "        x=origin_x,\n",
    "        y=origin_y,\n",
    "        mode=\"markers\",\n",
    "        marker=dict(\n",
    "                color=trace1_colors,\n",
    "            ),\n",
    "    )\n",
    ")"
   ]
  },
  {
   "cell_type": "code",
   "execution_count": 8,
   "metadata": {},
   "outputs": [
    {
     "data": {
      "text/plain": [
       "0      0.538245\n",
       "1     -3.547030\n",
       "2      0.439741\n",
       "3     -0.578012\n",
       "4     -1.095084\n",
       "         ...   \n",
       "245    1.869976\n",
       "246    3.839286\n",
       "247    2.431416\n",
       "248   -0.982862\n",
       "249   -2.106577\n",
       "Length: 250, dtype: float64"
      ]
     },
     "execution_count": 8,
     "metadata": {},
     "output_type": "execute_result"
    }
   ],
   "source": [
    "new_x = pd.Series(origin_x)\n",
    "new_y = pd.Series(origin_y)\n",
    "new_colors=pd.Series(trace1_colors)\n",
    "\n",
    "new_x.loc[new_colors!=\"grey\"]\n",
    "# new_colors.loc[new_colors!=\"grey\"]\n",
    "\n",
    "\n",
    "\n",
    "# for i in range(499, -1, -1):\n",
    "#     if trace1_colors.iloc[i] == \"grey\":\n",
    "#         new_x.pop(i)\n",
    "#         new_y.pop(i)\n",
    "#         new_colors.pop(i)\n",
    "\n",
    "# fig.add_trace(   \n",
    "#     Scattergl(  # Trace 2\n",
    "#         x=new_x,\n",
    "#         y=new_y,\n",
    "#         mode=\"markers\",\n",
    "#         marker=dict(\n",
    "#                 color=trace1_colors,\n",
    "#             ),\n",
    "#     )\n",
    "# )"
   ]
  }
 ],
 "metadata": {
  "kernelspec": {
   "display_name": "antakia",
   "language": "python",
   "name": "python3"
  },
  "language_info": {
   "codemirror_mode": {
    "name": "ipython",
    "version": 3
   },
   "file_extension": ".py",
   "mimetype": "text/x-python",
   "name": "python",
   "nbconvert_exporter": "python",
   "pygments_lexer": "ipython3",
   "version": "3.11.6"
  },
  "orig_nbformat": 4
 },
 "nbformat": 4,
 "nbformat_minor": 2
}
