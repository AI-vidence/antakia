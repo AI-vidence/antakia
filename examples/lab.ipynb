{
 "cells": [
  {
   "cell_type": "code",
   "execution_count": null,
   "metadata": {},
   "outputs": [],
   "source": [
    "from antakia.gui.widgets import get_widget, change_widget, splash_widget, app_widget\n",
    "\n",
    "app_widget"
   ]
  }
 ],
 "metadata": {
  "kernelspec": {
   "display_name": "antakia-h8886QrC-py3.11",
   "language": "python",
   "name": "python3"
  },
  "language_info": {
   "name": "python",
   "version": "3.11.6"
  }
 },
 "nbformat": 4,
 "nbformat_minor": 2
}
