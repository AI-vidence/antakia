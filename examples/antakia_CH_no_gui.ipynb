{
 "cells": [
  {
   "cell_type": "markdown",
   "metadata": {},
   "source": [
    "<a id=\"top\"></a>\n",
    "# AntakIA tutorial\n",
    "***\n",
    "### Unsing AntakIA with no GUI!"
   ]
  },
  {
   "cell_type": "markdown",
   "metadata": {},
   "source": [
    "AntakIA helps you understand and explain your _black-box_ machine-learning models, by identifying the most relevant way of segregating your dataset and the best surrogate models to apply on these freshly created regions. In this notebook, we will show you how to use the automatic dyadic-clustering algorithm of AntakIA.\n",
    "\n",
    "> This notebook is a tutorial on how to use AntakIA without the GUI. If you want to use the GUI, please refer to the [AntakIA GUI tutorial](antakia_CH_gui.ipynb).\n",
    "> \n",
    "> For more information about AntakIA, please refer to the [AntakIA documentation](https://ai-vidence.github.io/antakia/) or go to [AI-vidence's website](https://ai-vidence.com/)."
   ]
  },
  {
   "cell_type": "markdown",
   "metadata": {},
   "source": [
    "__In this notebook, you will learn how to:__\n",
    "- Create a dataset object from a CSV file\n",
    "- Instanciate an AntakIA object\n",
    "- Manually define regions and apply sub-models\n",
    "- Run the automatic dyadic-clustering algorithm\n",
    "- Visualize the results"
   ]
  },
  {
   "cell_type": "markdown",
   "metadata": {},
   "source": [
    "## Context :\n",
    "\n",
    "__Let's pretend that we are a real estate agent and that we want to predict the price of a house based on its characteristics.__ We have a dataset of more than 20000 blocks of houses, each block being described by 8 features (e.g. medium income of the owners, number of rooms, etc.). We also have the price of each block of houses. We already trained a machine-learning model (in our case, a simple XGBoost) that will predict the price of a house based on its characteristics. This is very helpful to estimate the price of a house that we want to sell !\n",
    "\n",
    "__The main issue is the following :__ we want to explain to our customers why their house is worth a certain price. We can't just show them the machine-learning model, because it is a _black-box_ model. We need to find a way to explain the price of a house based on its characteristics. This is where AntakIA comes in handy !"
   ]
  },
  {
   "cell_type": "markdown",
   "metadata": {},
   "source": [
    "We start by importing the necessary libraries."
   ]
  },
  {
   "cell_type": "code",
   "execution_count": null,
   "metadata": {
    "tags": []
   },
   "outputs": [],
   "source": [
    "import pandas as pd "
   ]
  },
  {
   "cell_type": "markdown",
   "metadata": {},
   "source": [
    "Then, our dataset. Ours is [this one](https://inria.github.io/scikit-learn-mooc/python_scripts/datasets_california_housing.html); it can be found in the `data` folder of this repository.\n",
    "\n",
    "Note that we already computed some explanatory values (in our case, SHAP values) and saved them in the CSV file. This is not necessary, as AntakIA can do it, but it will save us some computation time!"
   ]
  },
  {
   "cell_type": "code",
   "execution_count": null,
   "metadata": {
    "tags": []
   },
   "outputs": [],
   "source": [
    "df = pd.read_csv('../data/california_housing.csv').drop(['Unnamed: 0'], axis=1)\n",
    "\n",
    "X = df.iloc[:,0:8] # the dataset\n",
    "Y = df.iloc[:,9] # the target variable\n",
    "SHAP = df.iloc[:,[10,11,12,13,14,15,16,17]] # the SHAP values"
   ]
  },
  {
   "cell_type": "markdown",
   "metadata": {},
   "source": [
    "We also have a trained XGBoost model that we will use to predict the price of a house."
   ]
  },
  {
   "cell_type": "code",
   "execution_count": null,
   "metadata": {
    "tags": []
   },
   "outputs": [],
   "source": [
    "from sklearn.ensemble import GradientBoostingRegressor\n",
    "model = GradientBoostingRegressor(random_state = 9)\n",
    "model.fit(X, Y)\n",
    "\"model fitted\""
   ]
  },
  {
   "cell_type": "markdown",
   "metadata": {},
   "source": [
    "__Let's now import `antakia`!__"
   ]
  },
  {
   "cell_type": "code",
   "execution_count": null,
   "metadata": {},
   "outputs": [],
   "source": [
    "import antakia"
   ]
  },
  {
   "cell_type": "markdown",
   "metadata": {},
   "source": [
    "## 1. Creating the dataset object\n",
    "\n",
    "We first use the [`Dataset`](https://ai-vidence.github.io/antakia/documentation/dataset/) class to create a dataset object. This object will be used to store the data and the machine-learning model."
   ]
  },
  {
   "cell_type": "code",
   "execution_count": null,
   "metadata": {
    "slideshow": {
     "slide_type": ""
    },
    "tags": []
   },
   "outputs": [],
   "source": [
    "dataset = antakia.Dataset(X, model = model, y=Y)\n",
    "print(f'Size of the original dataset: {len(dataset)} lines')\n",
    "dataset.frac(0.1) # 10% of the original dataset is enough to explore\n",
    "print(f'Size of the data we want to explore: {len(dataset)} lines')"
   ]
  },
  {
   "cell_type": "markdown",
   "metadata": {},
   "source": [
    "## 2. Creating the AntakIA object\n",
    "We then use the [`AntakIA`](https://ai-vidence.github.io/antakia/documentation/antakia/) class to create an AntakIA object. This is the main object of the package!\n",
    "This is where we import our explanatory values (in our case, SHAP values)."
   ]
  },
  {
   "cell_type": "code",
   "execution_count": null,
   "metadata": {
    "tags": []
   },
   "outputs": [],
   "source": [
    "atk = antakia.AntakIA(dataset, import_explanation = SHAP)"
   ]
  },
  {
   "cell_type": "markdown",
   "metadata": {},
   "source": [
    "## 3. Creating custom regions\n",
    "We can now create our own regions and apply sub-models on them.\n",
    "Doing it this way means that we already know how to segregate (at least partly) our dataset. This is not always the case, and this is why AntakIA has a GUI and an automatic dyadic-clustering algorithm (see next section). Here, we pretend that a business expert told us that a particular region is very interesting to look at. He sent it to us in a [`JSON` file](../data/business.json), as a list of the indexes of the data points that belong to this region.\n",
    "\n",
    "A region (a set of points) is called a [`Potato`](https://ai-vidence.github.io/antakia/documentation/potato/) in AntakIA. Let's create one!\n",
    "\n"
   ]
  },
  {
   "cell_type": "code",
   "execution_count": null,
   "metadata": {},
   "outputs": [],
   "source": [
    "potato = antakia.Potato(atk, json_path=\"../data/business\")\n",
    "\n",
    "print(potato)"
   ]
  },
  {
   "cell_type": "markdown",
   "metadata": {},
   "source": [
    "A `Potato` object takes as input the `AntakIA` object. __You will discover that the `AntakIA` object is the main object of the package: it links all the other objects together!__"
   ]
  },
  {
   "cell_type": "markdown",
   "metadata": {},
   "source": [
    "This region is a fraction of the dataset. But what does it represent? We could use data-visulization tools to find out, such as plotting the points on a map or a scatter plot. AntakIA chooses to use the [SkopeRules](https://github.com/scikit-learn-contrib/skope-rules) tool! This tool will give us, with a certain precision and recall that we can define, simple rules on the features that describe best the region. Let's use it with the `applySkope` method of the Potato!\n",
    "\n",
    "_The rules must be found both in the Values Space and in the Explanation Space. We need to specify which explanation space to consider! That's why this methdo takes as an argument one of the explanation spaces of the AntakIA object._"
   ]
  },
  {
   "cell_type": "code",
   "execution_count": null,
   "metadata": {},
   "outputs": [],
   "source": [
    "potato.applySkope('Imported')"
   ]
  },
  {
   "cell_type": "markdown",
   "metadata": {},
   "source": [
    "Let's see what we got!"
   ]
  },
  {
   "cell_type": "code",
   "execution_count": null,
   "metadata": {},
   "outputs": [],
   "source": [
    "potato.getVSrules()"
   ]
  },
  {
   "cell_type": "markdown",
   "metadata": {},
   "source": [
    "These rules define the region we are creating right now, with the following score:\n",
    "\n",
    "_(Precision, Recall, Extract from the decision tree)_)"
   ]
  },
  {
   "cell_type": "code",
   "execution_count": null,
   "metadata": {},
   "outputs": [],
   "source": [
    "potato.getVSscore()"
   ]
  },
  {
   "cell_type": "markdown",
   "metadata": {},
   "source": [
    "The same can be done for the __explanation space:__"
   ]
  },
  {
   "cell_type": "code",
   "execution_count": null,
   "metadata": {},
   "outputs": [],
   "source": [
    "print(potato.getESrules())\n",
    "print(potato.getESscore())"
   ]
  },
  {
   "cell_type": "markdown",
   "metadata": {},
   "source": [
    "Later, you can apply these rules to any `dataframe` that has the same features as the one used to create the `AntakIA` object. This can be very useful if you have new data coming in and you want to retrieve the region. This is done by using the `fromRules` function from the `utils` sub-module.\n",
    "\n",
    "To retrieve the dataframe of the region, you can just use the `getVSdata` method of the `Potato` object."
   ]
  },
  {
   "cell_type": "code",
   "execution_count": null,
   "metadata": {},
   "outputs": [],
   "source": [
    "display(antakia.utils.fromRules(dataset.X, potato.getVSrules()).head())\n",
    "print('Size:', len(antakia.utils.fromRules(dataset.X, potato.getVSrules())))\n",
    "\n",
    "antakia.utils.fromRules(dataset.X, potato.getVSrules()).equals(potato.getVSdata()) # two ways to get the same result\n",
    "\n",
    "display(antakia.utils.fromRules(dataset.X_all, potato.getVSrules()).head()) # once done with a fraction, we can retrieve the same region from the full dataset!\n",
    "print('Size:', len(antakia.utils.fromRules(dataset.X_all, potato.getVSrules())))"
   ]
  },
  {
   "cell_type": "markdown",
   "metadata": {},
   "source": [
    "This done, we want to apply a linear sub-model on this region. Let's find what is the best sub-model for this region!"
   ]
  },
  {
   "cell_type": "code",
   "execution_count": null,
   "metadata": {},
   "outputs": [],
   "source": [
    "import sklearn\n",
    "\n",
    "sub_models = [sklearn.linear_model.LinearRegression(), sklearn.linear_model.SGDRegressor(), sklearn.linear_model.Ridge()] # list of sub-models to choose from\n",
    "\n",
    "for sub_model in sub_models:\n",
    "    sub_model.fit(potato.data, potato.y)\n",
    "    print(f\"Score for {sub_model.__class__.__name__} : {round(sub_model.score(potato.data, potato.y),4)}\")"
   ]
  },
  {
   "cell_type": "markdown",
   "metadata": {},
   "source": [
    "Let's say that the most relevant sub-model for this region is the `Ridge` sub-model. We can now apply it on this region."
   ]
  },
  {
   "cell_type": "code",
   "execution_count": null,
   "metadata": {},
   "outputs": [],
   "source": [
    "potato.setSubModel(sklearn.linear_model.Ridge())"
   ]
  },
  {
   "cell_type": "markdown",
   "metadata": {},
   "source": [
    "We are now happy with this region, so we can add it to the list of regions stored in the `AntakIA` object."
   ]
  },
  {
   "cell_type": "code",
   "execution_count": null,
   "metadata": {},
   "outputs": [],
   "source": [
    "atk.newRegion(potato)"
   ]
  },
  {
   "cell_type": "markdown",
   "metadata": {},
   "source": [
    "The regions are a list of `Potato` objects. Let's see what we have so far."
   ]
  },
  {
   "cell_type": "code",
   "execution_count": null,
   "metadata": {},
   "outputs": [],
   "source": [
    "print(atk.regions) # 1 potato!\n",
    "print()\n",
    "print(atk.regions[0])"
   ]
  },
  {
   "cell_type": "markdown",
   "metadata": {},
   "source": [
    "## 4. Using the automatic dyadic-clustering algorithm\n",
    "We now want to ask AntakIA to find automatically the best way to segregate our dataset. We will use the automatic dyadic-clustering algorithm to do so. Let's first reset our regions, and then run the algorithm."
   ]
  },
  {
   "cell_type": "code",
   "execution_count": null,
   "metadata": {
    "tags": []
   },
   "outputs": [],
   "source": [
    "atk.resetRegions()\n",
    "atk.computeDyadicClustering(sub_models = True) # compute the dyadic clustering, and asking it to find the best sub-model for each region"
   ]
  },
  {
   "cell_type": "markdown",
   "metadata": {},
   "source": [
    "Let's see what we have now."
   ]
  },
  {
   "cell_type": "code",
   "execution_count": null,
   "metadata": {},
   "outputs": [],
   "source": [
    "regions = atk.getRegions()\n",
    "print(f'Number of regions created: {len(regions)}')"
   ]
  },
  {
   "cell_type": "markdown",
   "metadata": {},
   "source": [
    "Let's explore the first one as an example."
   ]
  },
  {
   "cell_type": "code",
   "execution_count": null,
   "metadata": {
    "tags": []
   },
   "outputs": [],
   "source": [
    "my_region = atk.getRegions()[0]\n",
    "\n",
    "print(f\"Size of the region: {len(my_region)}\")\n",
    "\n",
    "print('First glance at the data:')\n",
    "display(my_region.getVSdata().head())\n",
    "\n",
    "print('Which sub-model is the most appropriate for this region?') # the sub-models are choosen from a list in the AntakIA object. There are default sub-models, but you can add your own (see the documentation).\n",
    "print(my_region.getSubModel())"
   ]
  },
  {
   "cell_type": "markdown",
   "metadata": {},
   "source": [
    "Now, as a data-scientist, you can do pretty much whatever you want with this data, such as visualizing it on a map !"
   ]
  },
  {
   "cell_type": "code",
   "execution_count": null,
   "metadata": {},
   "outputs": [],
   "source": [
    "import plotly.graph_objects as go\n",
    "\n",
    "df = my_region.data\n",
    "\n",
    "fig = go.Figure(data=go.Scattergeo(\n",
    "        lon = df['Longitude'],\n",
    "        lat = df['Latitude'],\n",
    "        mode = 'markers',\n",
    "        marker_color = df['MedInc'],\n",
    "        ))\n",
    "fig.update_layout(title = 'Visualisation of the region on a map!')\n",
    "fig.show()"
   ]
  },
  {
   "cell_type": "markdown",
   "metadata": {},
   "source": [
    "That's it ! You now know how to use AntakIA without the GUI. If you want to use the GUI, please refer to the [AntakIA GUI tutorial](antakia_gui.ipynb).\n",
    "***"
   ]
  },
  {
   "cell_type": "markdown",
   "metadata": {},
   "source": [
    "## List if usefull links\n",
    "\n",
    "- [AntakIA documentation](https://ai-vidence.github.io/antakia/) - The official documentation of AntakIA\n",
    "- [AntakIA GitHub repository](https://github.com/AI-vidence/antakia/tree/main) - The GitHub repository of AntakIA. Do not forget to __star__ it if you like it!\n",
    "- [AntakIA video tutorials](https://www.youtube.com/@AI-vidence) - The YouTube channel of AI-vidence, with video tutorials on AntakIA!\n",
    "- [AI-vidence's website](https://ai-vidence.com/) - The website of AI-vidence, the company behind AntakIA"
   ]
  },
  {
   "cell_type": "markdown",
   "metadata": {},
   "source": [
    "[Top of Page](#top)\n",
    "<img style=\"float: right;\" src=\"https://raw.githubusercontent.com/AI-vidence/antakia/main/docs/img/Logo-AI-vidence.png\" alt=\"AI-vidence\" width=\"200px\"/> "
   ]
  }
 ],
 "metadata": {
  "kernelspec": {
   "display_name": "antakia-venv",
   "language": "python",
   "name": "antakia-venv"
  },
  "language_info": {
   "codemirror_mode": {
    "name": "ipython",
    "version": 3
   },
   "file_extension": ".py",
   "mimetype": "text/x-python",
   "name": "python",
   "nbconvert_exporter": "python",
   "pygments_lexer": "ipython3",
   "version": "3.10.12"
  }
 },
 "nbformat": 4,
 "nbformat_minor": 4
}
