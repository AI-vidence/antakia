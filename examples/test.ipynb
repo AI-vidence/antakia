{
 "cells": [
  {
   "cell_type": "code",
   "execution_count": 1,
   "metadata": {
    "tags": []
   },
   "outputs": [
    {
     "name": "stdout",
     "output_type": "stream",
     "text": [
      "Running some_func...salut\n",
      "9\n",
      "\n",
      "Finished running some_func.\n",
      "8\n"
     ]
    }
   ],
   "source": [
    "import threading\n",
    "import time\n",
    "\n",
    "def some_func():\n",
    "    print(\"Running some_func...\")\n",
    "    time.sleep(2)\n",
    "    print(\"Finished running some_func.\")\n",
    "\n",
    "thread1 = threading.Thread(target=some_func)\n",
    "thread1.start()\n",
    "print('salut')\n",
    "print(threading.active_count())\n",
    "thread1.join()\n",
    "print(threading.active_count())"
   ]
  }
 ],
 "metadata": {
  "kernelspec": {
   "display_name": "antakia-venv",
   "language": "python",
   "name": "antakia-venv"
  },
  "language_info": {
   "codemirror_mode": {
    "name": "ipython",
    "version": 3
   },
   "file_extension": ".py",
   "mimetype": "text/x-python",
   "name": "python",
   "nbconvert_exporter": "python",
   "pygments_lexer": "ipython3",
   "version": "3.10.12"
  }
 },
 "nbformat": 4,
 "nbformat_minor": 4
}
