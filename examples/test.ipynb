{
 "cells": [
  {
   "cell_type": "code",
   "execution_count": 1,
   "metadata": {
    "tags": []
   },
   "outputs": [],
   "source": [
    "import lime\n",
    "import lime.lime_tabular\n",
    "import time\n",
    "import pandas as pd\n",
    "import numpy as np\n",
    "\n",
    "df = pd.read_csv('../data/california_housing/california_housing.csv')\n",
    "df = df.drop(['Unnamed: 0'], axis=1)\n",
    "df2 = pd.read_csv('../data/california_housing/california_housing.csv')\n",
    "#nombre de maisons à prendre en compte (20k c'est beaucoup trop)\n",
    "# quelques condition pour nettoyer la base de données\n",
    "df = df.loc[df['Population']<10000]\n",
    "df = df.loc[df['AveOccup']<6]\n",
    "df = df.loc[df['AveBedrms']<1.5]\n",
    "df = df.loc[df['HouseAge']<50]\n",
    "\n",
    "# Seulement San Francisco :\n",
    "# Latitude > 37,2\n",
    "# Latitude < 38,07\n",
    "# Longitude > -122,5\n",
    "# Longitude < -121,75\n",
    "\n",
    "df = df.loc[(df['Latitude']<38.07)&(df['Latitude']>37.2)]\n",
    "df = df.loc[(df['Longitude']>-122.5)&(df['Longitude']<-121.75)]\n",
    "\n",
    "save_df = df.copy()\n",
    "\n",
    "N=200\n",
    "n = N/len(df)\n",
    "n=1\n",
    "X_all = df.iloc[:,0:8].copy()\n",
    "df1 = df.sample(frac=n, random_state=14)\n",
    "df1 = df1.reset_index(drop=True)\n",
    "save_df1 = df1.copy()\n",
    "\n",
    "X = df1.iloc[:,0:8]\n",
    "Y = df1.iloc[:,9]\n",
    "\n",
    "X_all = X\n",
    "\n",
    "from sklearn.ensemble import GradientBoostingRegressor\n",
    "model = GradientBoostingRegressor(random_state = 9)\n",
    "model.fit(X, Y)\n",
    "\n",
    "SHAP = df1.iloc[:,[10,11,12,13,14,15,16,17]]"
   ]
  },
  {
   "cell_type": "code",
   "execution_count": 2,
   "metadata": {
    "tags": []
   },
   "outputs": [
    {
     "data": {
      "application/vnd.jupyter.widget-view+json": {
       "model_id": "166f3c59411149f4adc3795adb1f4ece",
       "version_major": 2,
       "version_minor": 0
      },
      "text/plain": [
       "DataTable(headers=[{'text': 'MedInc', 'sortable': True, 'value': 'MedInc'}, {'text': 'HouseAge', 'sortable': T…"
      ]
     },
     "metadata": {},
     "output_type": "display_data"
    }
   ],
   "source": [
    "import antakia\n",
    "\n",
    "dataset = antakia.Dataset(X, model)\n",
    "dataset.improve()"
   ]
  }
 ],
 "metadata": {
  "kernelspec": {
   "display_name": "Python 3 (ipykernel)",
   "language": "python",
   "name": "python3"
  },
  "language_info": {
   "codemirror_mode": {
    "name": "ipython",
    "version": 3
   },
   "file_extension": ".py",
   "mimetype": "text/x-python",
   "name": "python",
   "nbconvert_exporter": "python",
   "pygments_lexer": "ipython3",
   "version": "3.10.12"
  }
 },
 "nbformat": 4,
 "nbformat_minor": 4
}
