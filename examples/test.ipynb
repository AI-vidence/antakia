{
 "cells": [
  {
   "cell_type": "code",
   "execution_count": 4,
   "metadata": {},
   "outputs": [
    {
     "name": "stdout",
     "output_type": "stream",
     "text": [
      "Help on function __init__ in module antakia.antakia:\n",
      "\n",
      "__init__(self, X: pandas.core.frame.DataFrame, Y: pandas.core.series.Series = None, model: object = None)\n",
      "    Constructor of the class Xplainer.\n",
      "    \n",
      "    Parameter\n",
      "    ---------\n",
      "    X : pandas dataframe\n",
      "        The dataframe containing the data to explain.\n",
      "    Y : pandas series\n",
      "        The series containing the target variable of the data to explain.\n",
      "    model : object\n",
      "        The model used to explain the data.\n",
      "        The only thing necessary for the model is that it has a method model.fit(X,Y) and model.predict(X) that takes as input a dataframe X and returns a series of predictions.\n",
      "    \n",
      "    Returns\n",
      "    -------\n",
      "    Xplainer object\n",
      "        An Xplainer object.\n",
      "\n"
     ]
    }
   ],
   "source": [
    "import antakia\n",
    "\n",
    "help(antakia.Xplainer.__init__)"
   ]
  }
 ],
 "metadata": {
  "kernelspec": {
   "display_name": "antakia",
   "language": "python",
   "name": "python3"
  },
  "language_info": {
   "codemirror_mode": {
    "name": "ipython",
    "version": 3
   },
   "file_extension": ".py",
   "mimetype": "text/x-python",
   "name": "python",
   "nbconvert_exporter": "python",
   "pygments_lexer": "ipython3",
   "version": "3.10.12"
  },
  "orig_nbformat": 4
 },
 "nbformat": 4,
 "nbformat_minor": 2
}
