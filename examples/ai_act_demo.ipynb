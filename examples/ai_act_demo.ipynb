{
 "cells": [
  {
   "cell_type": "code",
   "execution_count": 1,
   "metadata": {
    "ExecuteTime": {
     "end_time": "2023-11-30T14:24:05.957714Z",
     "start_time": "2023-11-30T14:24:00.828993Z"
    }
   },
   "outputs": [],
   "source": [
    "import pandas as pd\n",
    "import catboost\n",
    "\n",
    "from antakia.antakia import AntakIA\n"
   ]
  },
  {
   "cell_type": "code",
   "execution_count": 2,
   "metadata": {
    "ExecuteTime": {
     "end_time": "2023-11-30T14:24:06.013570Z",
     "start_time": "2023-11-30T14:24:05.959950Z"
    },
    "collapsed": false,
    "jupyter": {
     "outputs_hidden": false
    }
   },
   "outputs": [],
   "source": [
    "X_train = pd.read_csv('../data/ai_act_demo/x_train.csv').drop('Unnamed: 0', axis=1)\n",
    "X_test = pd.read_csv('../data/ai_act_demo/x_test.csv').drop('Unnamed: 0', axis=1)\n",
    "y_train = pd.read_csv('../data/ai_act_demo/y_train.csv').drop('Unnamed: 0', axis=1)\n",
    "y_test = pd.read_csv('../data/ai_act_demo/y_test.csv').drop('Unnamed: 0', axis=1)"
   ]
  },
  {
   "cell_type": "code",
   "execution_count": 3,
   "metadata": {
    "ExecuteTime": {
     "end_time": "2023-11-30T14:24:07.626339Z",
     "start_time": "2023-11-30T14:24:06.028270Z"
    },
    "collapsed": false,
    "jupyter": {
     "outputs_hidden": false
    }
   },
   "outputs": [
    {
     "data": {
      "text/plain": [
       "<catboost.core.CatBoostRegressor at 0x282c02c50>"
      ]
     },
     "execution_count": 3,
     "metadata": {},
     "output_type": "execute_result"
    }
   ],
   "source": [
    "model = catboost.CatBoostRegressor(max_depth=5)\n",
    "model.fit(X_train, y_train, verbose=False)"
   ]
  },
  {
   "cell_type": "code",
   "execution_count": 4,
   "metadata": {
    "ExecuteTime": {
     "end_time": "2023-11-30T14:24:37.266548Z",
     "start_time": "2023-11-30T14:24:08.643860Z"
    },
    "collapsed": false,
    "jupyter": {
     "outputs_hidden": false
    }
   },
   "outputs": [
    {
     "data": {
      "application/vnd.jupyter.widget-view+json": {
       "model_id": "2e970a751b7c41da8d5b4c844dee8c07",
       "version_major": 2,
       "version_minor": 0
      },
      "text/plain": [
       "Layout(children=[Image(value=b'\\x89PNG\\r\\n\\x1a\\n\\x00\\x00\\x00\\rIHDR\\x00\\x00\\t2\\x00\\x00\\n\\xd5\\x08\\x06\\x00\\x00\\x0…"
      ]
     },
     "metadata": {},
     "output_type": "display_data"
    },
    {
     "ename": "KeyError",
     "evalue": "None",
     "output_type": "error",
     "traceback": [
      "\u001b[0;31m---------------------------------------------------------------------------\u001b[0m",
      "\u001b[0;31mKeyError\u001b[0m                                  Traceback (most recent call last)",
      "\u001b[1;32m/Users/laurent/Documents/antakia/examples/ai_act_demo.ipynb Cellule 4\u001b[0m line \u001b[0;36m2\n\u001b[1;32m      <a href='vscode-notebook-cell:/Users/laurent/Documents/antakia/examples/ai_act_demo.ipynb#W3sZmlsZQ%3D%3D?line=0'>1</a>\u001b[0m atk \u001b[39m=\u001b[39m AntakIA(X_train, y_train, model)\n\u001b[0;32m----> <a href='vscode-notebook-cell:/Users/laurent/Documents/antakia/examples/ai_act_demo.ipynb#W3sZmlsZQ%3D%3D?line=1'>2</a>\u001b[0m atk\u001b[39m.\u001b[39;49mstart_gui()\n",
      "File \u001b[0;32m~/Documents/antakia/antakia/antakia.py:81\u001b[0m, in \u001b[0;36mAntakIA.start_gui\u001b[0;34m(self)\u001b[0m\n\u001b[1;32m     80\u001b[0m \u001b[39mdef\u001b[39;00m \u001b[39mstart_gui\u001b[39m(\u001b[39mself\u001b[39m) \u001b[39m-\u001b[39m\u001b[39m>\u001b[39m GUI:\n\u001b[0;32m---> 81\u001b[0m     \u001b[39mreturn\u001b[39;00m GUI(\u001b[39mself\u001b[39;49m\u001b[39m.\u001b[39;49mX, \u001b[39mself\u001b[39;49m\u001b[39m.\u001b[39;49my, \u001b[39mself\u001b[39;49m\u001b[39m.\u001b[39;49mmodel, \u001b[39mself\u001b[39;49m\u001b[39m.\u001b[39;49mvariables, \u001b[39mself\u001b[39;49m\u001b[39m.\u001b[39;49mX_exp, \u001b[39mself\u001b[39;49m\u001b[39m.\u001b[39;49mscore)\u001b[39m.\u001b[39;49mshow_splash_screen()\n",
      "File \u001b[0;32m~/Documents/antakia/antakia/gui/gui.py:152\u001b[0m, in \u001b[0;36mGUI.show_splash_screen\u001b[0;34m(self)\u001b[0m\n\u001b[1;32m    149\u001b[0m     get_widget(splash_widget, \u001b[39m\"\u001b[39m\u001b[39m120\u001b[39m\u001b[39m\"\u001b[39m)\u001b[39m.\u001b[39mv_model \u001b[39m=\u001b[39m \u001b[39m\"\u001b[39m\u001b[39mImported values\u001b[39m\u001b[39m\"\u001b[39m\n\u001b[1;32m    151\u001b[0m \u001b[39m# THen we trigger ES proj computation :\u001b[39;00m\n\u001b[0;32m--> 152\u001b[0m \u001b[39mself\u001b[39;49m\u001b[39m.\u001b[39;49mes_hde\u001b[39m.\u001b[39;49mcompute_projs(\u001b[39mFalse\u001b[39;49;00m, \u001b[39mself\u001b[39;49m\u001b[39m.\u001b[39;49mupdate_splash_screen)\n\u001b[1;32m    154\u001b[0m splash_widget\u001b[39m.\u001b[39mclose()\n\u001b[1;32m    156\u001b[0m \u001b[39mself\u001b[39m\u001b[39m.\u001b[39mshow_app()\n",
      "File \u001b[0;32m~/Documents/antakia/antakia/gui/highdimexplorer.py:293\u001b[0m, in \u001b[0;36mHighDimExplorer.compute_projs\u001b[0;34m(self, params_changed, callback)\u001b[0m\n\u001b[1;32m    290\u001b[0m     kwargs \u001b[39m=\u001b[39m {}\n\u001b[1;32m    292\u001b[0m \u001b[39mif\u001b[39;00m projected_dots_2D \u001b[39mis\u001b[39;00m \u001b[39mNone\u001b[39;00m \u001b[39mor\u001b[39;00m params_changed:\n\u001b[0;32m--> 293\u001b[0m     \u001b[39mself\u001b[39;49m\u001b[39m.\u001b[39;49mpv_dict[\u001b[39mself\u001b[39;49m\u001b[39m.\u001b[39;49mcurrent_pv]\u001b[39m.\u001b[39mset_proj_values(\n\u001b[1;32m    294\u001b[0m         \u001b[39mself\u001b[39m\u001b[39m.\u001b[39m_get_projection_method(),\n\u001b[1;32m    295\u001b[0m         \u001b[39m2\u001b[39m,\n\u001b[1;32m    296\u001b[0m         compute_projection(\n\u001b[1;32m    297\u001b[0m             \u001b[39mself\u001b[39m\u001b[39m.\u001b[39mpv_dict[\u001b[39mself\u001b[39m\u001b[39m.\u001b[39mcurrent_pv]\u001b[39m.\u001b[39mX,\n\u001b[1;32m    298\u001b[0m             \u001b[39mself\u001b[39m\u001b[39m.\u001b[39m_y,\n\u001b[1;32m    299\u001b[0m             \u001b[39mself\u001b[39m\u001b[39m.\u001b[39m_get_projection_method(),\n\u001b[1;32m    300\u001b[0m             \u001b[39m2\u001b[39m,\n\u001b[1;32m    301\u001b[0m             callback,\n\u001b[1;32m    302\u001b[0m             \u001b[39m*\u001b[39m\u001b[39m*\u001b[39mkwargs\n\u001b[1;32m    303\u001b[0m         ),\n\u001b[1;32m    304\u001b[0m     )\n\u001b[1;32m    306\u001b[0m     \u001b[39mself\u001b[39m\u001b[39m.\u001b[39mredraw_figure(\u001b[39mself\u001b[39m\u001b[39m.\u001b[39mfigure_2D)\n\u001b[1;32m    308\u001b[0m \u001b[39mif\u001b[39;00m projected_dots_3D \u001b[39mis\u001b[39;00m \u001b[39mNone\u001b[39;00m \u001b[39mor\u001b[39;00m params_changed:\n",
      "\u001b[0;31mKeyError\u001b[0m: None"
     ]
    }
   ],
   "source": [
    "atk = AntakIA(X_train, y_train, model)\n",
    "atk.start_gui()"
   ]
  }
 ],
 "metadata": {
  "kernelspec": {
   "display_name": "Python 3 (ipykernel)",
   "language": "python",
   "name": "python3"
  },
  "language_info": {
   "codemirror_mode": {
    "name": "ipython",
    "version": 3
   },
   "file_extension": ".py",
   "mimetype": "text/x-python",
   "name": "python",
   "nbconvert_exporter": "python",
   "pygments_lexer": "ipython3",
   "version": "3.11.6"
  }
 },
 "nbformat": 4,
 "nbformat_minor": 4
}
