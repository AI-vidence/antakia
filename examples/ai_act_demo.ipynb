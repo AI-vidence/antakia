{
 "cells": [
  {
   "cell_type": "markdown",
   "metadata": {},
   "source": [
    "# ANTAKIA : A New Tool to Aquire Knowledge form AI"
   ]
  },
  {
   "cell_type": "code",
   "execution_count": 1,
   "metadata": {
    "ExecuteTime": {
     "end_time": "2023-11-30T14:24:05.957714Z",
     "start_time": "2023-11-30T14:24:00.828993Z"
    }
   },
   "outputs": [],
   "source": [
    "import pandas as pd\n",
    "import catboost\n",
    "\n",
    "from antakia.antakia import AntakIA\n"
   ]
  },
  {
   "cell_type": "code",
   "execution_count": 2,
   "metadata": {
    "ExecuteTime": {
     "end_time": "2023-11-30T14:24:06.013570Z",
     "start_time": "2023-11-30T14:24:05.959950Z"
    }
   },
   "outputs": [],
   "source": [
    "X_train = pd.read_csv('../data/ai_act_demo/x_train.csv').drop('Unnamed: 0', axis=1)\n",
    "X_test = pd.read_csv('../data/ai_act_demo/x_test.csv').drop('Unnamed: 0', axis=1)\n",
    "y_train = pd.read_csv('../data/ai_act_demo/y_train.csv').drop('Unnamed: 0', axis=1)\n",
    "y_test = pd.read_csv('../data/ai_act_demo/y_test.csv').drop('Unnamed: 0', axis=1)"
   ]
  },
  {
   "cell_type": "markdown",
   "metadata": {},
   "source": [
    "### Training a Catboost Model"
   ]
  },
  {
   "cell_type": "code",
   "execution_count": 3,
   "metadata": {
    "ExecuteTime": {
     "end_time": "2023-11-30T14:24:07.626339Z",
     "start_time": "2023-11-30T14:24:06.028270Z"
    },
    "collapsed": false,
    "jupyter": {
     "outputs_hidden": false
    }
   },
   "outputs": [
    {
     "data": {
      "text/plain": [
       "<catboost.core.CatBoostRegressor at 0x17b1001f0>"
      ]
     },
     "execution_count": 3,
     "metadata": {},
     "output_type": "execute_result"
    }
   ],
   "source": [
    "model = catboost.CatBoostRegressor(max_depth=5)\n",
    "model.fit(X_train, y_train, verbose=False)"
   ]
  },
  {
   "cell_type": "code",
   "execution_count": 4,
   "metadata": {},
   "outputs": [
    {
     "name": "stdout",
     "output_type": "stream",
     "text": [
      "MAE 0.16131833026655942\n",
      "MSE 0.04030427129576947\n",
      "R2 0.27565541750656297\n"
     ]
    }
   ],
   "source": [
    "from sklearn.metrics import mean_absolute_error, mean_squared_error, r2_score\n",
    "y_pred = model.predict(X_test)\n",
    "print('MAE', mean_absolute_error(y_test, y_pred))\n",
    "print('MSE', mean_squared_error(y_test, y_pred))\n",
    "print('R2', r2_score(y_test, y_pred))"
   ]
  },
  {
   "cell_type": "markdown",
   "metadata": {},
   "source": [
    "### Train an Explainable Model "
   ]
  },
  {
   "cell_type": "code",
   "execution_count": 5,
   "metadata": {},
   "outputs": [
    {
     "data": {
      "text/html": [
       "<style>#sk-container-id-1 {color: black;}#sk-container-id-1 pre{padding: 0;}#sk-container-id-1 div.sk-toggleable {background-color: white;}#sk-container-id-1 label.sk-toggleable__label {cursor: pointer;display: block;width: 100%;margin-bottom: 0;padding: 0.3em;box-sizing: border-box;text-align: center;}#sk-container-id-1 label.sk-toggleable__label-arrow:before {content: \"▸\";float: left;margin-right: 0.25em;color: #696969;}#sk-container-id-1 label.sk-toggleable__label-arrow:hover:before {color: black;}#sk-container-id-1 div.sk-estimator:hover label.sk-toggleable__label-arrow:before {color: black;}#sk-container-id-1 div.sk-toggleable__content {max-height: 0;max-width: 0;overflow: hidden;text-align: left;background-color: #f0f8ff;}#sk-container-id-1 div.sk-toggleable__content pre {margin: 0.2em;color: black;border-radius: 0.25em;background-color: #f0f8ff;}#sk-container-id-1 input.sk-toggleable__control:checked~div.sk-toggleable__content {max-height: 200px;max-width: 100%;overflow: auto;}#sk-container-id-1 input.sk-toggleable__control:checked~label.sk-toggleable__label-arrow:before {content: \"▾\";}#sk-container-id-1 div.sk-estimator input.sk-toggleable__control:checked~label.sk-toggleable__label {background-color: #d4ebff;}#sk-container-id-1 div.sk-label input.sk-toggleable__control:checked~label.sk-toggleable__label {background-color: #d4ebff;}#sk-container-id-1 input.sk-hidden--visually {border: 0;clip: rect(1px 1px 1px 1px);clip: rect(1px, 1px, 1px, 1px);height: 1px;margin: -1px;overflow: hidden;padding: 0;position: absolute;width: 1px;}#sk-container-id-1 div.sk-estimator {font-family: monospace;background-color: #f0f8ff;border: 1px dotted black;border-radius: 0.25em;box-sizing: border-box;margin-bottom: 0.5em;}#sk-container-id-1 div.sk-estimator:hover {background-color: #d4ebff;}#sk-container-id-1 div.sk-parallel-item::after {content: \"\";width: 100%;border-bottom: 1px solid gray;flex-grow: 1;}#sk-container-id-1 div.sk-label:hover label.sk-toggleable__label {background-color: #d4ebff;}#sk-container-id-1 div.sk-serial::before {content: \"\";position: absolute;border-left: 1px solid gray;box-sizing: border-box;top: 0;bottom: 0;left: 50%;z-index: 0;}#sk-container-id-1 div.sk-serial {display: flex;flex-direction: column;align-items: center;background-color: white;padding-right: 0.2em;padding-left: 0.2em;position: relative;}#sk-container-id-1 div.sk-item {position: relative;z-index: 1;}#sk-container-id-1 div.sk-parallel {display: flex;align-items: stretch;justify-content: center;background-color: white;position: relative;}#sk-container-id-1 div.sk-item::before, #sk-container-id-1 div.sk-parallel-item::before {content: \"\";position: absolute;border-left: 1px solid gray;box-sizing: border-box;top: 0;bottom: 0;left: 50%;z-index: -1;}#sk-container-id-1 div.sk-parallel-item {display: flex;flex-direction: column;z-index: 1;position: relative;background-color: white;}#sk-container-id-1 div.sk-parallel-item:first-child::after {align-self: flex-end;width: 50%;}#sk-container-id-1 div.sk-parallel-item:last-child::after {align-self: flex-start;width: 50%;}#sk-container-id-1 div.sk-parallel-item:only-child::after {width: 0;}#sk-container-id-1 div.sk-dashed-wrapped {border: 1px dashed gray;margin: 0 0.4em 0.5em 0.4em;box-sizing: border-box;padding-bottom: 0.4em;background-color: white;}#sk-container-id-1 div.sk-label label {font-family: monospace;font-weight: bold;display: inline-block;line-height: 1.2em;}#sk-container-id-1 div.sk-label-container {text-align: center;}#sk-container-id-1 div.sk-container {/* jupyter's `normalize.less` sets `[hidden] { display: none; }` but bootstrap.min.css set `[hidden] { display: none !important; }` so we also need the `!important` here to be able to override the default hidden behavior on the sphinx rendered scikit-learn.org. See: https://github.com/scikit-learn/scikit-learn/issues/21755 */display: inline-block !important;position: relative;}#sk-container-id-1 div.sk-text-repr-fallback {display: none;}</style><div id=\"sk-container-id-1\" class=\"sk-top-container\"><div class=\"sk-text-repr-fallback\"><pre>LinearRegression()</pre><b>In a Jupyter environment, please rerun this cell to show the HTML representation or trust the notebook. <br />On GitHub, the HTML representation is unable to render, please try loading this page with nbviewer.org.</b></div><div class=\"sk-container\" hidden><div class=\"sk-item\"><div class=\"sk-estimator sk-toggleable\"><input class=\"sk-toggleable__control sk-hidden--visually\" id=\"sk-estimator-id-1\" type=\"checkbox\" checked><label for=\"sk-estimator-id-1\" class=\"sk-toggleable__label sk-toggleable__label-arrow\">LinearRegression</label><div class=\"sk-toggleable__content\"><pre>LinearRegression()</pre></div></div></div></div></div>"
      ],
      "text/plain": [
       "LinearRegression()"
      ]
     },
     "execution_count": 5,
     "metadata": {},
     "output_type": "execute_result"
    }
   ],
   "source": [
    "from sklearn.linear_model import LinearRegression\n",
    "exp_model = LinearRegression()\n",
    "exp_model.fit(X_train, y_train)"
   ]
  },
  {
   "cell_type": "code",
   "execution_count": 6,
   "metadata": {},
   "outputs": [
    {
     "name": "stdout",
     "output_type": "stream",
     "text": [
      "MAE 0.17351676748010572\n",
      "MSE 0.04516496467551821\n",
      "R2 0.1882994921023916\n"
     ]
    }
   ],
   "source": [
    "from sklearn.metrics import mean_absolute_error, mean_squared_error, r2_score\n",
    "y_pred = exp_model.predict(X_test)\n",
    "print('MAE', mean_absolute_error(y_test, y_pred))\n",
    "print('MSE', mean_squared_error(y_test, y_pred))\n",
    "print('R2', r2_score(y_test, y_pred))"
   ]
  },
  {
   "cell_type": "code",
   "execution_count": 7,
   "metadata": {
    "ExecuteTime": {
     "end_time": "2023-11-30T14:24:37.266548Z",
     "start_time": "2023-11-30T14:24:08.643860Z"
    },
    "collapsed": false,
    "jupyter": {
     "outputs_hidden": false
    }
   },
   "outputs": [
    {
     "data": {
      "application/vnd.jupyter.widget-view+json": {
       "model_id": "",
       "version_major": 2,
       "version_minor": 0
      },
      "text/plain": [
       "Layout(children=[Image(value=b'\\x89PNG\\r\\n\\x1a\\n\\x00\\x00\\x00\\rIHDR\\x00\\x00\\t2\\x00\\x00\\n\\xd5\\x08\\x06\\x00\\x00\\x0…"
      ]
     },
     "metadata": {},
     "output_type": "display_data"
    },
    {
     "data": {
      "application/vnd.jupyter.widget-view+json": {
       "model_id": "9b2da5da0e6e42a5837616f83532d0f3",
       "version_major": 2,
       "version_minor": 0
      },
      "text/plain": [
       "Col(children=[AppBar(children=[Layout(children=[Image(value=b'\\x89PNG\\r\\n\\x1a\\n\\x00\\x00\\x00\\rIHDR\\x00\\x00\\x04\\…"
      ]
     },
     "metadata": {},
     "output_type": "display_data"
    }
   ],
   "source": [
    "atk = AntakIA(X_train.iloc[:5000,:], y_train.iloc[:5000,:], model)\n",
    "atk.start_gui()"
   ]
  },
  {
   "cell_type": "markdown",
   "metadata": {},
   "source": [
    "causes_ges_forets ≤ 4.5, moyenne_action_individuelle ≥ 0.5, cause_changement_climatique ≤ 0.5\n",
    "y_moy = 0.57\n",
    "\n",
    "sympathie_ecologie ≤ 1.5, moyenne_action_individuelle ≥ 0.833, cause_changement_climatique ≥ 0.5\n",
    "y_moy = 0.61\n",
    "\n",
    "sympathie_ecologie ≥ 1.5, mediatisation ≤ 2.5, cause_changement_climatique ≥ 0.5\n",
    "y_moy = 0.69\n",
    "\n",
    "sympathie_ecologie ≥ 1.5, mediatisation ≥ 2.5, cause_changement_climatique ≥ 0.5\n",
    "y_moy = 0.75\n",
    "\n",
    "causes_ges_transports ≤ 3.5, sympathie_ecologie ≥ 1.5, moyenne_action_individuelle ≤ 0.5\n",
    "y_moy = 0.76"
   ]
  },
  {
   "cell_type": "markdown",
   "metadata": {},
   "source": [
    "# Proposition de déroulé\n",
    "## présentation de l'outil et son objectif :\n",
    "- on cherche à mettre en évidence des segments dans les données avec des comportements similaires, qu'on pourra utiliser ensuite, soit d'un point de vue marketing soit pour mettre en place des modèles simples/interprétable de prédiction des données\n",
    "- dans tous les cas cette analyse nous permettra de mieux comprendre nos données/la population à qui on a affaire\n",
    "- elle sinscrit en complément à une EDA (Exploratory data analysis)\n",
    "\n",
    "## déroulé du notebook :\n",
    "- executer toutes les cellules (on se limite pour l'instant à 5K points (sinon changer la variable d'env))\n",
    "\n",
    "### présentation des deux espaces,\n",
    "- à gauche ce sont les données projetées en deux dimension, avec une petite cuisine maison,\n",
    "- à droite, la même chose pour les valeur de shapley\n",
    "\n",
    "Nous avons donc l'espace de Valeurs, et l'espace des Explications, \n",
    "\n",
    "une petite analogie, à gauche, ce sont les données telles que nous les voyons, à droite, telles que le modèle les voit, telles qu'elles influent sur le résultat.\n",
    "\n",
    "La couleur, c'est la valeur de la variable cible. on voit ici une forte inhomogénéité de cette valeur, c'est assez fréquent dans les données de comportement humain, où le bruit est assez élévé vis à vis de la tendance. \n",
    "\n",
    "^y : on voit au contraire ici que les couleurs sont beaucoup plus lisses, c'est plutot un bon signe, signe que le modèle a appris la tendance, pas le bruit\n",
    "\n",
    "résidus : on retrouve notre bruit ici, c'est cohérent avec nos observations précédentes\n",
    "\n",
    "### mise en place des règles :\n",
    "- on selectionne un paté de données, puis on regarde en détail la règle qui en ressort\n",
    "- on modifie la règle et on regarde en quoi ça inclus d'autres points / patés de points\n",
    "- on valide la règle\n",
    "- on peut recommencer avec une autre règle dans l'ES ?? si oui il faut être clair de ce qu'on fait (valider le bon fonctionnement avant)\n",
    "\n",
    "### régionalisation :\n",
    "- on demande à l'algo de clustériser le reste (en taille auto c'est très bien)\n",
    "- on peut refaire avec d'autres nombres de régions\n",
    "- blabla sur les règles qui en ressortent (même si on en les voit pas)\n",
    "\n",
    "### substitution : \n",
    "- on passe à l'étape substitution, on parcours un peu les modèles proposés,\n",
    "- on voit que certains modèles marchent bien, d'autres très mal, on choisit le meilleur qui n'est le custom\n",
    "- on attire l'attention de l'auditoire que pour l'instant la comparaison n'est pas à l'avantage des modèles explicables parce que le jeu de test de ces modèles est en fait un jeu d'entrainement du modèle custom. "
   ]
  },
  {
   "cell_type": "code",
   "execution_count": null,
   "metadata": {},
   "outputs": [],
   "source": []
  },
  {
   "cell_type": "code",
   "execution_count": null,
   "metadata": {},
   "outputs": [],
   "source": []
  }
 ],
 "metadata": {
  "kernelspec": {
   "display_name": "Python 3 (ipykernel)",
   "language": "python",
   "name": "python3"
  },
  "language_info": {
   "codemirror_mode": {
    "name": "ipython",
    "version": 3
   },
   "file_extension": ".py",
   "mimetype": "text/x-python",
   "name": "python",
   "nbconvert_exporter": "python",
   "pygments_lexer": "ipython3",
   "version": "3.11.6"
  }
 },
 "nbformat": 4,
 "nbformat_minor": 4
}
