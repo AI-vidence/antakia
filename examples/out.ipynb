{
 "cells": [
  {
   "cell_type": "code",
   "execution_count": 14,
   "metadata": {},
   "outputs": [],
   "source": [
    "import out"
   ]
  },
  {
   "cell_type": "code",
   "execution_count": 15,
   "metadata": {},
   "outputs": [
    {
     "data": {
      "application/vnd.jupyter.widget-view+json": {
       "model_id": "f9c5fdfc91344bbea592a4690560ee62",
       "version_major": 2,
       "version_minor": 0
      },
      "text/plain": [
       "Container(children=[Html(children=['Hello World'], layout=None, tag='h1')], class_='blue', layout=None)"
      ]
     },
     "metadata": {},
     "output_type": "display_data"
    },
    {
     "data": {
      "application/vnd.jupyter.widget-view+json": {
       "model_id": "a6c18d18bf964239ab3aa4c6442055f0",
       "version_major": 2,
       "version_minor": 0
      },
      "text/plain": [
       "Container(children=[Html(children=['Hello Planet'], layout=None, tag='h1')], class_='green', layout=None)"
      ]
     },
     "metadata": {},
     "output_type": "display_data"
    }
   ],
   "source": [
    "out.display(out.a)\n",
    "out.display(out.b)"
   ]
  },
  {
   "cell_type": "code",
   "execution_count": 16,
   "metadata": {},
   "outputs": [],
   "source": [
    "# out.hide(out.a)\n",
    "out.show(out.b)"
   ]
  }
 ],
 "metadata": {
  "kernelspec": {
   "display_name": "antakia-h8886QrC-py3.11",
   "language": "python",
   "name": "python3"
  },
  "language_info": {
   "codemirror_mode": {
    "name": "ipython",
    "version": 3
   },
   "file_extension": ".py",
   "mimetype": "text/x-python",
   "name": "python",
   "nbconvert_exporter": "python",
   "pygments_lexer": "ipython3",
   "version": "3.11.6"
  }
 },
 "nbformat": 4,
 "nbformat_minor": 2
}
